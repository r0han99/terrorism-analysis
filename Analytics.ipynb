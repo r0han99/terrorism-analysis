{
 "cells": [
  {
   "cell_type": "markdown",
   "metadata": {},
   "source": [
    "### Exploratory Data Analysis\n",
    "***\n",
    "This part of the notebook is organised or worked out sequencitially like a pipe line where data gets modulated and plotted into variaous graphs to derive insights"
   ]
  },
  {
   "cell_type": "code",
   "execution_count": 149,
   "metadata": {},
   "outputs": [],
   "source": [
    "# Data Libraries \n",
    "import pandas as pd \n",
    "import numpy as np\n",
    "\n",
    "# plotting libraries \n",
    "import matplotlib.pyplot as plt \n",
    "import plotly.graph_objects as go\n",
    "import seaborn as sns\n",
    "\n",
    "# ignore warnings \n",
    "import warnings \n",
    "warnings.filterwarnings(\"ignore\", category=DeprecationWarning)"
   ]
  },
  {
   "cell_type": "code",
   "execution_count": 2,
   "metadata": {},
   "outputs": [],
   "source": [
    "# data path \n",
    "# MacOS\n",
    "abspath = './Data/Data.csv'\n",
    "metadata = './Data/terrorism_metadata.csv'\n",
    "# Windows \n",
    "# abspath = None\n",
    "# metadata = None"
   ]
  },
  {
   "cell_type": "code",
   "execution_count": 3,
   "metadata": {},
   "outputs": [
    {
     "data": {
      "text/plain": [
       "{'eventid': 'Unique id for each event',\n",
       " 'iyear': 'Year of incident',\n",
       " 'imonth': 'Month of incident',\n",
       " 'iday': 'Numeric day on which the incident occurred.',\n",
       " 'extended': 'Yes/No for for whether the incedent extended for more than 24 hours.',\n",
       " 'country': 'Country code',\n",
       " 'country_txt': 'Country where the incident took place',\n",
       " 'region ': 'Region code based on 12 regions.',\n",
       " 'region_txt': 'Region in which the incident occurred',\n",
       " 'city': 'Name of the city/village/town in which the incident took place.',\n",
       " 'provstate': 'Name of the first order subnational region during the time of the event',\n",
       " 'latitude': 'Coordinate',\n",
       " 'longitude': 'Coordinate',\n",
       " 'location': '*Exact* location where the incident took place',\n",
       " 'summary': 'synopsis',\n",
       " 'success': 'Yes/No for the success of the terrorist strike',\n",
       " 'suicide': 'Yes/No for whether the attack was a suicide attack',\n",
       " 'attacktype1_txt': 'The general method of attack/ the tactics used.',\n",
       " 'targettype1_txt': 'The general category of victim of the attack.',\n",
       " 'targetsubtype1_txt': 'More specific target category.',\n",
       " 'corp1': 'Victim corporation.',\n",
       " 'target1': 'The specific person, building, instasllation that was targeted/ victimized.',\n",
       " 'natlty1 ': 'Nationality code of the target that was attacked.',\n",
       " 'natlty1_txt': 'Nationality of the target that was attacked.',\n",
       " 'gname': 'Name of the group that carried out the attack.',\n",
       " 'motive': 'Motive of the attack.',\n",
       " 'npreps': 'Total number of terrorists that carried out the attack.',\n",
       " 'weaptype1': 'Weapon code.',\n",
       " 'weaptype1_txt': 'General type of the weapon used in the incident.',\n",
       " 'nkill': 'Total number of confirmed kills in the incident.',\n",
       " 'propextent': 'Extent to which the property was lost due to the incident. 2 = Major i.e. greater that 1 million and less than 1 billion, 3 = Minor i.e. less that 1 million, '}"
      ]
     },
     "execution_count": 3,
     "metadata": {},
     "output_type": "execute_result"
    }
   ],
   "source": [
    "# Functional Meta-Data --> usage - meta_data['column-name']\n",
    "meta = pd.read_csv(metadata)\n",
    "meta = meta.drop(meta.columns[2:],axis=1)\n",
    "meta_data = {}\n",
    "for x,y in zip(list(meta['Column']),list(meta['Desc'])):\n",
    "    meta_data[x] = y\n",
    "\n",
    "meta_data"
   ]
  },
  {
   "cell_type": "code",
   "execution_count": 4,
   "metadata": {},
   "outputs": [],
   "source": [
    "# data encoding = latin1\n",
    "data = pd.read_csv(abspath,encoding='latin1',low_memory=False)"
   ]
  },
  {
   "cell_type": "code",
   "execution_count": 5,
   "metadata": {},
   "outputs": [],
   "source": [
    "data = data.drop('Unnamed: 0',axis=1) # dropping the redundant column"
   ]
  },
  {
   "cell_type": "code",
   "execution_count": 6,
   "metadata": {},
   "outputs": [
    {
     "data": {
      "text/html": [
       "<div>\n",
       "<style scoped>\n",
       "    .dataframe tbody tr th:only-of-type {\n",
       "        vertical-align: middle;\n",
       "    }\n",
       "\n",
       "    .dataframe tbody tr th {\n",
       "        vertical-align: top;\n",
       "    }\n",
       "\n",
       "    .dataframe thead th {\n",
       "        text-align: right;\n",
       "    }\n",
       "</style>\n",
       "<table border=\"1\" class=\"dataframe\">\n",
       "  <thead>\n",
       "    <tr style=\"text-align: right;\">\n",
       "      <th></th>\n",
       "      <th>eventid</th>\n",
       "      <th>iyear</th>\n",
       "      <th>imonth</th>\n",
       "      <th>iday</th>\n",
       "      <th>extended</th>\n",
       "      <th>country</th>\n",
       "      <th>country_txt</th>\n",
       "      <th>region</th>\n",
       "      <th>region_txt</th>\n",
       "      <th>city</th>\n",
       "      <th>...</th>\n",
       "      <th>target1</th>\n",
       "      <th>natlty1</th>\n",
       "      <th>natlty1_txt</th>\n",
       "      <th>gname</th>\n",
       "      <th>motive</th>\n",
       "      <th>nperps</th>\n",
       "      <th>weaptype1</th>\n",
       "      <th>weaptype1_txt</th>\n",
       "      <th>nkill</th>\n",
       "      <th>propextent</th>\n",
       "    </tr>\n",
       "  </thead>\n",
       "  <tbody>\n",
       "    <tr>\n",
       "      <th>0</th>\n",
       "      <td>197000000001</td>\n",
       "      <td>1970</td>\n",
       "      <td>7</td>\n",
       "      <td>2</td>\n",
       "      <td>0</td>\n",
       "      <td>58</td>\n",
       "      <td>Dominican Republic</td>\n",
       "      <td>2</td>\n",
       "      <td>Central America &amp; Caribbean</td>\n",
       "      <td>Santo Domingo</td>\n",
       "      <td>...</td>\n",
       "      <td>Julio Guzman</td>\n",
       "      <td>58.0</td>\n",
       "      <td>Dominican Republic</td>\n",
       "      <td>MANO-D</td>\n",
       "      <td>Unknown</td>\n",
       "      <td>NaN</td>\n",
       "      <td>13</td>\n",
       "      <td>Unknown</td>\n",
       "      <td>1.0</td>\n",
       "      <td>NaN</td>\n",
       "    </tr>\n",
       "    <tr>\n",
       "      <th>1</th>\n",
       "      <td>197000000002</td>\n",
       "      <td>1970</td>\n",
       "      <td>0</td>\n",
       "      <td>0</td>\n",
       "      <td>0</td>\n",
       "      <td>130</td>\n",
       "      <td>Mexico</td>\n",
       "      <td>1</td>\n",
       "      <td>North America</td>\n",
       "      <td>Mexico city</td>\n",
       "      <td>...</td>\n",
       "      <td>Nadine Chaval, daughter</td>\n",
       "      <td>21.0</td>\n",
       "      <td>Belgium</td>\n",
       "      <td>23rd of September Communist League</td>\n",
       "      <td>Unknown</td>\n",
       "      <td>7.0</td>\n",
       "      <td>13</td>\n",
       "      <td>Unknown</td>\n",
       "      <td>0.0</td>\n",
       "      <td>NaN</td>\n",
       "    </tr>\n",
       "    <tr>\n",
       "      <th>2</th>\n",
       "      <td>197001000001</td>\n",
       "      <td>1970</td>\n",
       "      <td>1</td>\n",
       "      <td>0</td>\n",
       "      <td>0</td>\n",
       "      <td>160</td>\n",
       "      <td>Philippines</td>\n",
       "      <td>5</td>\n",
       "      <td>Southeast Asia</td>\n",
       "      <td>Unknown</td>\n",
       "      <td>...</td>\n",
       "      <td>Employee</td>\n",
       "      <td>217.0</td>\n",
       "      <td>United States</td>\n",
       "      <td>Unknown</td>\n",
       "      <td>Unknown</td>\n",
       "      <td>NaN</td>\n",
       "      <td>13</td>\n",
       "      <td>Unknown</td>\n",
       "      <td>1.0</td>\n",
       "      <td>NaN</td>\n",
       "    </tr>\n",
       "    <tr>\n",
       "      <th>3</th>\n",
       "      <td>197001000002</td>\n",
       "      <td>1970</td>\n",
       "      <td>1</td>\n",
       "      <td>0</td>\n",
       "      <td>0</td>\n",
       "      <td>78</td>\n",
       "      <td>Greece</td>\n",
       "      <td>8</td>\n",
       "      <td>Western Europe</td>\n",
       "      <td>Athens</td>\n",
       "      <td>...</td>\n",
       "      <td>U.S. Embassy</td>\n",
       "      <td>217.0</td>\n",
       "      <td>United States</td>\n",
       "      <td>Unknown</td>\n",
       "      <td>Unknown</td>\n",
       "      <td>NaN</td>\n",
       "      <td>6</td>\n",
       "      <td>Explosives</td>\n",
       "      <td>NaN</td>\n",
       "      <td>NaN</td>\n",
       "    </tr>\n",
       "    <tr>\n",
       "      <th>4</th>\n",
       "      <td>197001000003</td>\n",
       "      <td>1970</td>\n",
       "      <td>1</td>\n",
       "      <td>0</td>\n",
       "      <td>0</td>\n",
       "      <td>101</td>\n",
       "      <td>Japan</td>\n",
       "      <td>4</td>\n",
       "      <td>East Asia</td>\n",
       "      <td>Fukouka</td>\n",
       "      <td>...</td>\n",
       "      <td>U.S. Consulate</td>\n",
       "      <td>217.0</td>\n",
       "      <td>United States</td>\n",
       "      <td>Unknown</td>\n",
       "      <td>Unknown</td>\n",
       "      <td>NaN</td>\n",
       "      <td>8</td>\n",
       "      <td>Incendiary</td>\n",
       "      <td>NaN</td>\n",
       "      <td>NaN</td>\n",
       "    </tr>\n",
       "  </tbody>\n",
       "</table>\n",
       "<p>5 rows × 29 columns</p>\n",
       "</div>"
      ],
      "text/plain": [
       "        eventid  iyear  imonth  iday  extended  country         country_txt  \\\n",
       "0  197000000001   1970       7     2         0       58  Dominican Republic   \n",
       "1  197000000002   1970       0     0         0      130              Mexico   \n",
       "2  197001000001   1970       1     0         0      160         Philippines   \n",
       "3  197001000002   1970       1     0         0       78              Greece   \n",
       "4  197001000003   1970       1     0         0      101               Japan   \n",
       "\n",
       "   region                   region_txt           city  ...  \\\n",
       "0       2  Central America & Caribbean  Santo Domingo  ...   \n",
       "1       1                North America    Mexico city  ...   \n",
       "2       5               Southeast Asia        Unknown  ...   \n",
       "3       8               Western Europe         Athens  ...   \n",
       "4       4                    East Asia        Fukouka  ...   \n",
       "\n",
       "                   target1  natlty1         natlty1_txt  \\\n",
       "0             Julio Guzman     58.0  Dominican Republic   \n",
       "1  Nadine Chaval, daughter     21.0             Belgium   \n",
       "2                 Employee    217.0       United States   \n",
       "3             U.S. Embassy    217.0       United States   \n",
       "4           U.S. Consulate    217.0       United States   \n",
       "\n",
       "                                gname   motive nperps weaptype1 weaptype1_txt  \\\n",
       "0                              MANO-D  Unknown    NaN        13       Unknown   \n",
       "1  23rd of September Communist League  Unknown    7.0        13       Unknown   \n",
       "2                             Unknown  Unknown    NaN        13       Unknown   \n",
       "3                             Unknown  Unknown    NaN         6    Explosives   \n",
       "4                             Unknown  Unknown    NaN         8    Incendiary   \n",
       "\n",
       "  nkill propextent  \n",
       "0   1.0        NaN  \n",
       "1   0.0        NaN  \n",
       "2   1.0        NaN  \n",
       "3   NaN        NaN  \n",
       "4   NaN        NaN  \n",
       "\n",
       "[5 rows x 29 columns]"
      ]
     },
     "execution_count": 6,
     "metadata": {},
     "output_type": "execute_result"
    }
   ],
   "source": [
    "data.head()"
   ]
  },
  {
   "cell_type": "code",
   "execution_count": 7,
   "metadata": {
    "scrolled": true
   },
   "outputs": [
    {
     "name": "stdout",
     "output_type": "stream",
     "text": [
      "Number of rows : 181691\n",
      "Number of columns : 29\n",
      "Data Size :  5269039\n"
     ]
    }
   ],
   "source": [
    "# data stats\n",
    "print('Number of rows : {}'.format(data.shape[0]))\n",
    "print('Number of columns : {}'.format(data.shape[1]))\n",
    "print('Data Size :  {}'.format(data.size))"
   ]
  },
  {
   "cell_type": "code",
   "execution_count": 9,
   "metadata": {},
   "outputs": [],
   "source": [
    "# just for country acronyms\n",
    "df = pd.read_csv('https://raw.githubusercontent.com/plotly/datasets/master/2014_world_gdp_with_codes.csv')"
   ]
  },
  {
   "cell_type": "code",
   "execution_count": 10,
   "metadata": {
    "scrolled": true
   },
   "outputs": [
    {
     "data": {
      "text/plain": [
       "0      AFG\n",
       "1      ALB\n",
       "2      DZA\n",
       "3      ASM\n",
       "4      AND\n",
       "      ... \n",
       "217    VGB\n",
       "218    WBG\n",
       "219    YEM\n",
       "220    ZMB\n",
       "221    ZWE\n",
       "Name: CODE, Length: 222, dtype: object"
      ]
     },
     "execution_count": 10,
     "metadata": {},
     "output_type": "execute_result"
    }
   ],
   "source": [
    "df['CODE']"
   ]
  },
  {
   "cell_type": "code",
   "execution_count": 11,
   "metadata": {},
   "outputs": [
    {
     "data": {
      "text/html": [
       "<div>\n",
       "<style scoped>\n",
       "    .dataframe tbody tr th:only-of-type {\n",
       "        vertical-align: middle;\n",
       "    }\n",
       "\n",
       "    .dataframe tbody tr th {\n",
       "        vertical-align: top;\n",
       "    }\n",
       "\n",
       "    .dataframe thead th {\n",
       "        text-align: right;\n",
       "    }\n",
       "</style>\n",
       "<table border=\"1\" class=\"dataframe\">\n",
       "  <thead>\n",
       "    <tr style=\"text-align: right;\">\n",
       "      <th></th>\n",
       "      <th>eventid</th>\n",
       "      <th>iyear</th>\n",
       "      <th>imonth</th>\n",
       "      <th>iday</th>\n",
       "      <th>extended</th>\n",
       "      <th>country</th>\n",
       "      <th>country_txt</th>\n",
       "      <th>region</th>\n",
       "      <th>region_txt</th>\n",
       "      <th>city</th>\n",
       "      <th>...</th>\n",
       "      <th>target1</th>\n",
       "      <th>natlty1</th>\n",
       "      <th>natlty1_txt</th>\n",
       "      <th>gname</th>\n",
       "      <th>motive</th>\n",
       "      <th>nperps</th>\n",
       "      <th>weaptype1</th>\n",
       "      <th>weaptype1_txt</th>\n",
       "      <th>nkill</th>\n",
       "      <th>propextent</th>\n",
       "    </tr>\n",
       "  </thead>\n",
       "  <tbody>\n",
       "    <tr>\n",
       "      <th>5</th>\n",
       "      <td>197001010002</td>\n",
       "      <td>1970</td>\n",
       "      <td>1</td>\n",
       "      <td>1</td>\n",
       "      <td>0</td>\n",
       "      <td>217</td>\n",
       "      <td>United States</td>\n",
       "      <td>1</td>\n",
       "      <td>North America</td>\n",
       "      <td>Cairo</td>\n",
       "      <td>...</td>\n",
       "      <td>Cairo Police Headquarters</td>\n",
       "      <td>217.0</td>\n",
       "      <td>United States</td>\n",
       "      <td>Black Nationalists</td>\n",
       "      <td>To protest the Cairo Illinois Police Deparment</td>\n",
       "      <td>-99.0</td>\n",
       "      <td>5</td>\n",
       "      <td>Firearms</td>\n",
       "      <td>0.0</td>\n",
       "      <td>3.0</td>\n",
       "    </tr>\n",
       "    <tr>\n",
       "      <th>7</th>\n",
       "      <td>197001020002</td>\n",
       "      <td>1970</td>\n",
       "      <td>1</td>\n",
       "      <td>2</td>\n",
       "      <td>0</td>\n",
       "      <td>217</td>\n",
       "      <td>United States</td>\n",
       "      <td>1</td>\n",
       "      <td>North America</td>\n",
       "      <td>Oakland</td>\n",
       "      <td>...</td>\n",
       "      <td>Edes Substation</td>\n",
       "      <td>217.0</td>\n",
       "      <td>United States</td>\n",
       "      <td>Unknown</td>\n",
       "      <td>Unknown</td>\n",
       "      <td>-99.0</td>\n",
       "      <td>6</td>\n",
       "      <td>Explosives</td>\n",
       "      <td>0.0</td>\n",
       "      <td>3.0</td>\n",
       "    </tr>\n",
       "    <tr>\n",
       "      <th>8</th>\n",
       "      <td>197001020003</td>\n",
       "      <td>1970</td>\n",
       "      <td>1</td>\n",
       "      <td>2</td>\n",
       "      <td>0</td>\n",
       "      <td>217</td>\n",
       "      <td>United States</td>\n",
       "      <td>1</td>\n",
       "      <td>North America</td>\n",
       "      <td>Madison</td>\n",
       "      <td>...</td>\n",
       "      <td>R.O.T.C. offices at University of Wisconsin, M...</td>\n",
       "      <td>217.0</td>\n",
       "      <td>United States</td>\n",
       "      <td>New Year's Gang</td>\n",
       "      <td>To protest the War in Vietnam and the draft</td>\n",
       "      <td>1.0</td>\n",
       "      <td>8</td>\n",
       "      <td>Incendiary</td>\n",
       "      <td>0.0</td>\n",
       "      <td>3.0</td>\n",
       "    </tr>\n",
       "    <tr>\n",
       "      <th>9</th>\n",
       "      <td>197001030001</td>\n",
       "      <td>1970</td>\n",
       "      <td>1</td>\n",
       "      <td>3</td>\n",
       "      <td>0</td>\n",
       "      <td>217</td>\n",
       "      <td>United States</td>\n",
       "      <td>1</td>\n",
       "      <td>North America</td>\n",
       "      <td>Madison</td>\n",
       "      <td>...</td>\n",
       "      <td>Selective Service Headquarters in Madison Wisc...</td>\n",
       "      <td>217.0</td>\n",
       "      <td>United States</td>\n",
       "      <td>New Year's Gang</td>\n",
       "      <td>To protest the War in Vietnam and the draft</td>\n",
       "      <td>1.0</td>\n",
       "      <td>8</td>\n",
       "      <td>Incendiary</td>\n",
       "      <td>0.0</td>\n",
       "      <td>3.0</td>\n",
       "    </tr>\n",
       "    <tr>\n",
       "      <th>10</th>\n",
       "      <td>197001050001</td>\n",
       "      <td>1970</td>\n",
       "      <td>1</td>\n",
       "      <td>1</td>\n",
       "      <td>0</td>\n",
       "      <td>217</td>\n",
       "      <td>United States</td>\n",
       "      <td>1</td>\n",
       "      <td>North America</td>\n",
       "      <td>Baraboo</td>\n",
       "      <td>...</td>\n",
       "      <td>Badger Army ammo depot.</td>\n",
       "      <td>217.0</td>\n",
       "      <td>United States</td>\n",
       "      <td>Weather Underground, Weathermen</td>\n",
       "      <td>Unknown</td>\n",
       "      <td>NaN</td>\n",
       "      <td>6</td>\n",
       "      <td>Explosives</td>\n",
       "      <td>0.0</td>\n",
       "      <td>3.0</td>\n",
       "    </tr>\n",
       "    <tr>\n",
       "      <th>...</th>\n",
       "      <td>...</td>\n",
       "      <td>...</td>\n",
       "      <td>...</td>\n",
       "      <td>...</td>\n",
       "      <td>...</td>\n",
       "      <td>...</td>\n",
       "      <td>...</td>\n",
       "      <td>...</td>\n",
       "      <td>...</td>\n",
       "      <td>...</td>\n",
       "      <td>...</td>\n",
       "      <td>...</td>\n",
       "      <td>...</td>\n",
       "      <td>...</td>\n",
       "      <td>...</td>\n",
       "      <td>...</td>\n",
       "      <td>...</td>\n",
       "      <td>...</td>\n",
       "      <td>...</td>\n",
       "      <td>...</td>\n",
       "      <td>...</td>\n",
       "    </tr>\n",
       "    <tr>\n",
       "      <th>180461</th>\n",
       "      <td>201711130042</td>\n",
       "      <td>2017</td>\n",
       "      <td>11</td>\n",
       "      <td>13</td>\n",
       "      <td>0</td>\n",
       "      <td>217</td>\n",
       "      <td>United States</td>\n",
       "      <td>1</td>\n",
       "      <td>North America</td>\n",
       "      <td>Vale</td>\n",
       "      <td>...</td>\n",
       "      <td>Church</td>\n",
       "      <td>217.0</td>\n",
       "      <td>United States</td>\n",
       "      <td>Pro-LGBT Rights extremists</td>\n",
       "      <td>Pro-LGBT Rights extremists claimed responsibil...</td>\n",
       "      <td>-99.0</td>\n",
       "      <td>8</td>\n",
       "      <td>Incendiary</td>\n",
       "      <td>0.0</td>\n",
       "      <td>3.0</td>\n",
       "    </tr>\n",
       "    <tr>\n",
       "      <th>181141</th>\n",
       "      <td>201712070037</td>\n",
       "      <td>2017</td>\n",
       "      <td>12</td>\n",
       "      <td>7</td>\n",
       "      <td>0</td>\n",
       "      <td>217</td>\n",
       "      <td>United States</td>\n",
       "      <td>1</td>\n",
       "      <td>North America</td>\n",
       "      <td>Aztec</td>\n",
       "      <td>...</td>\n",
       "      <td>School</td>\n",
       "      <td>217.0</td>\n",
       "      <td>United States</td>\n",
       "      <td>White extremists</td>\n",
       "      <td>An unaffiliated individual, identified as Will...</td>\n",
       "      <td>1.0</td>\n",
       "      <td>5</td>\n",
       "      <td>Firearms</td>\n",
       "      <td>3.0</td>\n",
       "      <td>3.0</td>\n",
       "    </tr>\n",
       "    <tr>\n",
       "      <th>181219</th>\n",
       "      <td>201712110001</td>\n",
       "      <td>2017</td>\n",
       "      <td>12</td>\n",
       "      <td>11</td>\n",
       "      <td>0</td>\n",
       "      <td>217</td>\n",
       "      <td>United States</td>\n",
       "      <td>1</td>\n",
       "      <td>North America</td>\n",
       "      <td>New York City</td>\n",
       "      <td>...</td>\n",
       "      <td>Bus Terminal</td>\n",
       "      <td>217.0</td>\n",
       "      <td>United States</td>\n",
       "      <td>Jihadi-inspired extremists</td>\n",
       "      <td>An unaffiliated individual, identified as Akay...</td>\n",
       "      <td>1.0</td>\n",
       "      <td>6</td>\n",
       "      <td>Explosives</td>\n",
       "      <td>0.0</td>\n",
       "      <td>NaN</td>\n",
       "    </tr>\n",
       "    <tr>\n",
       "      <th>181478</th>\n",
       "      <td>201712220022</td>\n",
       "      <td>2017</td>\n",
       "      <td>12</td>\n",
       "      <td>22</td>\n",
       "      <td>0</td>\n",
       "      <td>217</td>\n",
       "      <td>United States</td>\n",
       "      <td>1</td>\n",
       "      <td>North America</td>\n",
       "      <td>Harrisburg</td>\n",
       "      <td>...</td>\n",
       "      <td>Vehicle</td>\n",
       "      <td>217.0</td>\n",
       "      <td>United States</td>\n",
       "      <td>Unknown</td>\n",
       "      <td>Unknown</td>\n",
       "      <td>1.0</td>\n",
       "      <td>5</td>\n",
       "      <td>Firearms</td>\n",
       "      <td>0.0</td>\n",
       "      <td>3.0</td>\n",
       "    </tr>\n",
       "    <tr>\n",
       "      <th>181479</th>\n",
       "      <td>201712220023</td>\n",
       "      <td>2017</td>\n",
       "      <td>12</td>\n",
       "      <td>22</td>\n",
       "      <td>0</td>\n",
       "      <td>217</td>\n",
       "      <td>United States</td>\n",
       "      <td>1</td>\n",
       "      <td>North America</td>\n",
       "      <td>Harrisburg</td>\n",
       "      <td>...</td>\n",
       "      <td>Vehicle</td>\n",
       "      <td>217.0</td>\n",
       "      <td>United States</td>\n",
       "      <td>Unknown</td>\n",
       "      <td>Unknown</td>\n",
       "      <td>1.0</td>\n",
       "      <td>5</td>\n",
       "      <td>Firearms</td>\n",
       "      <td>1.0</td>\n",
       "      <td>3.0</td>\n",
       "    </tr>\n",
       "  </tbody>\n",
       "</table>\n",
       "<p>2836 rows × 29 columns</p>\n",
       "</div>"
      ],
      "text/plain": [
       "             eventid  iyear  imonth  iday  extended  country    country_txt  \\\n",
       "5       197001010002   1970       1     1         0      217  United States   \n",
       "7       197001020002   1970       1     2         0      217  United States   \n",
       "8       197001020003   1970       1     2         0      217  United States   \n",
       "9       197001030001   1970       1     3         0      217  United States   \n",
       "10      197001050001   1970       1     1         0      217  United States   \n",
       "...              ...    ...     ...   ...       ...      ...            ...   \n",
       "180461  201711130042   2017      11    13         0      217  United States   \n",
       "181141  201712070037   2017      12     7         0      217  United States   \n",
       "181219  201712110001   2017      12    11         0      217  United States   \n",
       "181478  201712220022   2017      12    22         0      217  United States   \n",
       "181479  201712220023   2017      12    22         0      217  United States   \n",
       "\n",
       "        region     region_txt           city  ...  \\\n",
       "5            1  North America          Cairo  ...   \n",
       "7            1  North America        Oakland  ...   \n",
       "8            1  North America        Madison  ...   \n",
       "9            1  North America        Madison  ...   \n",
       "10           1  North America        Baraboo  ...   \n",
       "...        ...            ...            ...  ...   \n",
       "180461       1  North America           Vale  ...   \n",
       "181141       1  North America          Aztec  ...   \n",
       "181219       1  North America  New York City  ...   \n",
       "181478       1  North America     Harrisburg  ...   \n",
       "181479       1  North America     Harrisburg  ...   \n",
       "\n",
       "                                                  target1  natlty1  \\\n",
       "5                               Cairo Police Headquarters    217.0   \n",
       "7                                         Edes Substation    217.0   \n",
       "8       R.O.T.C. offices at University of Wisconsin, M...    217.0   \n",
       "9       Selective Service Headquarters in Madison Wisc...    217.0   \n",
       "10                                Badger Army ammo depot.    217.0   \n",
       "...                                                   ...      ...   \n",
       "180461                                             Church    217.0   \n",
       "181141                                             School    217.0   \n",
       "181219                                       Bus Terminal    217.0   \n",
       "181478                                            Vehicle    217.0   \n",
       "181479                                            Vehicle    217.0   \n",
       "\n",
       "          natlty1_txt                            gname  \\\n",
       "5       United States               Black Nationalists   \n",
       "7       United States                          Unknown   \n",
       "8       United States                  New Year's Gang   \n",
       "9       United States                  New Year's Gang   \n",
       "10      United States  Weather Underground, Weathermen   \n",
       "...               ...                              ...   \n",
       "180461  United States       Pro-LGBT Rights extremists   \n",
       "181141  United States                 White extremists   \n",
       "181219  United States       Jihadi-inspired extremists   \n",
       "181478  United States                          Unknown   \n",
       "181479  United States                          Unknown   \n",
       "\n",
       "                                                   motive nperps weaptype1  \\\n",
       "5          To protest the Cairo Illinois Police Deparment  -99.0         5   \n",
       "7                                                 Unknown  -99.0         6   \n",
       "8             To protest the War in Vietnam and the draft    1.0         8   \n",
       "9             To protest the War in Vietnam and the draft    1.0         8   \n",
       "10                                                Unknown    NaN         6   \n",
       "...                                                   ...    ...       ...   \n",
       "180461  Pro-LGBT Rights extremists claimed responsibil...  -99.0         8   \n",
       "181141  An unaffiliated individual, identified as Will...    1.0         5   \n",
       "181219  An unaffiliated individual, identified as Akay...    1.0         6   \n",
       "181478                                            Unknown    1.0         5   \n",
       "181479                                            Unknown    1.0         5   \n",
       "\n",
       "       weaptype1_txt nkill propextent  \n",
       "5           Firearms   0.0        3.0  \n",
       "7         Explosives   0.0        3.0  \n",
       "8         Incendiary   0.0        3.0  \n",
       "9         Incendiary   0.0        3.0  \n",
       "10        Explosives   0.0        3.0  \n",
       "...              ...   ...        ...  \n",
       "180461    Incendiary   0.0        3.0  \n",
       "181141      Firearms   3.0        3.0  \n",
       "181219    Explosives   0.0        NaN  \n",
       "181478      Firearms   0.0        3.0  \n",
       "181479      Firearms   1.0        3.0  \n",
       "\n",
       "[2836 rows x 29 columns]"
      ]
     },
     "execution_count": 11,
     "metadata": {},
     "output_type": "execute_result"
    }
   ],
   "source": [
    "data[data['country_txt']=='United States']"
   ]
  },
  {
   "cell_type": "code",
   "execution_count": 12,
   "metadata": {},
   "outputs": [
    {
     "data": {
      "text/plain": [
       "'Country code'"
      ]
     },
     "execution_count": 12,
     "metadata": {},
     "output_type": "execute_result"
    }
   ],
   "source": [
    "meta_data['country']"
   ]
  },
  {
   "cell_type": "markdown",
   "metadata": {},
   "source": [
    "### Choropleth Data Seperation"
   ]
  },
  {
   "cell_type": "code",
   "execution_count": 135,
   "metadata": {},
   "outputs": [],
   "source": [
    "unq_terr = data['country_txt'].unique()"
   ]
  },
  {
   "cell_type": "code",
   "execution_count": 136,
   "metadata": {},
   "outputs": [
    {
     "data": {
      "text/plain": [
       "array(['Dominican Republic', 'Mexico', 'Philippines', 'Greece', 'Japan',\n",
       "       'United States', 'Uruguay', 'Italy', 'East Germany (GDR)',\n",
       "       'Ethiopia', 'Guatemala', 'Venezuela', 'West Germany (FRG)',\n",
       "       'Switzerland', 'Jordan', 'Spain', 'Brazil', 'Egypt', 'Argentina',\n",
       "       'Lebanon'], dtype=object)"
      ]
     },
     "execution_count": 136,
     "metadata": {},
     "output_type": "execute_result"
    }
   ],
   "source": [
    "unq_terr[:20]"
   ]
  },
  {
   "cell_type": "code",
   "execution_count": 138,
   "metadata": {
    "scrolled": false
   },
   "outputs": [
    {
     "name": "stdout",
     "output_type": "stream",
     "text": [
      "East Germany (GDR) -- Missing in the Terrorism Data\n",
      "West Germany (FRG) -- Missing in the Terrorism Data\n",
      "South Yemen -- Missing in the Terrorism Data\n",
      "West Bank and Gaza Strip -- Missing in the Terrorism Data\n",
      "Czechoslovakia -- Missing in the Terrorism Data\n",
      "South Vietnam -- Missing in the Terrorism Data\n",
      "Zaire -- Missing in the Terrorism Data\n",
      "People's Republic of the Congo -- Missing in the Terrorism Data\n",
      "Myanmar -- Missing in the Terrorism Data\n",
      "Yugoslavia -- Missing in the Terrorism Data\n",
      "North Yemen -- Missing in the Terrorism Data\n",
      "South Korea -- Missing in the Terrorism Data\n",
      "Bahamas -- Missing in the Terrorism Data\n",
      "Rhodesia -- Missing in the Terrorism Data\n",
      "Soviet Union -- Missing in the Terrorism Data\n",
      "Western Sahara -- Missing in the Terrorism Data\n",
      "New Hebrides -- Missing in the Terrorism Data\n",
      "Guadeloupe -- Missing in the Terrorism Data\n",
      "Martinique -- Missing in the Terrorism Data\n",
      "Vatican City -- Missing in the Terrorism Data\n",
      "French Guiana -- Missing in the Terrorism Data\n",
      "Falkland Islands -- Missing in the Terrorism Data\n",
      "Republic of the Congo -- Missing in the Terrorism Data\n",
      "Ivory Coast -- Missing in the Terrorism Data\n",
      "Bosnia-Herzegovina -- Missing in the Terrorism Data\n",
      "Slovak Republic -- Missing in the Terrorism Data\n",
      "Wallis and Futuna -- Missing in the Terrorism Data\n",
      "Gambia -- Missing in the Terrorism Data\n",
      "North Korea -- Missing in the Terrorism Data\n",
      "St. Kitts and Nevis -- Missing in the Terrorism Data\n",
      "Democratic Republic of the Congo -- Missing in the Terrorism Data\n",
      "East Timor -- Missing in the Terrorism Data\n",
      "St. Lucia -- Missing in the Terrorism Data\n",
      "International -- Missing in the Terrorism Data\n",
      "Serbia-Montenegro -- Missing in the Terrorism Data\n",
      "35 -- total count\n"
     ]
    }
   ],
   "source": [
    "# country list cross-check\n",
    "c = 0\n",
    "for x in unq_terr:\n",
    "    if x in list(df['COUNTRY']):\n",
    "        pass\n",
    "    else:\n",
    "        print(f\"{x} -- Missing in the Terrorism Data\")\n",
    "        c+=1\n",
    "print(f\"{c} -- total count\")"
   ]
  },
  {
   "cell_type": "code",
   "execution_count": 139,
   "metadata": {},
   "outputs": [],
   "source": [
    "# Creating Country-Acronym Dictionary \n",
    "cdict = {}\n",
    "for x,y in zip(df['COUNTRY'],df['CODE']):\n",
    "    cdict[x] = y"
   ]
  },
  {
   "cell_type": "code",
   "execution_count": 140,
   "metadata": {},
   "outputs": [
    {
     "data": {
      "text/plain": [
       "'USA'"
      ]
     },
     "execution_count": 140,
     "metadata": {},
     "output_type": "execute_result"
    }
   ],
   "source": [
    "cdict['United States'] # name -> acronym"
   ]
  },
  {
   "cell_type": "code",
   "execution_count": 71,
   "metadata": {},
   "outputs": [],
   "source": [
    "# function to return acronyms\n",
    "def country_acronym(country):\n",
    "    if country in list(cdict.keys()):\n",
    "        return cdict[country]\n",
    "    else:\n",
    "        return 'No Code'\n"
   ]
  },
  {
   "cell_type": "code",
   "execution_count": 20,
   "metadata": {},
   "outputs": [],
   "source": [
    "data['country_acronym'] = data['country_txt'].apply(country_acronym) # acronym column creation"
   ]
  },
  {
   "cell_type": "markdown",
   "metadata": {},
   "source": [
    "### Choropleth DataFrame"
   ]
  },
  {
   "cell_type": "code",
   "execution_count": 65,
   "metadata": {
    "scrolled": true
   },
   "outputs": [],
   "source": [
    "choropleth = pd.DataFrame(pd.Series(data['country_txt'].unique(),name='Country'))"
   ]
  },
  {
   "cell_type": "code",
   "execution_count": 72,
   "metadata": {},
   "outputs": [],
   "source": [
    "choropleth['Code'] = choropleth['Country'].apply(country_acronym)"
   ]
  },
  {
   "cell_type": "code",
   "execution_count": 75,
   "metadata": {},
   "outputs": [],
   "source": [
    "choropleth = choropleth[choropleth['Code']!='No Code']"
   ]
  },
  {
   "cell_type": "code",
   "execution_count": 93,
   "metadata": {},
   "outputs": [],
   "source": [
    "# function which returns the total number of terrorism-events ( Successful ) in a country\n",
    "def calc_total(country):\n",
    "    if not country in data['country_txt']:\n",
    "        return data[data['country_txt']==country]['success'].sum()\n",
    "    else:\n",
    "        return 0"
   ]
  },
  {
   "cell_type": "code",
   "execution_count": 94,
   "metadata": {
    "scrolled": true
   },
   "outputs": [
    {
     "name": "stderr",
     "output_type": "stream",
     "text": [
      "/opt/anaconda3/lib/python3.7/site-packages/ipykernel_launcher.py:1: SettingWithCopyWarning:\n",
      "\n",
      "\n",
      "A value is trying to be set on a copy of a slice from a DataFrame.\n",
      "Try using .loc[row_indexer,col_indexer] = value instead\n",
      "\n",
      "See the caveats in the documentation: https://pandas.pydata.org/pandas-docs/stable/user_guide/indexing.html#returning-a-view-versus-a-copy\n",
      "\n"
     ]
    }
   ],
   "source": [
    "choropleth['total_success'] = choropleth['Country'].apply(calc_total) # calc "
   ]
  },
  {
   "cell_type": "code",
   "execution_count": 127,
   "metadata": {},
   "outputs": [
    {
     "data": {
      "text/html": [
       "<div>\n",
       "<style scoped>\n",
       "    .dataframe tbody tr th:only-of-type {\n",
       "        vertical-align: middle;\n",
       "    }\n",
       "\n",
       "    .dataframe tbody tr th {\n",
       "        vertical-align: top;\n",
       "    }\n",
       "\n",
       "    .dataframe thead th {\n",
       "        text-align: right;\n",
       "    }\n",
       "</style>\n",
       "<table border=\"1\" class=\"dataframe\">\n",
       "  <thead>\n",
       "    <tr style=\"text-align: right;\">\n",
       "      <th></th>\n",
       "      <th>Country</th>\n",
       "      <th>Code</th>\n",
       "      <th>total_success</th>\n",
       "    </tr>\n",
       "  </thead>\n",
       "  <tbody>\n",
       "    <tr>\n",
       "      <th>0</th>\n",
       "      <td>Dominican Republic</td>\n",
       "      <td>DOM</td>\n",
       "      <td>85</td>\n",
       "    </tr>\n",
       "    <tr>\n",
       "      <th>1</th>\n",
       "      <td>Mexico</td>\n",
       "      <td>MEX</td>\n",
       "      <td>479</td>\n",
       "    </tr>\n",
       "    <tr>\n",
       "      <th>2</th>\n",
       "      <td>Philippines</td>\n",
       "      <td>PHL</td>\n",
       "      <td>5975</td>\n",
       "    </tr>\n",
       "    <tr>\n",
       "      <th>3</th>\n",
       "      <td>Greece</td>\n",
       "      <td>GRC</td>\n",
       "      <td>1126</td>\n",
       "    </tr>\n",
       "    <tr>\n",
       "      <th>4</th>\n",
       "      <td>Japan</td>\n",
       "      <td>JPN</td>\n",
       "      <td>341</td>\n",
       "    </tr>\n",
       "    <tr>\n",
       "      <th>...</th>\n",
       "      <td>...</td>\n",
       "      <td>...</td>\n",
       "      <td>...</td>\n",
       "    </tr>\n",
       "    <tr>\n",
       "      <th>198</th>\n",
       "      <td>Montenegro</td>\n",
       "      <td>MNE</td>\n",
       "      <td>5</td>\n",
       "    </tr>\n",
       "    <tr>\n",
       "      <th>200</th>\n",
       "      <td>Turkmenistan</td>\n",
       "      <td>TKM</td>\n",
       "      <td>1</td>\n",
       "    </tr>\n",
       "    <tr>\n",
       "      <th>202</th>\n",
       "      <td>Bhutan</td>\n",
       "      <td>BTN</td>\n",
       "      <td>6</td>\n",
       "    </tr>\n",
       "    <tr>\n",
       "      <th>203</th>\n",
       "      <td>Serbia</td>\n",
       "      <td>SRB</td>\n",
       "      <td>11</td>\n",
       "    </tr>\n",
       "    <tr>\n",
       "      <th>204</th>\n",
       "      <td>South Sudan</td>\n",
       "      <td>SSD</td>\n",
       "      <td>193</td>\n",
       "    </tr>\n",
       "  </tbody>\n",
       "</table>\n",
       "<p>170 rows × 3 columns</p>\n",
       "</div>"
      ],
      "text/plain": [
       "                Country Code  total_success\n",
       "0    Dominican Republic  DOM             85\n",
       "1                Mexico  MEX            479\n",
       "2           Philippines  PHL           5975\n",
       "3                Greece  GRC           1126\n",
       "4                 Japan  JPN            341\n",
       "..                  ...  ...            ...\n",
       "198          Montenegro  MNE              5\n",
       "200        Turkmenistan  TKM              1\n",
       "202              Bhutan  BTN              6\n",
       "203              Serbia  SRB             11\n",
       "204         South Sudan  SSD            193\n",
       "\n",
       "[170 rows x 3 columns]"
      ]
     },
     "execution_count": 127,
     "metadata": {},
     "output_type": "execute_result"
    }
   ],
   "source": [
    "choropleth # dataframe structure to create choropleth plot using plotly go "
   ]
  },
  {
   "cell_type": "code",
   "execution_count": 132,
   "metadata": {},
   "outputs": [],
   "source": [
    "top20 = choropleth.sort_values(by='total_success',ascending=False)[:20] # optional"
   ]
  },
  {
   "cell_type": "code",
   "execution_count": 148,
   "metadata": {
    "scrolled": true
   },
   "outputs": [
    {
     "data": {
      "application/vnd.plotly.v1+json": {
       "config": {
        "plotlyServerURL": "https://plot.ly"
       },
       "data": [
        {
         "autocolorscale": false,
         "colorbar": {
          "title": {
           "text": "Numerical Scale"
          }
         },
         "colorscale": [
          [
           0,
           "rgb(247,251,255)"
          ],
          [
           0.125,
           "rgb(222,235,247)"
          ],
          [
           0.25,
           "rgb(198,219,239)"
          ],
          [
           0.375,
           "rgb(158,202,225)"
          ],
          [
           0.5,
           "rgb(107,174,214)"
          ],
          [
           0.625,
           "rgb(66,146,198)"
          ],
          [
           0.75,
           "rgb(33,113,181)"
          ],
          [
           0.875,
           "rgb(8,81,156)"
          ],
          [
           1,
           "rgb(8,48,107)"
          ]
         ],
         "locations": [
          "DOM",
          "MEX",
          "PHL",
          "GRC",
          "JPN",
          "USA",
          "URY",
          "ITA",
          "ETH",
          "GTM",
          "VEN",
          "CHE",
          "JOR",
          "ESP",
          "BRA",
          "EGY",
          "ARG",
          "LBN",
          "IRL",
          "TUR",
          "PRY",
          "IRN",
          "GBR",
          "COL",
          "BOL",
          "NIC",
          "NLD",
          "BEL",
          "CAN",
          "AUS",
          "PAK",
          "ZMB",
          "SWE",
          "CRI",
          "KHM",
          "ISR",
          "POL",
          "TWN",
          "PAN",
          "KWT",
          "AUT",
          "IND",
          "FRA",
          "BRN",
          "PRT",
          "DZA",
          "SLV",
          "THA",
          "HTI",
          "SDN",
          "MAR",
          "CYP",
          "AFG",
          "PER",
          "CHL",
          "HND",
          "ECU",
          "NZL",
          "MYS",
          "SGP",
          "BWA",
          "JAM",
          "TCD",
          "AND",
          "SYR",
          "ARE",
          "ZAF",
          "KEN",
          "IRQ",
          "SOM",
          "TZA",
          "LKA",
          "NAM",
          "NGA",
          "BRB",
          "TTO",
          "BGD",
          "AGO",
          "MRT",
          "SAU",
          "DJI",
          "IDN",
          "MLT",
          "DNK",
          "GUY",
          "MOZ",
          "TUN",
          "UGA",
          "NOR",
          "LSO",
          "GAB",
          "LBY",
          "BHR",
          "HKG",
          "SEN",
          "ZWE",
          "GIN",
          "GRD",
          "BLZ",
          "ALB",
          "CAF",
          "SYC",
          "DMA",
          "QAT",
          "BGR",
          "SUR",
          "SWZ",
          "LUX",
          "ISL",
          "BFA",
          "NCL",
          "ROU",
          "NER",
          "NPL",
          "TGO",
          "FIN",
          "FJI",
          "GHA",
          "MDV",
          "MUS",
          "HUN",
          "LAO",
          "PNG",
          "CHN",
          "LBR",
          "MLI",
          "DEU",
          "YEM",
          "RWA",
          "SLE",
          "CMR",
          "CUB",
          "HRV",
          "GEO",
          "AZE",
          "MDG",
          "LTU",
          "BDI",
          "UKR",
          "MDA",
          "ARM",
          "RUS",
          "KAZ",
          "ATG",
          "GNQ",
          "TJK",
          "MWI",
          "UZB",
          "LVA",
          "EST",
          "VNM",
          "COM",
          "BEN",
          "MKD",
          "BLR",
          "CZE",
          "SVN",
          "ERI",
          "PYF",
          "MAC",
          "KGZ",
          "VUT",
          "KSV",
          "SLB",
          "GNB",
          "MNE",
          "TKM",
          "BTN",
          "SRB",
          "SSD"
         ],
         "marker": {
          "line": {
           "color": "black",
           "width": 0.5
          }
         },
         "reversescale": true,
         "text": [
          "Dominican Republic",
          "Mexico",
          "Philippines",
          "Greece",
          "Japan",
          "United States",
          "Uruguay",
          "Italy",
          "Ethiopia",
          "Guatemala",
          "Venezuela",
          "Switzerland",
          "Jordan",
          "Spain",
          "Brazil",
          "Egypt",
          "Argentina",
          "Lebanon",
          "Ireland",
          "Turkey",
          "Paraguay",
          "Iran",
          "United Kingdom",
          "Colombia",
          "Bolivia",
          "Nicaragua",
          "Netherlands",
          "Belgium",
          "Canada",
          "Australia",
          "Pakistan",
          "Zambia",
          "Sweden",
          "Costa Rica",
          "Cambodia",
          "Israel",
          "Poland",
          "Taiwan",
          "Panama",
          "Kuwait",
          "Austria",
          "India",
          "France",
          "Brunei",
          "Portugal",
          "Algeria",
          "El Salvador",
          "Thailand",
          "Haiti",
          "Sudan",
          "Morocco",
          "Cyprus",
          "Afghanistan",
          "Peru",
          "Chile",
          "Honduras",
          "Ecuador",
          "New Zealand",
          "Malaysia",
          "Singapore",
          "Botswana",
          "Jamaica",
          "Chad",
          "Andorra",
          "Syria",
          "United Arab Emirates",
          "South Africa",
          "Kenya",
          "Iraq",
          "Somalia",
          "Tanzania",
          "Sri Lanka",
          "Namibia",
          "Nigeria",
          "Barbados",
          "Trinidad and Tobago",
          "Bangladesh",
          "Angola",
          "Mauritania",
          "Saudi Arabia",
          "Djibouti",
          "Indonesia",
          "Malta",
          "Denmark",
          "Guyana",
          "Mozambique",
          "Tunisia",
          "Uganda",
          "Norway",
          "Lesotho",
          "Gabon",
          "Libya",
          "Bahrain",
          "Hong Kong",
          "Senegal",
          "Zimbabwe",
          "Guinea",
          "Grenada",
          "Belize",
          "Albania",
          "Central African Republic",
          "Seychelles",
          "Dominica",
          "Qatar",
          "Bulgaria",
          "Suriname",
          "Swaziland",
          "Luxembourg",
          "Iceland",
          "Burkina Faso",
          "New Caledonia",
          "Romania",
          "Niger",
          "Nepal",
          "Togo",
          "Finland",
          "Fiji",
          "Ghana",
          "Maldives",
          "Mauritius",
          "Hungary",
          "Laos",
          "Papua New Guinea",
          "China",
          "Liberia",
          "Mali",
          "Germany",
          "Yemen",
          "Rwanda",
          "Sierra Leone",
          "Cameroon",
          "Cuba",
          "Croatia",
          "Georgia",
          "Azerbaijan",
          "Madagascar",
          "Lithuania",
          "Burundi",
          "Ukraine",
          "Moldova",
          "Armenia",
          "Russia",
          "Kazakhstan",
          "Antigua and Barbuda",
          "Equatorial Guinea",
          "Tajikistan",
          "Malawi",
          "Uzbekistan",
          "Latvia",
          "Estonia",
          "Vietnam",
          "Comoros",
          "Benin",
          "Macedonia",
          "Belarus",
          "Czech Republic",
          "Slovenia",
          "Eritrea",
          "French Polynesia",
          "Macau",
          "Kyrgyzstan",
          "Vanuatu",
          "Kosovo",
          "Solomon Islands",
          "Guinea-Bissau",
          "Montenegro",
          "Turkmenistan",
          "Bhutan",
          "Serbia",
          "South Sudan"
         ],
         "type": "choropleth",
         "z": [
          85,
          479,
          5975,
          1126,
          341,
          2340,
          71,
          1392,
          181,
          1936,
          246,
          90,
          84,
          2818,
          237,
          2011,
          714,
          2182,
          139,
          3909,
          101,
          594,
          4206,
          7712,
          273,
          1939,
          107,
          125,
          75,
          97,
          12600,
          58,
          113,
          56,
          243,
          1683,
          34,
          37,
          110,
          63,
          88,
          10280,
          2481,
          0,
          129,
          2561,
          5227,
          3626,
          185,
          933,
          33,
          112,
          11141,
          5755,
          2221,
          286,
          203,
          11,
          86,
          7,
          10,
          32,
          87,
          1,
          2119,
          17,
          1877,
          608,
          21861,
          3804,
          50,
          2849,
          147,
          3593,
          3,
          20,
          1519,
          486,
          14,
          319,
          22,
          666,
          22,
          35,
          19,
          346,
          97,
          363,
          16,
          25,
          6,
          1986,
          179,
          20,
          116,
          96,
          21,
          3,
          7,
          64,
          263,
          2,
          2,
          6,
          46,
          61,
          15,
          14,
          4,
          45,
          28,
          4,
          146,
          956,
          42,
          19,
          16,
          15,
          18,
          0,
          40,
          24,
          77,
          220,
          32,
          523,
          659,
          2837,
          154,
          98,
          309,
          21,
          55,
          192,
          44,
          23,
          7,
          590,
          1529,
          18,
          20,
          1810,
          22,
          1,
          2,
          180,
          5,
          19,
          13,
          16,
          7,
          3,
          8,
          107,
          13,
          23,
          6,
          10,
          3,
          27,
          27,
          2,
          172,
          4,
          8,
          5,
          1,
          6,
          11,
          193
         ]
        }
       ],
       "layout": {
        "annotations": [
         {
          "showarrow": false,
          "text": "",
          "x": 0.55,
          "xref": "paper",
          "y": 0.1,
          "yref": "paper"
         }
        ],
        "geo": {
         "projection": {
          "type": "natural earth"
         },
         "showcoastlines": false,
         "showframe": false
        },
        "template": {
         "data": {
          "bar": [
           {
            "error_x": {
             "color": "#2a3f5f"
            },
            "error_y": {
             "color": "#2a3f5f"
            },
            "marker": {
             "line": {
              "color": "#E5ECF6",
              "width": 0.5
             }
            },
            "type": "bar"
           }
          ],
          "barpolar": [
           {
            "marker": {
             "line": {
              "color": "#E5ECF6",
              "width": 0.5
             }
            },
            "type": "barpolar"
           }
          ],
          "carpet": [
           {
            "aaxis": {
             "endlinecolor": "#2a3f5f",
             "gridcolor": "white",
             "linecolor": "white",
             "minorgridcolor": "white",
             "startlinecolor": "#2a3f5f"
            },
            "baxis": {
             "endlinecolor": "#2a3f5f",
             "gridcolor": "white",
             "linecolor": "white",
             "minorgridcolor": "white",
             "startlinecolor": "#2a3f5f"
            },
            "type": "carpet"
           }
          ],
          "choropleth": [
           {
            "colorbar": {
             "outlinewidth": 0,
             "ticks": ""
            },
            "type": "choropleth"
           }
          ],
          "contour": [
           {
            "colorbar": {
             "outlinewidth": 0,
             "ticks": ""
            },
            "colorscale": [
             [
              0,
              "#0d0887"
             ],
             [
              0.1111111111111111,
              "#46039f"
             ],
             [
              0.2222222222222222,
              "#7201a8"
             ],
             [
              0.3333333333333333,
              "#9c179e"
             ],
             [
              0.4444444444444444,
              "#bd3786"
             ],
             [
              0.5555555555555556,
              "#d8576b"
             ],
             [
              0.6666666666666666,
              "#ed7953"
             ],
             [
              0.7777777777777778,
              "#fb9f3a"
             ],
             [
              0.8888888888888888,
              "#fdca26"
             ],
             [
              1,
              "#f0f921"
             ]
            ],
            "type": "contour"
           }
          ],
          "contourcarpet": [
           {
            "colorbar": {
             "outlinewidth": 0,
             "ticks": ""
            },
            "type": "contourcarpet"
           }
          ],
          "heatmap": [
           {
            "colorbar": {
             "outlinewidth": 0,
             "ticks": ""
            },
            "colorscale": [
             [
              0,
              "#0d0887"
             ],
             [
              0.1111111111111111,
              "#46039f"
             ],
             [
              0.2222222222222222,
              "#7201a8"
             ],
             [
              0.3333333333333333,
              "#9c179e"
             ],
             [
              0.4444444444444444,
              "#bd3786"
             ],
             [
              0.5555555555555556,
              "#d8576b"
             ],
             [
              0.6666666666666666,
              "#ed7953"
             ],
             [
              0.7777777777777778,
              "#fb9f3a"
             ],
             [
              0.8888888888888888,
              "#fdca26"
             ],
             [
              1,
              "#f0f921"
             ]
            ],
            "type": "heatmap"
           }
          ],
          "heatmapgl": [
           {
            "colorbar": {
             "outlinewidth": 0,
             "ticks": ""
            },
            "colorscale": [
             [
              0,
              "#0d0887"
             ],
             [
              0.1111111111111111,
              "#46039f"
             ],
             [
              0.2222222222222222,
              "#7201a8"
             ],
             [
              0.3333333333333333,
              "#9c179e"
             ],
             [
              0.4444444444444444,
              "#bd3786"
             ],
             [
              0.5555555555555556,
              "#d8576b"
             ],
             [
              0.6666666666666666,
              "#ed7953"
             ],
             [
              0.7777777777777778,
              "#fb9f3a"
             ],
             [
              0.8888888888888888,
              "#fdca26"
             ],
             [
              1,
              "#f0f921"
             ]
            ],
            "type": "heatmapgl"
           }
          ],
          "histogram": [
           {
            "marker": {
             "colorbar": {
              "outlinewidth": 0,
              "ticks": ""
             }
            },
            "type": "histogram"
           }
          ],
          "histogram2d": [
           {
            "colorbar": {
             "outlinewidth": 0,
             "ticks": ""
            },
            "colorscale": [
             [
              0,
              "#0d0887"
             ],
             [
              0.1111111111111111,
              "#46039f"
             ],
             [
              0.2222222222222222,
              "#7201a8"
             ],
             [
              0.3333333333333333,
              "#9c179e"
             ],
             [
              0.4444444444444444,
              "#bd3786"
             ],
             [
              0.5555555555555556,
              "#d8576b"
             ],
             [
              0.6666666666666666,
              "#ed7953"
             ],
             [
              0.7777777777777778,
              "#fb9f3a"
             ],
             [
              0.8888888888888888,
              "#fdca26"
             ],
             [
              1,
              "#f0f921"
             ]
            ],
            "type": "histogram2d"
           }
          ],
          "histogram2dcontour": [
           {
            "colorbar": {
             "outlinewidth": 0,
             "ticks": ""
            },
            "colorscale": [
             [
              0,
              "#0d0887"
             ],
             [
              0.1111111111111111,
              "#46039f"
             ],
             [
              0.2222222222222222,
              "#7201a8"
             ],
             [
              0.3333333333333333,
              "#9c179e"
             ],
             [
              0.4444444444444444,
              "#bd3786"
             ],
             [
              0.5555555555555556,
              "#d8576b"
             ],
             [
              0.6666666666666666,
              "#ed7953"
             ],
             [
              0.7777777777777778,
              "#fb9f3a"
             ],
             [
              0.8888888888888888,
              "#fdca26"
             ],
             [
              1,
              "#f0f921"
             ]
            ],
            "type": "histogram2dcontour"
           }
          ],
          "mesh3d": [
           {
            "colorbar": {
             "outlinewidth": 0,
             "ticks": ""
            },
            "type": "mesh3d"
           }
          ],
          "parcoords": [
           {
            "line": {
             "colorbar": {
              "outlinewidth": 0,
              "ticks": ""
             }
            },
            "type": "parcoords"
           }
          ],
          "pie": [
           {
            "automargin": true,
            "type": "pie"
           }
          ],
          "scatter": [
           {
            "marker": {
             "colorbar": {
              "outlinewidth": 0,
              "ticks": ""
             }
            },
            "type": "scatter"
           }
          ],
          "scatter3d": [
           {
            "line": {
             "colorbar": {
              "outlinewidth": 0,
              "ticks": ""
             }
            },
            "marker": {
             "colorbar": {
              "outlinewidth": 0,
              "ticks": ""
             }
            },
            "type": "scatter3d"
           }
          ],
          "scattercarpet": [
           {
            "marker": {
             "colorbar": {
              "outlinewidth": 0,
              "ticks": ""
             }
            },
            "type": "scattercarpet"
           }
          ],
          "scattergeo": [
           {
            "marker": {
             "colorbar": {
              "outlinewidth": 0,
              "ticks": ""
             }
            },
            "type": "scattergeo"
           }
          ],
          "scattergl": [
           {
            "marker": {
             "colorbar": {
              "outlinewidth": 0,
              "ticks": ""
             }
            },
            "type": "scattergl"
           }
          ],
          "scattermapbox": [
           {
            "marker": {
             "colorbar": {
              "outlinewidth": 0,
              "ticks": ""
             }
            },
            "type": "scattermapbox"
           }
          ],
          "scatterpolar": [
           {
            "marker": {
             "colorbar": {
              "outlinewidth": 0,
              "ticks": ""
             }
            },
            "type": "scatterpolar"
           }
          ],
          "scatterpolargl": [
           {
            "marker": {
             "colorbar": {
              "outlinewidth": 0,
              "ticks": ""
             }
            },
            "type": "scatterpolargl"
           }
          ],
          "scatterternary": [
           {
            "marker": {
             "colorbar": {
              "outlinewidth": 0,
              "ticks": ""
             }
            },
            "type": "scatterternary"
           }
          ],
          "surface": [
           {
            "colorbar": {
             "outlinewidth": 0,
             "ticks": ""
            },
            "colorscale": [
             [
              0,
              "#0d0887"
             ],
             [
              0.1111111111111111,
              "#46039f"
             ],
             [
              0.2222222222222222,
              "#7201a8"
             ],
             [
              0.3333333333333333,
              "#9c179e"
             ],
             [
              0.4444444444444444,
              "#bd3786"
             ],
             [
              0.5555555555555556,
              "#d8576b"
             ],
             [
              0.6666666666666666,
              "#ed7953"
             ],
             [
              0.7777777777777778,
              "#fb9f3a"
             ],
             [
              0.8888888888888888,
              "#fdca26"
             ],
             [
              1,
              "#f0f921"
             ]
            ],
            "type": "surface"
           }
          ],
          "table": [
           {
            "cells": {
             "fill": {
              "color": "#EBF0F8"
             },
             "line": {
              "color": "white"
             }
            },
            "header": {
             "fill": {
              "color": "#C8D4E3"
             },
             "line": {
              "color": "white"
             }
            },
            "type": "table"
           }
          ]
         },
         "layout": {
          "annotationdefaults": {
           "arrowcolor": "#2a3f5f",
           "arrowhead": 0,
           "arrowwidth": 1
          },
          "coloraxis": {
           "colorbar": {
            "outlinewidth": 0,
            "ticks": ""
           }
          },
          "colorscale": {
           "diverging": [
            [
             0,
             "#8e0152"
            ],
            [
             0.1,
             "#c51b7d"
            ],
            [
             0.2,
             "#de77ae"
            ],
            [
             0.3,
             "#f1b6da"
            ],
            [
             0.4,
             "#fde0ef"
            ],
            [
             0.5,
             "#f7f7f7"
            ],
            [
             0.6,
             "#e6f5d0"
            ],
            [
             0.7,
             "#b8e186"
            ],
            [
             0.8,
             "#7fbc41"
            ],
            [
             0.9,
             "#4d9221"
            ],
            [
             1,
             "#276419"
            ]
           ],
           "sequential": [
            [
             0,
             "#0d0887"
            ],
            [
             0.1111111111111111,
             "#46039f"
            ],
            [
             0.2222222222222222,
             "#7201a8"
            ],
            [
             0.3333333333333333,
             "#9c179e"
            ],
            [
             0.4444444444444444,
             "#bd3786"
            ],
            [
             0.5555555555555556,
             "#d8576b"
            ],
            [
             0.6666666666666666,
             "#ed7953"
            ],
            [
             0.7777777777777778,
             "#fb9f3a"
            ],
            [
             0.8888888888888888,
             "#fdca26"
            ],
            [
             1,
             "#f0f921"
            ]
           ],
           "sequentialminus": [
            [
             0,
             "#0d0887"
            ],
            [
             0.1111111111111111,
             "#46039f"
            ],
            [
             0.2222222222222222,
             "#7201a8"
            ],
            [
             0.3333333333333333,
             "#9c179e"
            ],
            [
             0.4444444444444444,
             "#bd3786"
            ],
            [
             0.5555555555555556,
             "#d8576b"
            ],
            [
             0.6666666666666666,
             "#ed7953"
            ],
            [
             0.7777777777777778,
             "#fb9f3a"
            ],
            [
             0.8888888888888888,
             "#fdca26"
            ],
            [
             1,
             "#f0f921"
            ]
           ]
          },
          "colorway": [
           "#636efa",
           "#EF553B",
           "#00cc96",
           "#ab63fa",
           "#FFA15A",
           "#19d3f3",
           "#FF6692",
           "#B6E880",
           "#FF97FF",
           "#FECB52"
          ],
          "font": {
           "color": "#2a3f5f"
          },
          "geo": {
           "bgcolor": "white",
           "lakecolor": "white",
           "landcolor": "#E5ECF6",
           "showlakes": true,
           "showland": true,
           "subunitcolor": "white"
          },
          "hoverlabel": {
           "align": "left"
          },
          "hovermode": "closest",
          "mapbox": {
           "style": "light"
          },
          "paper_bgcolor": "white",
          "plot_bgcolor": "#E5ECF6",
          "polar": {
           "angularaxis": {
            "gridcolor": "white",
            "linecolor": "white",
            "ticks": ""
           },
           "bgcolor": "#E5ECF6",
           "radialaxis": {
            "gridcolor": "white",
            "linecolor": "white",
            "ticks": ""
           }
          },
          "scene": {
           "xaxis": {
            "backgroundcolor": "#E5ECF6",
            "gridcolor": "white",
            "gridwidth": 2,
            "linecolor": "white",
            "showbackground": true,
            "ticks": "",
            "zerolinecolor": "white"
           },
           "yaxis": {
            "backgroundcolor": "#E5ECF6",
            "gridcolor": "white",
            "gridwidth": 2,
            "linecolor": "white",
            "showbackground": true,
            "ticks": "",
            "zerolinecolor": "white"
           },
           "zaxis": {
            "backgroundcolor": "#E5ECF6",
            "gridcolor": "white",
            "gridwidth": 2,
            "linecolor": "white",
            "showbackground": true,
            "ticks": "",
            "zerolinecolor": "white"
           }
          },
          "shapedefaults": {
           "line": {
            "color": "#2a3f5f"
           }
          },
          "ternary": {
           "aaxis": {
            "gridcolor": "white",
            "linecolor": "white",
            "ticks": ""
           },
           "baxis": {
            "gridcolor": "white",
            "linecolor": "white",
            "ticks": ""
           },
           "bgcolor": "#E5ECF6",
           "caxis": {
            "gridcolor": "white",
            "linecolor": "white",
            "ticks": ""
           }
          },
          "title": {
           "x": 0.05
          },
          "xaxis": {
           "automargin": true,
           "gridcolor": "white",
           "linecolor": "white",
           "ticks": "",
           "title": {
            "standoff": 15
           },
           "zerolinecolor": "white",
           "zerolinewidth": 2
          },
          "yaxis": {
           "automargin": true,
           "gridcolor": "white",
           "linecolor": "white",
           "ticks": "",
           "title": {
            "standoff": 15
           },
           "zerolinecolor": "white",
           "zerolinewidth": 2
          }
         }
        },
        "title": {
         "text": "Global Terrorism Instances"
        }
       }
      },
      "text/html": [
       "<div>                            <div id=\"7d9cb082-9176-45da-8a1b-a6f1b4f19748\" class=\"plotly-graph-div\" style=\"height:525px; width:100%;\"></div>            <script type=\"text/javascript\">                require([\"plotly\"], function(Plotly) {                    window.PLOTLYENV=window.PLOTLYENV || {};                                    if (document.getElementById(\"7d9cb082-9176-45da-8a1b-a6f1b4f19748\")) {                    Plotly.newPlot(                        \"7d9cb082-9176-45da-8a1b-a6f1b4f19748\",                        [{\"autocolorscale\": false, \"colorbar\": {\"title\": {\"text\": \"Numerical Scale\"}}, \"colorscale\": [[0.0, \"rgb(247,251,255)\"], [0.125, \"rgb(222,235,247)\"], [0.25, \"rgb(198,219,239)\"], [0.375, \"rgb(158,202,225)\"], [0.5, \"rgb(107,174,214)\"], [0.625, \"rgb(66,146,198)\"], [0.75, \"rgb(33,113,181)\"], [0.875, \"rgb(8,81,156)\"], [1.0, \"rgb(8,48,107)\"]], \"locations\": [\"DOM\", \"MEX\", \"PHL\", \"GRC\", \"JPN\", \"USA\", \"URY\", \"ITA\", \"ETH\", \"GTM\", \"VEN\", \"CHE\", \"JOR\", \"ESP\", \"BRA\", \"EGY\", \"ARG\", \"LBN\", \"IRL\", \"TUR\", \"PRY\", \"IRN\", \"GBR\", \"COL\", \"BOL\", \"NIC\", \"NLD\", \"BEL\", \"CAN\", \"AUS\", \"PAK\", \"ZMB\", \"SWE\", \"CRI\", \"KHM\", \"ISR\", \"POL\", \"TWN\", \"PAN\", \"KWT\", \"AUT\", \"IND\", \"FRA\", \"BRN\", \"PRT\", \"DZA\", \"SLV\", \"THA\", \"HTI\", \"SDN\", \"MAR\", \"CYP\", \"AFG\", \"PER\", \"CHL\", \"HND\", \"ECU\", \"NZL\", \"MYS\", \"SGP\", \"BWA\", \"JAM\", \"TCD\", \"AND\", \"SYR\", \"ARE\", \"ZAF\", \"KEN\", \"IRQ\", \"SOM\", \"TZA\", \"LKA\", \"NAM\", \"NGA\", \"BRB\", \"TTO\", \"BGD\", \"AGO\", \"MRT\", \"SAU\", \"DJI\", \"IDN\", \"MLT\", \"DNK\", \"GUY\", \"MOZ\", \"TUN\", \"UGA\", \"NOR\", \"LSO\", \"GAB\", \"LBY\", \"BHR\", \"HKG\", \"SEN\", \"ZWE\", \"GIN\", \"GRD\", \"BLZ\", \"ALB\", \"CAF\", \"SYC\", \"DMA\", \"QAT\", \"BGR\", \"SUR\", \"SWZ\", \"LUX\", \"ISL\", \"BFA\", \"NCL\", \"ROU\", \"NER\", \"NPL\", \"TGO\", \"FIN\", \"FJI\", \"GHA\", \"MDV\", \"MUS\", \"HUN\", \"LAO\", \"PNG\", \"CHN\", \"LBR\", \"MLI\", \"DEU\", \"YEM\", \"RWA\", \"SLE\", \"CMR\", \"CUB\", \"HRV\", \"GEO\", \"AZE\", \"MDG\", \"LTU\", \"BDI\", \"UKR\", \"MDA\", \"ARM\", \"RUS\", \"KAZ\", \"ATG\", \"GNQ\", \"TJK\", \"MWI\", \"UZB\", \"LVA\", \"EST\", \"VNM\", \"COM\", \"BEN\", \"MKD\", \"BLR\", \"CZE\", \"SVN\", \"ERI\", \"PYF\", \"MAC\", \"KGZ\", \"VUT\", \"KSV\", \"SLB\", \"GNB\", \"MNE\", \"TKM\", \"BTN\", \"SRB\", \"SSD\"], \"marker\": {\"line\": {\"color\": \"black\", \"width\": 0.5}}, \"reversescale\": true, \"text\": [\"Dominican Republic\", \"Mexico\", \"Philippines\", \"Greece\", \"Japan\", \"United States\", \"Uruguay\", \"Italy\", \"Ethiopia\", \"Guatemala\", \"Venezuela\", \"Switzerland\", \"Jordan\", \"Spain\", \"Brazil\", \"Egypt\", \"Argentina\", \"Lebanon\", \"Ireland\", \"Turkey\", \"Paraguay\", \"Iran\", \"United Kingdom\", \"Colombia\", \"Bolivia\", \"Nicaragua\", \"Netherlands\", \"Belgium\", \"Canada\", \"Australia\", \"Pakistan\", \"Zambia\", \"Sweden\", \"Costa Rica\", \"Cambodia\", \"Israel\", \"Poland\", \"Taiwan\", \"Panama\", \"Kuwait\", \"Austria\", \"India\", \"France\", \"Brunei\", \"Portugal\", \"Algeria\", \"El Salvador\", \"Thailand\", \"Haiti\", \"Sudan\", \"Morocco\", \"Cyprus\", \"Afghanistan\", \"Peru\", \"Chile\", \"Honduras\", \"Ecuador\", \"New Zealand\", \"Malaysia\", \"Singapore\", \"Botswana\", \"Jamaica\", \"Chad\", \"Andorra\", \"Syria\", \"United Arab Emirates\", \"South Africa\", \"Kenya\", \"Iraq\", \"Somalia\", \"Tanzania\", \"Sri Lanka\", \"Namibia\", \"Nigeria\", \"Barbados\", \"Trinidad and Tobago\", \"Bangladesh\", \"Angola\", \"Mauritania\", \"Saudi Arabia\", \"Djibouti\", \"Indonesia\", \"Malta\", \"Denmark\", \"Guyana\", \"Mozambique\", \"Tunisia\", \"Uganda\", \"Norway\", \"Lesotho\", \"Gabon\", \"Libya\", \"Bahrain\", \"Hong Kong\", \"Senegal\", \"Zimbabwe\", \"Guinea\", \"Grenada\", \"Belize\", \"Albania\", \"Central African Republic\", \"Seychelles\", \"Dominica\", \"Qatar\", \"Bulgaria\", \"Suriname\", \"Swaziland\", \"Luxembourg\", \"Iceland\", \"Burkina Faso\", \"New Caledonia\", \"Romania\", \"Niger\", \"Nepal\", \"Togo\", \"Finland\", \"Fiji\", \"Ghana\", \"Maldives\", \"Mauritius\", \"Hungary\", \"Laos\", \"Papua New Guinea\", \"China\", \"Liberia\", \"Mali\", \"Germany\", \"Yemen\", \"Rwanda\", \"Sierra Leone\", \"Cameroon\", \"Cuba\", \"Croatia\", \"Georgia\", \"Azerbaijan\", \"Madagascar\", \"Lithuania\", \"Burundi\", \"Ukraine\", \"Moldova\", \"Armenia\", \"Russia\", \"Kazakhstan\", \"Antigua and Barbuda\", \"Equatorial Guinea\", \"Tajikistan\", \"Malawi\", \"Uzbekistan\", \"Latvia\", \"Estonia\", \"Vietnam\", \"Comoros\", \"Benin\", \"Macedonia\", \"Belarus\", \"Czech Republic\", \"Slovenia\", \"Eritrea\", \"French Polynesia\", \"Macau\", \"Kyrgyzstan\", \"Vanuatu\", \"Kosovo\", \"Solomon Islands\", \"Guinea-Bissau\", \"Montenegro\", \"Turkmenistan\", \"Bhutan\", \"Serbia\", \"South Sudan\"], \"type\": \"choropleth\", \"z\": [85, 479, 5975, 1126, 341, 2340, 71, 1392, 181, 1936, 246, 90, 84, 2818, 237, 2011, 714, 2182, 139, 3909, 101, 594, 4206, 7712, 273, 1939, 107, 125, 75, 97, 12600, 58, 113, 56, 243, 1683, 34, 37, 110, 63, 88, 10280, 2481, 0, 129, 2561, 5227, 3626, 185, 933, 33, 112, 11141, 5755, 2221, 286, 203, 11, 86, 7, 10, 32, 87, 1, 2119, 17, 1877, 608, 21861, 3804, 50, 2849, 147, 3593, 3, 20, 1519, 486, 14, 319, 22, 666, 22, 35, 19, 346, 97, 363, 16, 25, 6, 1986, 179, 20, 116, 96, 21, 3, 7, 64, 263, 2, 2, 6, 46, 61, 15, 14, 4, 45, 28, 4, 146, 956, 42, 19, 16, 15, 18, 0, 40, 24, 77, 220, 32, 523, 659, 2837, 154, 98, 309, 21, 55, 192, 44, 23, 7, 590, 1529, 18, 20, 1810, 22, 1, 2, 180, 5, 19, 13, 16, 7, 3, 8, 107, 13, 23, 6, 10, 3, 27, 27, 2, 172, 4, 8, 5, 1, 6, 11, 193]}],                        {\"annotations\": [{\"showarrow\": false, \"text\": \"\", \"x\": 0.55, \"xref\": \"paper\", \"y\": 0.1, \"yref\": \"paper\"}], \"geo\": {\"projection\": {\"type\": \"natural earth\"}, \"showcoastlines\": false, \"showframe\": false}, \"template\": {\"data\": {\"bar\": [{\"error_x\": {\"color\": \"#2a3f5f\"}, \"error_y\": {\"color\": \"#2a3f5f\"}, \"marker\": {\"line\": {\"color\": \"#E5ECF6\", \"width\": 0.5}}, \"type\": \"bar\"}], \"barpolar\": [{\"marker\": {\"line\": {\"color\": \"#E5ECF6\", \"width\": 0.5}}, \"type\": \"barpolar\"}], \"carpet\": [{\"aaxis\": {\"endlinecolor\": \"#2a3f5f\", \"gridcolor\": \"white\", \"linecolor\": \"white\", \"minorgridcolor\": \"white\", \"startlinecolor\": \"#2a3f5f\"}, \"baxis\": {\"endlinecolor\": \"#2a3f5f\", \"gridcolor\": \"white\", \"linecolor\": \"white\", \"minorgridcolor\": \"white\", \"startlinecolor\": \"#2a3f5f\"}, \"type\": \"carpet\"}], \"choropleth\": [{\"colorbar\": {\"outlinewidth\": 0, \"ticks\": \"\"}, \"type\": \"choropleth\"}], \"contour\": [{\"colorbar\": {\"outlinewidth\": 0, \"ticks\": \"\"}, \"colorscale\": [[0.0, \"#0d0887\"], [0.1111111111111111, \"#46039f\"], [0.2222222222222222, \"#7201a8\"], [0.3333333333333333, \"#9c179e\"], [0.4444444444444444, \"#bd3786\"], [0.5555555555555556, \"#d8576b\"], [0.6666666666666666, \"#ed7953\"], [0.7777777777777778, \"#fb9f3a\"], [0.8888888888888888, \"#fdca26\"], [1.0, \"#f0f921\"]], \"type\": \"contour\"}], \"contourcarpet\": [{\"colorbar\": {\"outlinewidth\": 0, \"ticks\": \"\"}, \"type\": \"contourcarpet\"}], \"heatmap\": [{\"colorbar\": {\"outlinewidth\": 0, \"ticks\": \"\"}, \"colorscale\": [[0.0, \"#0d0887\"], [0.1111111111111111, \"#46039f\"], [0.2222222222222222, \"#7201a8\"], [0.3333333333333333, \"#9c179e\"], [0.4444444444444444, \"#bd3786\"], [0.5555555555555556, \"#d8576b\"], [0.6666666666666666, \"#ed7953\"], [0.7777777777777778, \"#fb9f3a\"], [0.8888888888888888, \"#fdca26\"], [1.0, \"#f0f921\"]], \"type\": \"heatmap\"}], \"heatmapgl\": [{\"colorbar\": {\"outlinewidth\": 0, \"ticks\": \"\"}, \"colorscale\": [[0.0, \"#0d0887\"], [0.1111111111111111, \"#46039f\"], [0.2222222222222222, \"#7201a8\"], [0.3333333333333333, \"#9c179e\"], [0.4444444444444444, \"#bd3786\"], [0.5555555555555556, \"#d8576b\"], [0.6666666666666666, \"#ed7953\"], [0.7777777777777778, \"#fb9f3a\"], [0.8888888888888888, \"#fdca26\"], [1.0, \"#f0f921\"]], \"type\": \"heatmapgl\"}], \"histogram\": [{\"marker\": {\"colorbar\": {\"outlinewidth\": 0, \"ticks\": \"\"}}, \"type\": \"histogram\"}], \"histogram2d\": [{\"colorbar\": {\"outlinewidth\": 0, \"ticks\": \"\"}, \"colorscale\": [[0.0, \"#0d0887\"], [0.1111111111111111, \"#46039f\"], [0.2222222222222222, \"#7201a8\"], [0.3333333333333333, \"#9c179e\"], [0.4444444444444444, \"#bd3786\"], [0.5555555555555556, \"#d8576b\"], [0.6666666666666666, \"#ed7953\"], [0.7777777777777778, \"#fb9f3a\"], [0.8888888888888888, \"#fdca26\"], [1.0, \"#f0f921\"]], \"type\": \"histogram2d\"}], \"histogram2dcontour\": [{\"colorbar\": {\"outlinewidth\": 0, \"ticks\": \"\"}, \"colorscale\": [[0.0, \"#0d0887\"], [0.1111111111111111, \"#46039f\"], [0.2222222222222222, \"#7201a8\"], [0.3333333333333333, \"#9c179e\"], [0.4444444444444444, \"#bd3786\"], [0.5555555555555556, \"#d8576b\"], [0.6666666666666666, \"#ed7953\"], [0.7777777777777778, \"#fb9f3a\"], [0.8888888888888888, \"#fdca26\"], [1.0, \"#f0f921\"]], \"type\": \"histogram2dcontour\"}], \"mesh3d\": [{\"colorbar\": {\"outlinewidth\": 0, \"ticks\": \"\"}, \"type\": \"mesh3d\"}], \"parcoords\": [{\"line\": {\"colorbar\": {\"outlinewidth\": 0, \"ticks\": \"\"}}, \"type\": \"parcoords\"}], \"pie\": [{\"automargin\": true, \"type\": \"pie\"}], \"scatter\": [{\"marker\": {\"colorbar\": {\"outlinewidth\": 0, \"ticks\": \"\"}}, \"type\": \"scatter\"}], \"scatter3d\": [{\"line\": {\"colorbar\": {\"outlinewidth\": 0, \"ticks\": \"\"}}, \"marker\": {\"colorbar\": {\"outlinewidth\": 0, \"ticks\": \"\"}}, \"type\": \"scatter3d\"}], \"scattercarpet\": [{\"marker\": {\"colorbar\": {\"outlinewidth\": 0, \"ticks\": \"\"}}, \"type\": \"scattercarpet\"}], \"scattergeo\": [{\"marker\": {\"colorbar\": {\"outlinewidth\": 0, \"ticks\": \"\"}}, \"type\": \"scattergeo\"}], \"scattergl\": [{\"marker\": {\"colorbar\": {\"outlinewidth\": 0, \"ticks\": \"\"}}, \"type\": \"scattergl\"}], \"scattermapbox\": [{\"marker\": {\"colorbar\": {\"outlinewidth\": 0, \"ticks\": \"\"}}, \"type\": \"scattermapbox\"}], \"scatterpolar\": [{\"marker\": {\"colorbar\": {\"outlinewidth\": 0, \"ticks\": \"\"}}, \"type\": \"scatterpolar\"}], \"scatterpolargl\": [{\"marker\": {\"colorbar\": {\"outlinewidth\": 0, \"ticks\": \"\"}}, \"type\": \"scatterpolargl\"}], \"scatterternary\": [{\"marker\": {\"colorbar\": {\"outlinewidth\": 0, \"ticks\": \"\"}}, \"type\": \"scatterternary\"}], \"surface\": [{\"colorbar\": {\"outlinewidth\": 0, \"ticks\": \"\"}, \"colorscale\": [[0.0, \"#0d0887\"], [0.1111111111111111, \"#46039f\"], [0.2222222222222222, \"#7201a8\"], [0.3333333333333333, \"#9c179e\"], [0.4444444444444444, \"#bd3786\"], [0.5555555555555556, \"#d8576b\"], [0.6666666666666666, \"#ed7953\"], [0.7777777777777778, \"#fb9f3a\"], [0.8888888888888888, \"#fdca26\"], [1.0, \"#f0f921\"]], \"type\": \"surface\"}], \"table\": [{\"cells\": {\"fill\": {\"color\": \"#EBF0F8\"}, \"line\": {\"color\": \"white\"}}, \"header\": {\"fill\": {\"color\": \"#C8D4E3\"}, \"line\": {\"color\": \"white\"}}, \"type\": \"table\"}]}, \"layout\": {\"annotationdefaults\": {\"arrowcolor\": \"#2a3f5f\", \"arrowhead\": 0, \"arrowwidth\": 1}, \"coloraxis\": {\"colorbar\": {\"outlinewidth\": 0, \"ticks\": \"\"}}, \"colorscale\": {\"diverging\": [[0, \"#8e0152\"], [0.1, \"#c51b7d\"], [0.2, \"#de77ae\"], [0.3, \"#f1b6da\"], [0.4, \"#fde0ef\"], [0.5, \"#f7f7f7\"], [0.6, \"#e6f5d0\"], [0.7, \"#b8e186\"], [0.8, \"#7fbc41\"], [0.9, \"#4d9221\"], [1, \"#276419\"]], \"sequential\": [[0.0, \"#0d0887\"], [0.1111111111111111, \"#46039f\"], [0.2222222222222222, \"#7201a8\"], [0.3333333333333333, \"#9c179e\"], [0.4444444444444444, \"#bd3786\"], [0.5555555555555556, \"#d8576b\"], [0.6666666666666666, \"#ed7953\"], [0.7777777777777778, \"#fb9f3a\"], [0.8888888888888888, \"#fdca26\"], [1.0, \"#f0f921\"]], \"sequentialminus\": [[0.0, \"#0d0887\"], [0.1111111111111111, \"#46039f\"], [0.2222222222222222, \"#7201a8\"], [0.3333333333333333, \"#9c179e\"], [0.4444444444444444, \"#bd3786\"], [0.5555555555555556, \"#d8576b\"], [0.6666666666666666, \"#ed7953\"], [0.7777777777777778, \"#fb9f3a\"], [0.8888888888888888, \"#fdca26\"], [1.0, \"#f0f921\"]]}, \"colorway\": [\"#636efa\", \"#EF553B\", \"#00cc96\", \"#ab63fa\", \"#FFA15A\", \"#19d3f3\", \"#FF6692\", \"#B6E880\", \"#FF97FF\", \"#FECB52\"], \"font\": {\"color\": \"#2a3f5f\"}, \"geo\": {\"bgcolor\": \"white\", \"lakecolor\": \"white\", \"landcolor\": \"#E5ECF6\", \"showlakes\": true, \"showland\": true, \"subunitcolor\": \"white\"}, \"hoverlabel\": {\"align\": \"left\"}, \"hovermode\": \"closest\", \"mapbox\": {\"style\": \"light\"}, \"paper_bgcolor\": \"white\", \"plot_bgcolor\": \"#E5ECF6\", \"polar\": {\"angularaxis\": {\"gridcolor\": \"white\", \"linecolor\": \"white\", \"ticks\": \"\"}, \"bgcolor\": \"#E5ECF6\", \"radialaxis\": {\"gridcolor\": \"white\", \"linecolor\": \"white\", \"ticks\": \"\"}}, \"scene\": {\"xaxis\": {\"backgroundcolor\": \"#E5ECF6\", \"gridcolor\": \"white\", \"gridwidth\": 2, \"linecolor\": \"white\", \"showbackground\": true, \"ticks\": \"\", \"zerolinecolor\": \"white\"}, \"yaxis\": {\"backgroundcolor\": \"#E5ECF6\", \"gridcolor\": \"white\", \"gridwidth\": 2, \"linecolor\": \"white\", \"showbackground\": true, \"ticks\": \"\", \"zerolinecolor\": \"white\"}, \"zaxis\": {\"backgroundcolor\": \"#E5ECF6\", \"gridcolor\": \"white\", \"gridwidth\": 2, \"linecolor\": \"white\", \"showbackground\": true, \"ticks\": \"\", \"zerolinecolor\": \"white\"}}, \"shapedefaults\": {\"line\": {\"color\": \"#2a3f5f\"}}, \"ternary\": {\"aaxis\": {\"gridcolor\": \"white\", \"linecolor\": \"white\", \"ticks\": \"\"}, \"baxis\": {\"gridcolor\": \"white\", \"linecolor\": \"white\", \"ticks\": \"\"}, \"bgcolor\": \"#E5ECF6\", \"caxis\": {\"gridcolor\": \"white\", \"linecolor\": \"white\", \"ticks\": \"\"}}, \"title\": {\"x\": 0.05}, \"xaxis\": {\"automargin\": true, \"gridcolor\": \"white\", \"linecolor\": \"white\", \"ticks\": \"\", \"title\": {\"standoff\": 15}, \"zerolinecolor\": \"white\", \"zerolinewidth\": 2}, \"yaxis\": {\"automargin\": true, \"gridcolor\": \"white\", \"linecolor\": \"white\", \"ticks\": \"\", \"title\": {\"standoff\": 15}, \"zerolinecolor\": \"white\", \"zerolinewidth\": 2}}}, \"title\": {\"text\": \"Global Terrorism Instances\"}},                        {\"responsive\": true}                    ).then(function(){\n",
       "                            \n",
       "var gd = document.getElementById('7d9cb082-9176-45da-8a1b-a6f1b4f19748');\n",
       "var x = new MutationObserver(function (mutations, observer) {{\n",
       "        var display = window.getComputedStyle(gd).display;\n",
       "        if (!display || display === 'none') {{\n",
       "            console.log([gd, 'removed!']);\n",
       "            Plotly.purge(gd);\n",
       "            observer.disconnect();\n",
       "        }}\n",
       "}});\n",
       "\n",
       "// Listen for the removal of the full notebook cells\n",
       "var notebookContainer = gd.closest('#notebook-container');\n",
       "if (notebookContainer) {{\n",
       "    x.observe(notebookContainer, {childList: true});\n",
       "}}\n",
       "\n",
       "// Listen for the clearing of the current output cell\n",
       "var outputEl = gd.closest('.output');\n",
       "if (outputEl) {{\n",
       "    x.observe(outputEl, {childList: true});\n",
       "}}\n",
       "\n",
       "                        })                };                });            </script>        </div>"
      ]
     },
     "metadata": {},
     "output_type": "display_data"
    }
   ],
   "source": [
    "import plotly.graph_objects as go\n",
    "\n",
    "fig = go.Figure(data=go.Choropleth(\n",
    "    locations = choropleth['Code'],\n",
    "    z = choropleth['total_success'],\n",
    "    text = choropleth['Country'],\n",
    "    colorscale = 'Blues',\n",
    "    autocolorscale=False,\n",
    "    reversescale=True,\n",
    "    marker_line_color='black',\n",
    "    marker_line_width=0.5,\n",
    "    colorbar_title = 'Numerical Scale',\n",
    "))\n",
    "\n",
    "fig.update_layout(\n",
    "    title_text='Global Terrorism Instances',\n",
    "    geo=dict(\n",
    "        showframe=False,\n",
    "        showcoastlines=False,\n",
    "        projection_type='natural earth'\n",
    "    ),\n",
    "    annotations = [dict(\n",
    "        x=0.55,\n",
    "        y=0.1,\n",
    "        xref='paper',\n",
    "        yref='paper',\n",
    "        text='',\n",
    "        showarrow = False,\n",
    "    )]\n",
    ")\n",
    "\n",
    "fig.show()\n",
    "'''\n",
    "The Following Plot considers events of every scale ever to occur and recorded in this database,\n",
    "each country's terrorism events (successful) are clustered/aggregated to get a concrete value \n",
    "which is then plotted on this choropleth map.\n",
    "\n",
    "'''\n"
   ]
  },
  {
   "cell_type": "markdown",
   "metadata": {},
   "source": [
    "***"
   ]
  }
 ],
 "metadata": {
  "kernelspec": {
   "display_name": "Python 3",
   "language": "python",
   "name": "python3"
  }
 },
 "nbformat": 4,
 "nbformat_minor": 4
}
