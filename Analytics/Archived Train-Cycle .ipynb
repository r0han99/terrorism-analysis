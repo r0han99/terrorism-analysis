{
 "cells": [
  {
   "cell_type": "markdown",
   "metadata": {},
   "source": [
    "### Shallow Vs Deep Learning Methodology to Uncover patterns of Terrorism"
   ]
  },
  {
   "cell_type": "code",
   "execution_count": 1,
   "metadata": {},
   "outputs": [],
   "source": [
    "# required modules "
   ]
  },
  {
   "cell_type": "code",
   "execution_count": 2,
   "metadata": {},
   "outputs": [],
   "source": [
    "# Data Libraries \n",
    "import pandas as pd \n",
    "import numpy as np\n",
    "\n",
    "# plotting libraries \n",
    "import matplotlib.pyplot as plt \n",
    "import plotly.graph_objects as go\n",
    "import seaborn as sns\n",
    "\n",
    "#predictive modelling \n",
    "import sklearn \n",
    "from tensorflow.keras.layers import Dense, Activation, BatchNormalization\n",
    "\n",
    "# ignore warnings \n",
    "import warnings \n",
    "warnings.filterwarnings(\"ignore\", category=DeprecationWarning)\n"
   ]
  },
  {
   "cell_type": "code",
   "execution_count": 3,
   "metadata": {},
   "outputs": [],
   "source": [
    "# data path \n",
    "# MacOS\n",
    "abspath = './Data/Data.csv'\n",
    "metadata = './Data/terrorism_metadata.csv'\n",
    "# Windows \n",
    "# abspath = r\"C:\\Users\\91800\\Desktop\\terrorism-analysis\\Data\\Data.csv\"\n",
    "# metadata = r\"C:\\Users\\91800\\Desktop\\terrorism-analysis\\Data\\terrorism_metadata.csv\""
   ]
  },
  {
   "cell_type": "code",
   "execution_count": 4,
   "metadata": {},
   "outputs": [],
   "source": [
    "# Functional Meta-Data --> usage - meta_data['column-name']\n",
    "meta = pd.read_csv(metadata)\n",
    "meta = meta.drop(meta.columns[2:],axis=1)\n",
    "meta_data = {}\n",
    "for x,y in zip(list(meta['Column']),list(meta['Desc'])):\n",
    "    meta_data[x] = y\n",
    "\n",
    "# meta_data"
   ]
  },
  {
   "cell_type": "code",
   "execution_count": 5,
   "metadata": {},
   "outputs": [],
   "source": [
    "# Data \n",
    "data = pd.read_csv(abspath,encoding='latin1',low_memory=False)"
   ]
  },
  {
   "cell_type": "code",
   "execution_count": 6,
   "metadata": {},
   "outputs": [],
   "source": [
    "data = data.drop('Unnamed: 0',axis=1) # dropping the redundant column"
   ]
  },
  {
   "cell_type": "code",
   "execution_count": 7,
   "metadata": {},
   "outputs": [
    {
     "data": {
      "text/html": [
       "<div>\n",
       "<style scoped>\n",
       "    .dataframe tbody tr th:only-of-type {\n",
       "        vertical-align: middle;\n",
       "    }\n",
       "\n",
       "    .dataframe tbody tr th {\n",
       "        vertical-align: top;\n",
       "    }\n",
       "\n",
       "    .dataframe thead th {\n",
       "        text-align: right;\n",
       "    }\n",
       "</style>\n",
       "<table border=\"1\" class=\"dataframe\">\n",
       "  <thead>\n",
       "    <tr style=\"text-align: right;\">\n",
       "      <th></th>\n",
       "      <th>eventid</th>\n",
       "      <th>iyear</th>\n",
       "      <th>imonth</th>\n",
       "      <th>iday</th>\n",
       "      <th>extended</th>\n",
       "      <th>country</th>\n",
       "      <th>country_txt</th>\n",
       "      <th>region</th>\n",
       "      <th>region_txt</th>\n",
       "      <th>city</th>\n",
       "      <th>...</th>\n",
       "      <th>target1</th>\n",
       "      <th>natlty1</th>\n",
       "      <th>natlty1_txt</th>\n",
       "      <th>gname</th>\n",
       "      <th>motive</th>\n",
       "      <th>nperps</th>\n",
       "      <th>weaptype1</th>\n",
       "      <th>weaptype1_txt</th>\n",
       "      <th>nkill</th>\n",
       "      <th>propextent</th>\n",
       "    </tr>\n",
       "  </thead>\n",
       "  <tbody>\n",
       "    <tr>\n",
       "      <th>0</th>\n",
       "      <td>197000000001</td>\n",
       "      <td>1970</td>\n",
       "      <td>7</td>\n",
       "      <td>2</td>\n",
       "      <td>0</td>\n",
       "      <td>58</td>\n",
       "      <td>Dominican Republic</td>\n",
       "      <td>2</td>\n",
       "      <td>Central America &amp; Caribbean</td>\n",
       "      <td>Santo Domingo</td>\n",
       "      <td>...</td>\n",
       "      <td>Julio Guzman</td>\n",
       "      <td>58.0</td>\n",
       "      <td>Dominican Republic</td>\n",
       "      <td>MANO-D</td>\n",
       "      <td>Unknown</td>\n",
       "      <td>NaN</td>\n",
       "      <td>13</td>\n",
       "      <td>Unknown</td>\n",
       "      <td>1.0</td>\n",
       "      <td>NaN</td>\n",
       "    </tr>\n",
       "    <tr>\n",
       "      <th>1</th>\n",
       "      <td>197000000002</td>\n",
       "      <td>1970</td>\n",
       "      <td>0</td>\n",
       "      <td>0</td>\n",
       "      <td>0</td>\n",
       "      <td>130</td>\n",
       "      <td>Mexico</td>\n",
       "      <td>1</td>\n",
       "      <td>North America</td>\n",
       "      <td>Mexico city</td>\n",
       "      <td>...</td>\n",
       "      <td>Nadine Chaval, daughter</td>\n",
       "      <td>21.0</td>\n",
       "      <td>Belgium</td>\n",
       "      <td>23rd of September Communist League</td>\n",
       "      <td>Unknown</td>\n",
       "      <td>7.0</td>\n",
       "      <td>13</td>\n",
       "      <td>Unknown</td>\n",
       "      <td>0.0</td>\n",
       "      <td>NaN</td>\n",
       "    </tr>\n",
       "    <tr>\n",
       "      <th>2</th>\n",
       "      <td>197001000001</td>\n",
       "      <td>1970</td>\n",
       "      <td>1</td>\n",
       "      <td>0</td>\n",
       "      <td>0</td>\n",
       "      <td>160</td>\n",
       "      <td>Philippines</td>\n",
       "      <td>5</td>\n",
       "      <td>Southeast Asia</td>\n",
       "      <td>Unknown</td>\n",
       "      <td>...</td>\n",
       "      <td>Employee</td>\n",
       "      <td>217.0</td>\n",
       "      <td>United States</td>\n",
       "      <td>Unknown</td>\n",
       "      <td>Unknown</td>\n",
       "      <td>NaN</td>\n",
       "      <td>13</td>\n",
       "      <td>Unknown</td>\n",
       "      <td>1.0</td>\n",
       "      <td>NaN</td>\n",
       "    </tr>\n",
       "    <tr>\n",
       "      <th>3</th>\n",
       "      <td>197001000002</td>\n",
       "      <td>1970</td>\n",
       "      <td>1</td>\n",
       "      <td>0</td>\n",
       "      <td>0</td>\n",
       "      <td>78</td>\n",
       "      <td>Greece</td>\n",
       "      <td>8</td>\n",
       "      <td>Western Europe</td>\n",
       "      <td>Athens</td>\n",
       "      <td>...</td>\n",
       "      <td>U.S. Embassy</td>\n",
       "      <td>217.0</td>\n",
       "      <td>United States</td>\n",
       "      <td>Unknown</td>\n",
       "      <td>Unknown</td>\n",
       "      <td>NaN</td>\n",
       "      <td>6</td>\n",
       "      <td>Explosives</td>\n",
       "      <td>NaN</td>\n",
       "      <td>NaN</td>\n",
       "    </tr>\n",
       "    <tr>\n",
       "      <th>4</th>\n",
       "      <td>197001000003</td>\n",
       "      <td>1970</td>\n",
       "      <td>1</td>\n",
       "      <td>0</td>\n",
       "      <td>0</td>\n",
       "      <td>101</td>\n",
       "      <td>Japan</td>\n",
       "      <td>4</td>\n",
       "      <td>East Asia</td>\n",
       "      <td>Fukouka</td>\n",
       "      <td>...</td>\n",
       "      <td>U.S. Consulate</td>\n",
       "      <td>217.0</td>\n",
       "      <td>United States</td>\n",
       "      <td>Unknown</td>\n",
       "      <td>Unknown</td>\n",
       "      <td>NaN</td>\n",
       "      <td>8</td>\n",
       "      <td>Incendiary</td>\n",
       "      <td>NaN</td>\n",
       "      <td>NaN</td>\n",
       "    </tr>\n",
       "  </tbody>\n",
       "</table>\n",
       "<p>5 rows × 29 columns</p>\n",
       "</div>"
      ],
      "text/plain": [
       "        eventid  iyear  imonth  iday  extended  country         country_txt  \\\n",
       "0  197000000001   1970       7     2         0       58  Dominican Republic   \n",
       "1  197000000002   1970       0     0         0      130              Mexico   \n",
       "2  197001000001   1970       1     0         0      160         Philippines   \n",
       "3  197001000002   1970       1     0         0       78              Greece   \n",
       "4  197001000003   1970       1     0         0      101               Japan   \n",
       "\n",
       "   region                   region_txt           city  ...  \\\n",
       "0       2  Central America & Caribbean  Santo Domingo  ...   \n",
       "1       1                North America    Mexico city  ...   \n",
       "2       5               Southeast Asia        Unknown  ...   \n",
       "3       8               Western Europe         Athens  ...   \n",
       "4       4                    East Asia        Fukouka  ...   \n",
       "\n",
       "                   target1  natlty1         natlty1_txt  \\\n",
       "0             Julio Guzman     58.0  Dominican Republic   \n",
       "1  Nadine Chaval, daughter     21.0             Belgium   \n",
       "2                 Employee    217.0       United States   \n",
       "3             U.S. Embassy    217.0       United States   \n",
       "4           U.S. Consulate    217.0       United States   \n",
       "\n",
       "                                gname   motive nperps weaptype1 weaptype1_txt  \\\n",
       "0                              MANO-D  Unknown    NaN        13       Unknown   \n",
       "1  23rd of September Communist League  Unknown    7.0        13       Unknown   \n",
       "2                             Unknown  Unknown    NaN        13       Unknown   \n",
       "3                             Unknown  Unknown    NaN         6    Explosives   \n",
       "4                             Unknown  Unknown    NaN         8    Incendiary   \n",
       "\n",
       "  nkill propextent  \n",
       "0   1.0        NaN  \n",
       "1   0.0        NaN  \n",
       "2   1.0        NaN  \n",
       "3   NaN        NaN  \n",
       "4   NaN        NaN  \n",
       "\n",
       "[5 rows x 29 columns]"
      ]
     },
     "execution_count": 7,
     "metadata": {},
     "output_type": "execute_result"
    }
   ],
   "source": [
    "data.head()"
   ]
  },
  {
   "cell_type": "code",
   "execution_count": 8,
   "metadata": {},
   "outputs": [
    {
     "data": {
      "text/plain": [
       "<AxesSubplot:>"
      ]
     },
     "execution_count": 8,
     "metadata": {},
     "output_type": "execute_result"
    },
    {
     "data": {
      "image/png": "[encoded data removed]",
      "text/plain": [
       "<Figure size 720x504 with 2 Axes>"
      ]
     },
     "metadata": {
      "needs_background": "light"
     },
     "output_type": "display_data"
    }
   ],
   "source": [
    "plt.figure(figsize=(10,7))\n",
    "sns.heatmap(data.corr(),annot=True, cmap='BuGn',fmt='.2f')"
   ]
  },
  {
   "cell_type": "code",
   "execution_count": 9,
   "metadata": {},
   "outputs": [
    {
     "data": {
      "text/plain": [
       "Index(['eventid', 'iyear', 'imonth', 'iday', 'extended', 'country',\n",
       "       'country_txt', 'region', 'region_txt', 'city', 'provstate', 'latitude',\n",
       "       'longitude', 'success', 'suicide', 'attacktype1_txt', 'targtype1_txt',\n",
       "       'targsubtype1_txt', 'corp1', 'target1', 'natlty1', 'natlty1_txt',\n",
       "       'gname', 'motive', 'nperps', 'weaptype1', 'weaptype1_txt', 'nkill',\n",
       "       'propextent'],\n",
       "      dtype='object')"
      ]
     },
     "execution_count": 9,
     "metadata": {},
     "output_type": "execute_result"
    }
   ],
   "source": [
    "data.columns"
   ]
  },
  {
   "cell_type": "code",
   "execution_count": 10,
   "metadata": {},
   "outputs": [],
   "source": [
    "data = data.drop('eventid',axis=1)"
   ]
  },
  {
   "cell_type": "code",
   "execution_count": null,
   "metadata": {},
   "outputs": [],
   "source": []
  },
  {
   "cell_type": "code",
   "execution_count": 11,
   "metadata": {},
   "outputs": [
    {
     "data": {
      "text/plain": [
       "<AxesSubplot:>"
      ]
     },
     "execution_count": 11,
     "metadata": {},
     "output_type": "execute_result"
    },
    {
     "data": {
      "image/png": "[encoded data removed]",
      "text/plain": [
       "<Figure size 720x504 with 2 Axes>"
      ]
     },
     "metadata": {
      "needs_background": "light"
     },
     "output_type": "display_data"
    }
   ],
   "source": [
    "plt.figure(figsize=(10,7))\n",
    "sns.heatmap(data.corr(),annot=True, cmap='BuGn',fmt='.2f')"
   ]
  },
  {
   "cell_type": "code",
   "execution_count": 12,
   "metadata": {
    "scrolled": true
   },
   "outputs": [
    {
     "data": {
      "text/plain": [
       "{'eventid': 'Unique id for each event',\n",
       " 'iyear': 'Year of incident',\n",
       " 'imonth': 'Month of incident',\n",
       " 'iday': 'Numeric day on which the incident occurred.',\n",
       " 'extended': 'Yes/No for for whether the incedent extended for more than 24 hours.',\n",
       " 'country': 'Country code',\n",
       " 'country_txt': 'Country where the incident took place',\n",
       " 'region ': 'Region code based on 12 regions.',\n",
       " 'region_txt': 'Region in which the incident occurred',\n",
       " 'city': 'Name of the city/village/town in which the incident took place.',\n",
       " 'provstate': 'Name of the first order subnational region during the time of the event',\n",
       " 'latitude': 'Coordinate',\n",
       " 'longitude': 'Coordinate',\n",
       " 'location': '*Exact* location where the incident took place',\n",
       " 'summary': 'synopsis',\n",
       " 'success': 'Yes/No for the success of the terrorist strike',\n",
       " 'suicide': 'Yes/No for whether the attack was a suicide attack',\n",
       " 'attacktype1_txt': 'The general method of attack/ the tactics used.',\n",
       " 'targettype1_txt': 'The general category of victim of the attack.',\n",
       " 'targetsubtype1_txt': 'More specific target category.',\n",
       " 'corp1': 'Victim corporation.',\n",
       " 'target1': 'The specific person, building, instasllation that was targeted/ victimized.',\n",
       " 'natlty1 ': 'Nationality code of the target that was attacked.',\n",
       " 'natlty1_txt': 'Nationality of the target that was attacked.',\n",
       " 'gname': 'Name of the group that carried out the attack.',\n",
       " 'motive': 'Motive of the attack.',\n",
       " 'npreps': 'Total number of terrorists that carried out the attack.',\n",
       " 'weaptype1': 'Weapon code.',\n",
       " 'weaptype1_txt': 'General type of the weapon used in the incident.',\n",
       " 'nkill': 'Total number of confirmed kills in the incident.',\n",
       " 'propextent': 'Extent to which the property was lost due to the incident. 2 = Major i.e. greater that 1 million and less than 1 billion, 3 = Minor i.e. less that 1 million, '}"
      ]
     },
     "execution_count": 12,
     "metadata": {},
     "output_type": "execute_result"
    }
   ],
   "source": [
    "meta_data"
   ]
  },
  {
   "cell_type": "code",
   "execution_count": 13,
   "metadata": {},
   "outputs": [
    {
     "data": {
      "text/html": [
       "<div>\n",
       "<style scoped>\n",
       "    .dataframe tbody tr th:only-of-type {\n",
       "        vertical-align: middle;\n",
       "    }\n",
       "\n",
       "    .dataframe tbody tr th {\n",
       "        vertical-align: top;\n",
       "    }\n",
       "\n",
       "    .dataframe thead th {\n",
       "        text-align: right;\n",
       "    }\n",
       "</style>\n",
       "<table border=\"1\" class=\"dataframe\">\n",
       "  <thead>\n",
       "    <tr style=\"text-align: right;\">\n",
       "      <th></th>\n",
       "      <th>iyear</th>\n",
       "      <th>imonth</th>\n",
       "      <th>iday</th>\n",
       "      <th>extended</th>\n",
       "      <th>country</th>\n",
       "      <th>country_txt</th>\n",
       "      <th>region</th>\n",
       "      <th>region_txt</th>\n",
       "      <th>city</th>\n",
       "      <th>provstate</th>\n",
       "      <th>...</th>\n",
       "      <th>target1</th>\n",
       "      <th>natlty1</th>\n",
       "      <th>natlty1_txt</th>\n",
       "      <th>gname</th>\n",
       "      <th>motive</th>\n",
       "      <th>nperps</th>\n",
       "      <th>weaptype1</th>\n",
       "      <th>weaptype1_txt</th>\n",
       "      <th>nkill</th>\n",
       "      <th>propextent</th>\n",
       "    </tr>\n",
       "  </thead>\n",
       "  <tbody>\n",
       "    <tr>\n",
       "      <th>0</th>\n",
       "      <td>1970</td>\n",
       "      <td>7</td>\n",
       "      <td>2</td>\n",
       "      <td>0</td>\n",
       "      <td>58</td>\n",
       "      <td>Dominican Republic</td>\n",
       "      <td>2</td>\n",
       "      <td>Central America &amp; Caribbean</td>\n",
       "      <td>Santo Domingo</td>\n",
       "      <td>Unknown</td>\n",
       "      <td>...</td>\n",
       "      <td>Julio Guzman</td>\n",
       "      <td>58.0</td>\n",
       "      <td>Dominican Republic</td>\n",
       "      <td>MANO-D</td>\n",
       "      <td>Unknown</td>\n",
       "      <td>NaN</td>\n",
       "      <td>13</td>\n",
       "      <td>Unknown</td>\n",
       "      <td>1.0</td>\n",
       "      <td>NaN</td>\n",
       "    </tr>\n",
       "    <tr>\n",
       "      <th>1</th>\n",
       "      <td>1970</td>\n",
       "      <td>0</td>\n",
       "      <td>0</td>\n",
       "      <td>0</td>\n",
       "      <td>130</td>\n",
       "      <td>Mexico</td>\n",
       "      <td>1</td>\n",
       "      <td>North America</td>\n",
       "      <td>Mexico city</td>\n",
       "      <td>Federal</td>\n",
       "      <td>...</td>\n",
       "      <td>Nadine Chaval, daughter</td>\n",
       "      <td>21.0</td>\n",
       "      <td>Belgium</td>\n",
       "      <td>23rd of September Communist League</td>\n",
       "      <td>Unknown</td>\n",
       "      <td>7.0</td>\n",
       "      <td>13</td>\n",
       "      <td>Unknown</td>\n",
       "      <td>0.0</td>\n",
       "      <td>NaN</td>\n",
       "    </tr>\n",
       "    <tr>\n",
       "      <th>2</th>\n",
       "      <td>1970</td>\n",
       "      <td>1</td>\n",
       "      <td>0</td>\n",
       "      <td>0</td>\n",
       "      <td>160</td>\n",
       "      <td>Philippines</td>\n",
       "      <td>5</td>\n",
       "      <td>Southeast Asia</td>\n",
       "      <td>Unknown</td>\n",
       "      <td>Tarlac</td>\n",
       "      <td>...</td>\n",
       "      <td>Employee</td>\n",
       "      <td>217.0</td>\n",
       "      <td>United States</td>\n",
       "      <td>Unknown</td>\n",
       "      <td>Unknown</td>\n",
       "      <td>NaN</td>\n",
       "      <td>13</td>\n",
       "      <td>Unknown</td>\n",
       "      <td>1.0</td>\n",
       "      <td>NaN</td>\n",
       "    </tr>\n",
       "    <tr>\n",
       "      <th>3</th>\n",
       "      <td>1970</td>\n",
       "      <td>1</td>\n",
       "      <td>0</td>\n",
       "      <td>0</td>\n",
       "      <td>78</td>\n",
       "      <td>Greece</td>\n",
       "      <td>8</td>\n",
       "      <td>Western Europe</td>\n",
       "      <td>Athens</td>\n",
       "      <td>Attica</td>\n",
       "      <td>...</td>\n",
       "      <td>U.S. Embassy</td>\n",
       "      <td>217.0</td>\n",
       "      <td>United States</td>\n",
       "      <td>Unknown</td>\n",
       "      <td>Unknown</td>\n",
       "      <td>NaN</td>\n",
       "      <td>6</td>\n",
       "      <td>Explosives</td>\n",
       "      <td>NaN</td>\n",
       "      <td>NaN</td>\n",
       "    </tr>\n",
       "  </tbody>\n",
       "</table>\n",
       "<p>4 rows × 28 columns</p>\n",
       "</div>"
      ],
      "text/plain": [
       "   iyear  imonth  iday  extended  country         country_txt  region  \\\n",
       "0   1970       7     2         0       58  Dominican Republic       2   \n",
       "1   1970       0     0         0      130              Mexico       1   \n",
       "2   1970       1     0         0      160         Philippines       5   \n",
       "3   1970       1     0         0       78              Greece       8   \n",
       "\n",
       "                    region_txt           city provstate  ...  \\\n",
       "0  Central America & Caribbean  Santo Domingo   Unknown  ...   \n",
       "1                North America    Mexico city   Federal  ...   \n",
       "2               Southeast Asia        Unknown    Tarlac  ...   \n",
       "3               Western Europe         Athens    Attica  ...   \n",
       "\n",
       "                   target1  natlty1         natlty1_txt  \\\n",
       "0             Julio Guzman     58.0  Dominican Republic   \n",
       "1  Nadine Chaval, daughter     21.0             Belgium   \n",
       "2                 Employee    217.0       United States   \n",
       "3             U.S. Embassy    217.0       United States   \n",
       "\n",
       "                                gname   motive nperps weaptype1 weaptype1_txt  \\\n",
       "0                              MANO-D  Unknown    NaN        13       Unknown   \n",
       "1  23rd of September Communist League  Unknown    7.0        13       Unknown   \n",
       "2                             Unknown  Unknown    NaN        13       Unknown   \n",
       "3                             Unknown  Unknown    NaN         6    Explosives   \n",
       "\n",
       "  nkill  propextent  \n",
       "0   1.0         NaN  \n",
       "1   0.0         NaN  \n",
       "2   1.0         NaN  \n",
       "3   NaN         NaN  \n",
       "\n",
       "[4 rows x 28 columns]"
      ]
     },
     "execution_count": 13,
     "metadata": {},
     "output_type": "execute_result"
    }
   ],
   "source": [
    "data.head(4)"
   ]
  },
  {
   "cell_type": "code",
   "execution_count": 14,
   "metadata": {},
   "outputs": [
    {
     "data": {
      "text/plain": [
       "Index(['iyear', 'imonth', 'iday', 'extended', 'country', 'country_txt',\n",
       "       'region', 'region_txt', 'city', 'provstate', 'latitude', 'longitude',\n",
       "       'success', 'suicide', 'attacktype1_txt', 'targtype1_txt',\n",
       "       'targsubtype1_txt', 'corp1', 'target1', 'natlty1', 'natlty1_txt',\n",
       "       'gname', 'motive', 'nperps', 'weaptype1', 'weaptype1_txt', 'nkill',\n",
       "       'propextent'],\n",
       "      dtype='object')"
      ]
     },
     "execution_count": 14,
     "metadata": {},
     "output_type": "execute_result"
    }
   ],
   "source": [
    "data.columns"
   ]
  },
  {
   "cell_type": "code",
   "execution_count": 15,
   "metadata": {},
   "outputs": [],
   "source": [
    "delcols = ['longitude','latitude','country_txt',\n",
    "           'region_txt','city','provstate','natlty1_txt'\n",
    "            ,'weaptype1_txt','propextent',\n",
    "           'attacktype1_txt','targsubtype1_txt','corp1']"
   ]
  },
  {
   "cell_type": "code",
   "execution_count": 16,
   "metadata": {},
   "outputs": [],
   "source": [
    "df = data.drop(delcols, axis=1)"
   ]
  },
  {
   "cell_type": "markdown",
   "metadata": {},
   "source": [
    "### Terrorist Organisations \n",
    "***\n",
    "This predictive modeling can only be achieved when the data is in context of only ***one*** **Gname/Organisation**, so the following procedure is a trail to determine whether a network could generalise well enough in context of one Gname "
   ]
  },
  {
   "cell_type": "code",
   "execution_count": 17,
   "metadata": {
    "scrolled": true
   },
   "outputs": [],
   "source": [
    "top20 = df.groupby('gname')['success'].sum().sort_values(ascending=False)"
   ]
  },
  {
   "cell_type": "markdown",
   "metadata": {},
   "source": [
    "#### *Taliban "
   ]
  },
  {
   "cell_type": "code",
   "execution_count": 18,
   "metadata": {},
   "outputs": [],
   "source": [
    "taliban = df[df['gname'] == 'Taliban']"
   ]
  },
  {
   "cell_type": "code",
   "execution_count": 19,
   "metadata": {},
   "outputs": [
    {
     "data": {
      "text/plain": [
       "(7478, 16)"
      ]
     },
     "execution_count": 19,
     "metadata": {},
     "output_type": "execute_result"
    }
   ],
   "source": [
    "taliban.shape"
   ]
  },
  {
   "cell_type": "code",
   "execution_count": 20,
   "metadata": {},
   "outputs": [
    {
     "data": {
      "text/html": [
       "<div>\n",
       "<style scoped>\n",
       "    .dataframe tbody tr th:only-of-type {\n",
       "        vertical-align: middle;\n",
       "    }\n",
       "\n",
       "    .dataframe tbody tr th {\n",
       "        vertical-align: top;\n",
       "    }\n",
       "\n",
       "    .dataframe thead th {\n",
       "        text-align: right;\n",
       "    }\n",
       "</style>\n",
       "<table border=\"1\" class=\"dataframe\">\n",
       "  <thead>\n",
       "    <tr style=\"text-align: right;\">\n",
       "      <th></th>\n",
       "      <th>iyear</th>\n",
       "      <th>imonth</th>\n",
       "      <th>iday</th>\n",
       "      <th>extended</th>\n",
       "      <th>country</th>\n",
       "      <th>region</th>\n",
       "      <th>success</th>\n",
       "      <th>suicide</th>\n",
       "      <th>targtype1_txt</th>\n",
       "      <th>target1</th>\n",
       "      <th>natlty1</th>\n",
       "      <th>gname</th>\n",
       "      <th>motive</th>\n",
       "      <th>nperps</th>\n",
       "      <th>weaptype1</th>\n",
       "      <th>nkill</th>\n",
       "    </tr>\n",
       "  </thead>\n",
       "  <tbody>\n",
       "    <tr>\n",
       "      <th>59040</th>\n",
       "      <td>1995</td>\n",
       "      <td>4</td>\n",
       "      <td>20</td>\n",
       "      <td>1</td>\n",
       "      <td>4</td>\n",
       "      <td>6</td>\n",
       "      <td>1</td>\n",
       "      <td>0</td>\n",
       "      <td>Police</td>\n",
       "      <td>Federal Investigation Agency</td>\n",
       "      <td>153.0</td>\n",
       "      <td>Taliban</td>\n",
       "      <td>Unknown</td>\n",
       "      <td>NaN</td>\n",
       "      <td>13</td>\n",
       "      <td>0.0</td>\n",
       "    </tr>\n",
       "    <tr>\n",
       "      <th>60014</th>\n",
       "      <td>1995</td>\n",
       "      <td>8</td>\n",
       "      <td>3</td>\n",
       "      <td>0</td>\n",
       "      <td>4</td>\n",
       "      <td>6</td>\n",
       "      <td>1</td>\n",
       "      <td>0</td>\n",
       "      <td>Airports &amp; Aircraft</td>\n",
       "      <td>Russian Il-76 Cargo Aircraft</td>\n",
       "      <td>167.0</td>\n",
       "      <td>Taliban</td>\n",
       "      <td>Unknown</td>\n",
       "      <td>NaN</td>\n",
       "      <td>6</td>\n",
       "      <td>0.0</td>\n",
       "    </tr>\n",
       "    <tr>\n",
       "      <th>60462</th>\n",
       "      <td>1995</td>\n",
       "      <td>9</td>\n",
       "      <td>21</td>\n",
       "      <td>1</td>\n",
       "      <td>4</td>\n",
       "      <td>6</td>\n",
       "      <td>1</td>\n",
       "      <td>0</td>\n",
       "      <td>Airports &amp; Aircraft</td>\n",
       "      <td>Boeing 727</td>\n",
       "      <td>4.0</td>\n",
       "      <td>Taliban</td>\n",
       "      <td>Unknown</td>\n",
       "      <td>NaN</td>\n",
       "      <td>6</td>\n",
       "      <td>0.0</td>\n",
       "    </tr>\n",
       "    <tr>\n",
       "      <th>60786</th>\n",
       "      <td>1995</td>\n",
       "      <td>10</td>\n",
       "      <td>25</td>\n",
       "      <td>0</td>\n",
       "      <td>4</td>\n",
       "      <td>6</td>\n",
       "      <td>0</td>\n",
       "      <td>0</td>\n",
       "      <td>Airports &amp; Aircraft</td>\n",
       "      <td>ICRC- Chartered Aircraft</td>\n",
       "      <td>199.0</td>\n",
       "      <td>Taliban</td>\n",
       "      <td>Unknown</td>\n",
       "      <td>NaN</td>\n",
       "      <td>6</td>\n",
       "      <td>0.0</td>\n",
       "    </tr>\n",
       "    <tr>\n",
       "      <th>71682</th>\n",
       "      <td>2001</td>\n",
       "      <td>1</td>\n",
       "      <td>7</td>\n",
       "      <td>1</td>\n",
       "      <td>4</td>\n",
       "      <td>6</td>\n",
       "      <td>1</td>\n",
       "      <td>0</td>\n",
       "      <td>Private Citizens &amp; Property</td>\n",
       "      <td>Civilians living in the vicinity of Yakawlang</td>\n",
       "      <td>4.0</td>\n",
       "      <td>Taliban</td>\n",
       "      <td>Specific motive is unknown; however, survivors...</td>\n",
       "      <td>-99.0</td>\n",
       "      <td>5</td>\n",
       "      <td>150.0</td>\n",
       "    </tr>\n",
       "    <tr>\n",
       "      <th>...</th>\n",
       "      <td>...</td>\n",
       "      <td>...</td>\n",
       "      <td>...</td>\n",
       "      <td>...</td>\n",
       "      <td>...</td>\n",
       "      <td>...</td>\n",
       "      <td>...</td>\n",
       "      <td>...</td>\n",
       "      <td>...</td>\n",
       "      <td>...</td>\n",
       "      <td>...</td>\n",
       "      <td>...</td>\n",
       "      <td>...</td>\n",
       "      <td>...</td>\n",
       "      <td>...</td>\n",
       "      <td>...</td>\n",
       "    </tr>\n",
       "    <tr>\n",
       "      <th>181600</th>\n",
       "      <td>2017</td>\n",
       "      <td>12</td>\n",
       "      <td>28</td>\n",
       "      <td>0</td>\n",
       "      <td>4</td>\n",
       "      <td>6</td>\n",
       "      <td>1</td>\n",
       "      <td>0</td>\n",
       "      <td>Police</td>\n",
       "      <td>Fifth Brigade Officers</td>\n",
       "      <td>4.0</td>\n",
       "      <td>Taliban</td>\n",
       "      <td>Unknown</td>\n",
       "      <td>-99.0</td>\n",
       "      <td>13</td>\n",
       "      <td>4.0</td>\n",
       "    </tr>\n",
       "    <tr>\n",
       "      <th>181619</th>\n",
       "      <td>2017</td>\n",
       "      <td>12</td>\n",
       "      <td>28</td>\n",
       "      <td>0</td>\n",
       "      <td>4</td>\n",
       "      <td>6</td>\n",
       "      <td>1</td>\n",
       "      <td>0</td>\n",
       "      <td>Police</td>\n",
       "      <td>Police Checkpoint</td>\n",
       "      <td>4.0</td>\n",
       "      <td>Taliban</td>\n",
       "      <td>Unknown</td>\n",
       "      <td>-99.0</td>\n",
       "      <td>13</td>\n",
       "      <td>3.0</td>\n",
       "    </tr>\n",
       "    <tr>\n",
       "      <th>181651</th>\n",
       "      <td>2017</td>\n",
       "      <td>12</td>\n",
       "      <td>30</td>\n",
       "      <td>0</td>\n",
       "      <td>4</td>\n",
       "      <td>6</td>\n",
       "      <td>1</td>\n",
       "      <td>0</td>\n",
       "      <td>Military</td>\n",
       "      <td>Checkpoints</td>\n",
       "      <td>4.0</td>\n",
       "      <td>Taliban</td>\n",
       "      <td>Unknown</td>\n",
       "      <td>-99.0</td>\n",
       "      <td>13</td>\n",
       "      <td>11.0</td>\n",
       "    </tr>\n",
       "    <tr>\n",
       "      <th>181676</th>\n",
       "      <td>2017</td>\n",
       "      <td>12</td>\n",
       "      <td>31</td>\n",
       "      <td>0</td>\n",
       "      <td>4</td>\n",
       "      <td>6</td>\n",
       "      <td>1</td>\n",
       "      <td>0</td>\n",
       "      <td>Police</td>\n",
       "      <td>Vehicle</td>\n",
       "      <td>4.0</td>\n",
       "      <td>Taliban</td>\n",
       "      <td>Unknown</td>\n",
       "      <td>-99.0</td>\n",
       "      <td>6</td>\n",
       "      <td>5.0</td>\n",
       "    </tr>\n",
       "    <tr>\n",
       "      <th>181683</th>\n",
       "      <td>2017</td>\n",
       "      <td>12</td>\n",
       "      <td>31</td>\n",
       "      <td>0</td>\n",
       "      <td>4</td>\n",
       "      <td>6</td>\n",
       "      <td>1</td>\n",
       "      <td>0</td>\n",
       "      <td>Terrorists/Non-State Militia</td>\n",
       "      <td>House of Member</td>\n",
       "      <td>4.0</td>\n",
       "      <td>Taliban</td>\n",
       "      <td>The specific motive is unknown; however, sourc...</td>\n",
       "      <td>-99.0</td>\n",
       "      <td>5</td>\n",
       "      <td>6.0</td>\n",
       "    </tr>\n",
       "  </tbody>\n",
       "</table>\n",
       "<p>7478 rows × 16 columns</p>\n",
       "</div>"
      ],
      "text/plain": [
       "        iyear  imonth  iday  extended  country  region  success  suicide  \\\n",
       "59040    1995       4    20         1        4       6        1        0   \n",
       "60014    1995       8     3         0        4       6        1        0   \n",
       "60462    1995       9    21         1        4       6        1        0   \n",
       "60786    1995      10    25         0        4       6        0        0   \n",
       "71682    2001       1     7         1        4       6        1        0   \n",
       "...       ...     ...   ...       ...      ...     ...      ...      ...   \n",
       "181600   2017      12    28         0        4       6        1        0   \n",
       "181619   2017      12    28         0        4       6        1        0   \n",
       "181651   2017      12    30         0        4       6        1        0   \n",
       "181676   2017      12    31         0        4       6        1        0   \n",
       "181683   2017      12    31         0        4       6        1        0   \n",
       "\n",
       "                       targtype1_txt  \\\n",
       "59040                         Police   \n",
       "60014            Airports & Aircraft   \n",
       "60462            Airports & Aircraft   \n",
       "60786            Airports & Aircraft   \n",
       "71682    Private Citizens & Property   \n",
       "...                              ...   \n",
       "181600                        Police   \n",
       "181619                        Police   \n",
       "181651                      Military   \n",
       "181676                        Police   \n",
       "181683  Terrorists/Non-State Militia   \n",
       "\n",
       "                                              target1  natlty1    gname  \\\n",
       "59040                    Federal Investigation Agency    153.0  Taliban   \n",
       "60014                    Russian Il-76 Cargo Aircraft    167.0  Taliban   \n",
       "60462                                      Boeing 727      4.0  Taliban   \n",
       "60786                        ICRC- Chartered Aircraft    199.0  Taliban   \n",
       "71682   Civilians living in the vicinity of Yakawlang      4.0  Taliban   \n",
       "...                                               ...      ...      ...   \n",
       "181600                         Fifth Brigade Officers      4.0  Taliban   \n",
       "181619                              Police Checkpoint      4.0  Taliban   \n",
       "181651                                    Checkpoints      4.0  Taliban   \n",
       "181676                                        Vehicle      4.0  Taliban   \n",
       "181683                                House of Member      4.0  Taliban   \n",
       "\n",
       "                                                   motive  nperps  weaptype1  \\\n",
       "59040                                             Unknown     NaN         13   \n",
       "60014                                             Unknown     NaN          6   \n",
       "60462                                             Unknown     NaN          6   \n",
       "60786                                             Unknown     NaN          6   \n",
       "71682   Specific motive is unknown; however, survivors...   -99.0          5   \n",
       "...                                                   ...     ...        ...   \n",
       "181600                                            Unknown   -99.0         13   \n",
       "181619                                            Unknown   -99.0         13   \n",
       "181651                                            Unknown   -99.0         13   \n",
       "181676                                            Unknown   -99.0          6   \n",
       "181683  The specific motive is unknown; however, sourc...   -99.0          5   \n",
       "\n",
       "        nkill  \n",
       "59040     0.0  \n",
       "60014     0.0  \n",
       "60462     0.0  \n",
       "60786     0.0  \n",
       "71682   150.0  \n",
       "...       ...  \n",
       "181600    4.0  \n",
       "181619    3.0  \n",
       "181651   11.0  \n",
       "181676    5.0  \n",
       "181683    6.0  \n",
       "\n",
       "[7478 rows x 16 columns]"
      ]
     },
     "execution_count": 20,
     "metadata": {},
     "output_type": "execute_result"
    }
   ],
   "source": [
    "taliban"
   ]
  },
  {
   "cell_type": "code",
   "execution_count": 21,
   "metadata": {},
   "outputs": [
    {
     "data": {
      "text/plain": [
       "<AxesSubplot:>"
      ]
     },
     "execution_count": 21,
     "metadata": {},
     "output_type": "execute_result"
    },
    {
     "data": {
      "image/png": "[encoded data removed]",
      "text/plain": [
       "<Figure size 720x504 with 2 Axes>"
      ]
     },
     "metadata": {
      "needs_background": "light"
     },
     "output_type": "display_data"
    }
   ],
   "source": [
    "plt.figure(figsize=(10,7))\n",
    "sns.heatmap(taliban.corr(), annot=True, fmt='.2f')"
   ]
  },
  {
   "cell_type": "code",
   "execution_count": 22,
   "metadata": {},
   "outputs": [],
   "source": [
    "taliban = taliban.drop('target1',axis=1)"
   ]
  },
  {
   "cell_type": "code",
   "execution_count": 23,
   "metadata": {},
   "outputs": [],
   "source": [
    "from sklearn.preprocessing import LabelEncoder"
   ]
  },
  {
   "cell_type": "code",
   "execution_count": 24,
   "metadata": {},
   "outputs": [],
   "source": [
    "label_encode = LabelEncoder()"
   ]
  },
  {
   "cell_type": "code",
   "execution_count": 25,
   "metadata": {},
   "outputs": [],
   "source": [
    "x = label_encode.fit_transform(taliban['targtype1_txt'])"
   ]
  },
  {
   "cell_type": "code",
   "execution_count": 26,
   "metadata": {
    "scrolled": true
   },
   "outputs": [
    {
     "data": {
      "text/plain": [
       "iyear              0\n",
       "imonth             0\n",
       "iday               0\n",
       "extended           0\n",
       "country            0\n",
       "region             0\n",
       "success            0\n",
       "suicide            0\n",
       "targtype1_txt      0\n",
       "natlty1          234\n",
       "gname              0\n",
       "motive             0\n",
       "nperps           545\n",
       "weaptype1          0\n",
       "nkill            278\n",
       "dtype: int64"
      ]
     },
     "execution_count": 26,
     "metadata": {},
     "output_type": "execute_result"
    }
   ],
   "source": [
    "taliban.isna().sum()"
   ]
  },
  {
   "cell_type": "code",
   "execution_count": 27,
   "metadata": {},
   "outputs": [
    {
     "data": {
      "text/plain": [
       "59040                                               Unknown\n",
       "60014                                               Unknown\n",
       "60462                                               Unknown\n",
       "60786                                               Unknown\n",
       "71682     Specific motive is unknown; however, survivors...\n",
       "                                ...                        \n",
       "181600                                              Unknown\n",
       "181619                                              Unknown\n",
       "181651                                              Unknown\n",
       "181676                                              Unknown\n",
       "181683    The specific motive is unknown; however, sourc...\n",
       "Name: motive, Length: 7478, dtype: object"
      ]
     },
     "execution_count": 27,
     "metadata": {},
     "output_type": "execute_result"
    }
   ],
   "source": [
    "taliban['motive']"
   ]
  },
  {
   "cell_type": "code",
   "execution_count": 28,
   "metadata": {},
   "outputs": [],
   "source": [
    "# del motive, "
   ]
  },
  {
   "cell_type": "code",
   "execution_count": 29,
   "metadata": {},
   "outputs": [],
   "source": [
    "taliban = taliban.drop('motive',axis=1)"
   ]
  },
  {
   "cell_type": "code",
   "execution_count": 30,
   "metadata": {},
   "outputs": [
    {
     "name": "stdout",
     "output_type": "stream",
     "text": [
      "Year of incident\n",
      "Month of incident\n",
      "Numeric day on which the incident occurred.\n",
      "Yes/No for for whether the incedent extended for more than 24 hours.\n",
      "Country code\n",
      "Yes/No for the success of the terrorist strike\n",
      "Yes/No for whether the attack was a suicide attack\n",
      "Name of the group that carried out the attack.\n",
      "Weapon code.\n",
      "Total number of confirmed kills in the incident.\n"
     ]
    }
   ],
   "source": [
    "for col in taliban.columns:\n",
    "    try:\n",
    "        print(meta_data[col])\n",
    "    except:\n",
    "        pass"
   ]
  },
  {
   "cell_type": "code",
   "execution_count": 31,
   "metadata": {},
   "outputs": [],
   "source": [
    "taliban['targtype1_txt'] = label_encode.fit_transform(taliban['targtype1_txt'])"
   ]
  },
  {
   "cell_type": "code",
   "execution_count": 32,
   "metadata": {},
   "outputs": [],
   "source": [
    "taliban = taliban.drop('gname',axis=1)"
   ]
  },
  {
   "cell_type": "code",
   "execution_count": 33,
   "metadata": {},
   "outputs": [],
   "source": [
    "# Train and Validation sets on for Taliban "
   ]
  },
  {
   "cell_type": "code",
   "execution_count": 34,
   "metadata": {},
   "outputs": [
    {
     "data": {
      "text/html": [
       "<div>\n",
       "<style scoped>\n",
       "    .dataframe tbody tr th:only-of-type {\n",
       "        vertical-align: middle;\n",
       "    }\n",
       "\n",
       "    .dataframe tbody tr th {\n",
       "        vertical-align: top;\n",
       "    }\n",
       "\n",
       "    .dataframe thead th {\n",
       "        text-align: right;\n",
       "    }\n",
       "</style>\n",
       "<table border=\"1\" class=\"dataframe\">\n",
       "  <thead>\n",
       "    <tr style=\"text-align: right;\">\n",
       "      <th></th>\n",
       "      <th>iyear</th>\n",
       "      <th>imonth</th>\n",
       "      <th>iday</th>\n",
       "      <th>extended</th>\n",
       "      <th>country</th>\n",
       "      <th>region</th>\n",
       "      <th>success</th>\n",
       "      <th>suicide</th>\n",
       "      <th>targtype1_txt</th>\n",
       "      <th>natlty1</th>\n",
       "      <th>nperps</th>\n",
       "      <th>weaptype1</th>\n",
       "      <th>nkill</th>\n",
       "    </tr>\n",
       "  </thead>\n",
       "  <tbody>\n",
       "    <tr>\n",
       "      <th>59040</th>\n",
       "      <td>1995</td>\n",
       "      <td>4</td>\n",
       "      <td>20</td>\n",
       "      <td>1</td>\n",
       "      <td>4</td>\n",
       "      <td>6</td>\n",
       "      <td>1</td>\n",
       "      <td>0</td>\n",
       "      <td>10</td>\n",
       "      <td>153.0</td>\n",
       "      <td>NaN</td>\n",
       "      <td>13</td>\n",
       "      <td>0.0</td>\n",
       "    </tr>\n",
       "    <tr>\n",
       "      <th>60014</th>\n",
       "      <td>1995</td>\n",
       "      <td>8</td>\n",
       "      <td>3</td>\n",
       "      <td>0</td>\n",
       "      <td>4</td>\n",
       "      <td>6</td>\n",
       "      <td>1</td>\n",
       "      <td>0</td>\n",
       "      <td>0</td>\n",
       "      <td>167.0</td>\n",
       "      <td>NaN</td>\n",
       "      <td>6</td>\n",
       "      <td>0.0</td>\n",
       "    </tr>\n",
       "    <tr>\n",
       "      <th>60462</th>\n",
       "      <td>1995</td>\n",
       "      <td>9</td>\n",
       "      <td>21</td>\n",
       "      <td>1</td>\n",
       "      <td>4</td>\n",
       "      <td>6</td>\n",
       "      <td>1</td>\n",
       "      <td>0</td>\n",
       "      <td>0</td>\n",
       "      <td>4.0</td>\n",
       "      <td>NaN</td>\n",
       "      <td>6</td>\n",
       "      <td>0.0</td>\n",
       "    </tr>\n",
       "    <tr>\n",
       "      <th>60786</th>\n",
       "      <td>1995</td>\n",
       "      <td>10</td>\n",
       "      <td>25</td>\n",
       "      <td>0</td>\n",
       "      <td>4</td>\n",
       "      <td>6</td>\n",
       "      <td>0</td>\n",
       "      <td>0</td>\n",
       "      <td>0</td>\n",
       "      <td>199.0</td>\n",
       "      <td>NaN</td>\n",
       "      <td>6</td>\n",
       "      <td>0.0</td>\n",
       "    </tr>\n",
       "    <tr>\n",
       "      <th>71682</th>\n",
       "      <td>2001</td>\n",
       "      <td>1</td>\n",
       "      <td>7</td>\n",
       "      <td>1</td>\n",
       "      <td>4</td>\n",
       "      <td>6</td>\n",
       "      <td>1</td>\n",
       "      <td>0</td>\n",
       "      <td>11</td>\n",
       "      <td>4.0</td>\n",
       "      <td>-99.0</td>\n",
       "      <td>5</td>\n",
       "      <td>150.0</td>\n",
       "    </tr>\n",
       "  </tbody>\n",
       "</table>\n",
       "</div>"
      ],
      "text/plain": [
       "       iyear  imonth  iday  extended  country  region  success  suicide  \\\n",
       "59040   1995       4    20         1        4       6        1        0   \n",
       "60014   1995       8     3         0        4       6        1        0   \n",
       "60462   1995       9    21         1        4       6        1        0   \n",
       "60786   1995      10    25         0        4       6        0        0   \n",
       "71682   2001       1     7         1        4       6        1        0   \n",
       "\n",
       "       targtype1_txt  natlty1  nperps  weaptype1  nkill  \n",
       "59040             10    153.0     NaN         13    0.0  \n",
       "60014              0    167.0     NaN          6    0.0  \n",
       "60462              0      4.0     NaN          6    0.0  \n",
       "60786              0    199.0     NaN          6    0.0  \n",
       "71682             11      4.0   -99.0          5  150.0  "
      ]
     },
     "execution_count": 34,
     "metadata": {},
     "output_type": "execute_result"
    }
   ],
   "source": [
    "taliban.head()"
   ]
  },
  {
   "cell_type": "code",
   "execution_count": 35,
   "metadata": {},
   "outputs": [
    {
     "data": {
      "text/plain": [
       "iyear              0\n",
       "imonth             0\n",
       "iday               0\n",
       "extended           0\n",
       "country            0\n",
       "region             0\n",
       "success            0\n",
       "suicide            0\n",
       "targtype1_txt      0\n",
       "natlty1          234\n",
       "nperps           545\n",
       "weaptype1          0\n",
       "nkill            278\n",
       "dtype: int64"
      ]
     },
     "execution_count": 35,
     "metadata": {},
     "output_type": "execute_result"
    }
   ],
   "source": [
    "taliban.isna().sum()"
   ]
  },
  {
   "cell_type": "code",
   "execution_count": 36,
   "metadata": {},
   "outputs": [],
   "source": [
    "taliban = taliban.dropna()"
   ]
  },
  {
   "cell_type": "code",
   "execution_count": 37,
   "metadata": {},
   "outputs": [
    {
     "data": {
      "text/html": [
       "<div>\n",
       "<style scoped>\n",
       "    .dataframe tbody tr th:only-of-type {\n",
       "        vertical-align: middle;\n",
       "    }\n",
       "\n",
       "    .dataframe tbody tr th {\n",
       "        vertical-align: top;\n",
       "    }\n",
       "\n",
       "    .dataframe thead th {\n",
       "        text-align: right;\n",
       "    }\n",
       "</style>\n",
       "<table border=\"1\" class=\"dataframe\">\n",
       "  <thead>\n",
       "    <tr style=\"text-align: right;\">\n",
       "      <th></th>\n",
       "      <th>iyear</th>\n",
       "      <th>imonth</th>\n",
       "      <th>iday</th>\n",
       "      <th>extended</th>\n",
       "      <th>country</th>\n",
       "      <th>region</th>\n",
       "      <th>success</th>\n",
       "      <th>suicide</th>\n",
       "      <th>targtype1_txt</th>\n",
       "      <th>natlty1</th>\n",
       "      <th>nperps</th>\n",
       "      <th>weaptype1</th>\n",
       "      <th>nkill</th>\n",
       "    </tr>\n",
       "  </thead>\n",
       "  <tbody>\n",
       "    <tr>\n",
       "      <th>71682</th>\n",
       "      <td>2001</td>\n",
       "      <td>1</td>\n",
       "      <td>7</td>\n",
       "      <td>1</td>\n",
       "      <td>4</td>\n",
       "      <td>6</td>\n",
       "      <td>1</td>\n",
       "      <td>0</td>\n",
       "      <td>11</td>\n",
       "      <td>4.0</td>\n",
       "      <td>-99.0</td>\n",
       "      <td>5</td>\n",
       "      <td>150.0</td>\n",
       "    </tr>\n",
       "    <tr>\n",
       "      <th>73116</th>\n",
       "      <td>2001</td>\n",
       "      <td>9</td>\n",
       "      <td>10</td>\n",
       "      <td>0</td>\n",
       "      <td>4</td>\n",
       "      <td>6</td>\n",
       "      <td>1</td>\n",
       "      <td>1</td>\n",
       "      <td>5</td>\n",
       "      <td>4.0</td>\n",
       "      <td>2.0</td>\n",
       "      <td>6</td>\n",
       "      <td>3.0</td>\n",
       "    </tr>\n",
       "    <tr>\n",
       "      <th>73971</th>\n",
       "      <td>2002</td>\n",
       "      <td>4</td>\n",
       "      <td>13</td>\n",
       "      <td>0</td>\n",
       "      <td>4</td>\n",
       "      <td>6</td>\n",
       "      <td>0</td>\n",
       "      <td>0</td>\n",
       "      <td>7</td>\n",
       "      <td>217.0</td>\n",
       "      <td>20.0</td>\n",
       "      <td>5</td>\n",
       "      <td>5.0</td>\n",
       "    </tr>\n",
       "    <tr>\n",
       "      <th>74412</th>\n",
       "      <td>2002</td>\n",
       "      <td>8</td>\n",
       "      <td>0</td>\n",
       "      <td>0</td>\n",
       "      <td>4</td>\n",
       "      <td>6</td>\n",
       "      <td>1</td>\n",
       "      <td>0</td>\n",
       "      <td>2</td>\n",
       "      <td>4.0</td>\n",
       "      <td>-99.0</td>\n",
       "      <td>6</td>\n",
       "      <td>0.0</td>\n",
       "    </tr>\n",
       "    <tr>\n",
       "      <th>75185</th>\n",
       "      <td>2003</td>\n",
       "      <td>2</td>\n",
       "      <td>25</td>\n",
       "      <td>0</td>\n",
       "      <td>4</td>\n",
       "      <td>6</td>\n",
       "      <td>1</td>\n",
       "      <td>0</td>\n",
       "      <td>5</td>\n",
       "      <td>4.0</td>\n",
       "      <td>-99.0</td>\n",
       "      <td>5</td>\n",
       "      <td>1.0</td>\n",
       "    </tr>\n",
       "    <tr>\n",
       "      <th>...</th>\n",
       "      <td>...</td>\n",
       "      <td>...</td>\n",
       "      <td>...</td>\n",
       "      <td>...</td>\n",
       "      <td>...</td>\n",
       "      <td>...</td>\n",
       "      <td>...</td>\n",
       "      <td>...</td>\n",
       "      <td>...</td>\n",
       "      <td>...</td>\n",
       "      <td>...</td>\n",
       "      <td>...</td>\n",
       "      <td>...</td>\n",
       "    </tr>\n",
       "    <tr>\n",
       "      <th>181600</th>\n",
       "      <td>2017</td>\n",
       "      <td>12</td>\n",
       "      <td>28</td>\n",
       "      <td>0</td>\n",
       "      <td>4</td>\n",
       "      <td>6</td>\n",
       "      <td>1</td>\n",
       "      <td>0</td>\n",
       "      <td>10</td>\n",
       "      <td>4.0</td>\n",
       "      <td>-99.0</td>\n",
       "      <td>13</td>\n",
       "      <td>4.0</td>\n",
       "    </tr>\n",
       "    <tr>\n",
       "      <th>181619</th>\n",
       "      <td>2017</td>\n",
       "      <td>12</td>\n",
       "      <td>28</td>\n",
       "      <td>0</td>\n",
       "      <td>4</td>\n",
       "      <td>6</td>\n",
       "      <td>1</td>\n",
       "      <td>0</td>\n",
       "      <td>10</td>\n",
       "      <td>4.0</td>\n",
       "      <td>-99.0</td>\n",
       "      <td>13</td>\n",
       "      <td>3.0</td>\n",
       "    </tr>\n",
       "    <tr>\n",
       "      <th>181651</th>\n",
       "      <td>2017</td>\n",
       "      <td>12</td>\n",
       "      <td>30</td>\n",
       "      <td>0</td>\n",
       "      <td>4</td>\n",
       "      <td>6</td>\n",
       "      <td>1</td>\n",
       "      <td>0</td>\n",
       "      <td>7</td>\n",
       "      <td>4.0</td>\n",
       "      <td>-99.0</td>\n",
       "      <td>13</td>\n",
       "      <td>11.0</td>\n",
       "    </tr>\n",
       "    <tr>\n",
       "      <th>181676</th>\n",
       "      <td>2017</td>\n",
       "      <td>12</td>\n",
       "      <td>31</td>\n",
       "      <td>0</td>\n",
       "      <td>4</td>\n",
       "      <td>6</td>\n",
       "      <td>1</td>\n",
       "      <td>0</td>\n",
       "      <td>10</td>\n",
       "      <td>4.0</td>\n",
       "      <td>-99.0</td>\n",
       "      <td>6</td>\n",
       "      <td>5.0</td>\n",
       "    </tr>\n",
       "    <tr>\n",
       "      <th>181683</th>\n",
       "      <td>2017</td>\n",
       "      <td>12</td>\n",
       "      <td>31</td>\n",
       "      <td>0</td>\n",
       "      <td>4</td>\n",
       "      <td>6</td>\n",
       "      <td>1</td>\n",
       "      <td>0</td>\n",
       "      <td>14</td>\n",
       "      <td>4.0</td>\n",
       "      <td>-99.0</td>\n",
       "      <td>5</td>\n",
       "      <td>6.0</td>\n",
       "    </tr>\n",
       "  </tbody>\n",
       "</table>\n",
       "<p>6433 rows × 13 columns</p>\n",
       "</div>"
      ],
      "text/plain": [
       "        iyear  imonth  iday  extended  country  region  success  suicide  \\\n",
       "71682    2001       1     7         1        4       6        1        0   \n",
       "73116    2001       9    10         0        4       6        1        1   \n",
       "73971    2002       4    13         0        4       6        0        0   \n",
       "74412    2002       8     0         0        4       6        1        0   \n",
       "75185    2003       2    25         0        4       6        1        0   \n",
       "...       ...     ...   ...       ...      ...     ...      ...      ...   \n",
       "181600   2017      12    28         0        4       6        1        0   \n",
       "181619   2017      12    28         0        4       6        1        0   \n",
       "181651   2017      12    30         0        4       6        1        0   \n",
       "181676   2017      12    31         0        4       6        1        0   \n",
       "181683   2017      12    31         0        4       6        1        0   \n",
       "\n",
       "        targtype1_txt  natlty1  nperps  weaptype1  nkill  \n",
       "71682              11      4.0   -99.0          5  150.0  \n",
       "73116               5      4.0     2.0          6    3.0  \n",
       "73971               7    217.0    20.0          5    5.0  \n",
       "74412               2      4.0   -99.0          6    0.0  \n",
       "75185               5      4.0   -99.0          5    1.0  \n",
       "...               ...      ...     ...        ...    ...  \n",
       "181600             10      4.0   -99.0         13    4.0  \n",
       "181619             10      4.0   -99.0         13    3.0  \n",
       "181651              7      4.0   -99.0         13   11.0  \n",
       "181676             10      4.0   -99.0          6    5.0  \n",
       "181683             14      4.0   -99.0          5    6.0  \n",
       "\n",
       "[6433 rows x 13 columns]"
      ]
     },
     "execution_count": 37,
     "metadata": {},
     "output_type": "execute_result"
    }
   ],
   "source": [
    "taliban"
   ]
  },
  {
   "cell_type": "markdown",
   "metadata": {},
   "source": [
    "### Feature Data and Target Sets "
   ]
  },
  {
   "cell_type": "code",
   "execution_count": 38,
   "metadata": {},
   "outputs": [],
   "source": [
    "# success, suicide, targettype_txt"
   ]
  },
  {
   "cell_type": "code",
   "execution_count": 39,
   "metadata": {},
   "outputs": [],
   "source": [
    "# success\n",
    "X_success = taliban.drop('success',axis=1)\n",
    "y_success = taliban['success']\n",
    "\n",
    "# suicide\n",
    "X_suicide = taliban.drop('suicide',axis=1)\n",
    "y_suicide = taliban['suicide']\n",
    "\n",
    "# targettype_txt\n",
    "X_target = taliban.drop('targtype1_txt',axis=1)\n",
    "y_target = taliban['targtype1_txt']"
   ]
  },
  {
   "cell_type": "code",
   "execution_count": 40,
   "metadata": {},
   "outputs": [],
   "source": [
    "# success \n",
    "Sets = [(X_success, y_success), (X_suicide, y_suicide), (X_target, y_target)]"
   ]
  },
  {
   "cell_type": "code",
   "execution_count": 41,
   "metadata": {},
   "outputs": [
    {
     "name": "stdout",
     "output_type": "stream",
     "text": [
      "(6433, 12) (6433,)\n",
      "(6433, 12) (6433,)\n",
      "(6433, 12) (6433,)\n"
     ]
    }
   ],
   "source": [
    "# 3 sets\n",
    "for x_train, y_train in Sets:\n",
    "    print(x_train.shape, y_train.shape)"
   ]
  },
  {
   "cell_type": "markdown",
   "metadata": {},
   "source": [
    "### Details \n",
    "There are three pairs of Feature Data and Target label, `success, suicide, target_type` we are essentially training a network to predict 3 labels/targets\n",
    "***\n",
    "### Instructions Further\n",
    "***\n",
    "* The ___3 pairs___ of feature data are in a list of tuples called `Sets` Extract each set iteratively or manually \n",
    "* Normalise the X_train, y_train and X_test, y_test pairs with either `MinMaxScaler` or `StandardScaler`\n",
    "* Build a Network with `tensorflow.keras` and Build the Model"
   ]
  },
  {
   "cell_type": "code",
   "execution_count": 42,
   "metadata": {},
   "outputs": [],
   "source": [
    "from sklearn.model_selection import train_test_split"
   ]
  },
  {
   "cell_type": "code",
   "execution_count": 43,
   "metadata": {},
   "outputs": [],
   "source": [
    " X_train, X_test, y_train, y_test = train_test_split(X_success, y_success, test_size=0.2, random_state=42)"
   ]
  },
  {
   "cell_type": "code",
   "execution_count": 81,
   "metadata": {},
   "outputs": [
    {
     "data": {
      "text/plain": [
       "array([[-1.03182665, -1.47240426,  0.58025715, ...,  1.03939416,\n",
       "        -0.3323956 ,  3.26969924],\n",
       "       [-0.64767241,  0.42825856, -0.89813119, ..., -0.33779374,\n",
       "        -0.67566426, -0.15482578],\n",
       "       [ 1.27309881, -0.52207285, -0.67068683, ..., -0.33779374,\n",
       "        -0.67566426,  0.43560957],\n",
       "       ...,\n",
       "       [ 0.88894457,  0.11148142,  1.37631241, ..., -0.33779374,\n",
       "         2.07048505,  0.08134836],\n",
       "       [ 0.88894457,  0.74503569, -0.44324247, ...,  1.05316604,\n",
       "        -0.67566426, -0.27291285],\n",
       "       [-1.4159809 ,  1.06181283, -0.44324247, ..., -0.33779374,\n",
       "        -0.3323956 , -0.50908699]])"
      ]
     },
     "execution_count": 81,
     "metadata": {},
     "output_type": "execute_result"
    }
   ],
   "source": [
    "X_train"
   ]
  },
  {
   "cell_type": "code",
   "execution_count": 44,
   "metadata": {},
   "outputs": [],
   "source": [
    "from sklearn.preprocessing import StandardScaler"
   ]
  },
  {
   "cell_type": "code",
   "execution_count": 45,
   "metadata": {},
   "outputs": [
    {
     "data": {
      "text/plain": [
       "(5146, 12)"
      ]
     },
     "execution_count": 45,
     "metadata": {},
     "output_type": "execute_result"
    }
   ],
   "source": [
    "scaler = StandardScaler()\n",
    "X_train = scaler.fit_transform(X_train)\n",
    "X_train.shape"
   ]
  },
  {
   "cell_type": "code",
   "execution_count": 46,
   "metadata": {},
   "outputs": [],
   "source": [
    "from tensorflow import keras"
   ]
  },
  {
   "cell_type": "code",
   "execution_count": 47,
   "metadata": {},
   "outputs": [],
   "source": [
    "shape = X_train.shape\n",
    "model = keras.models.Sequential()\n",
    "# model.add(keras.layers.Flatten(input_shape = [5146, 12]))\n",
    "model.add(keras.layers.Dense(300, activation = \"relu\"))\n",
    "model.add(keras.layers.Dense(100, activation = \"relu\"))\n",
    "model.add(keras.layers.Dense(1, activation = \"sigmoid\"))"
   ]
  },
  {
   "cell_type": "code",
   "execution_count": null,
   "metadata": {
    "scrolled": true
   },
   "outputs": [],
   "source": []
  },
  {
   "cell_type": "code",
   "execution_count": 48,
   "metadata": {},
   "outputs": [],
   "source": [
    "model.compile(loss = \"binary_crossentropy\", optimizer=\"sgd\", metrics=[\"accuracy\"])"
   ]
  },
  {
   "cell_type": "markdown",
   "metadata": {},
   "source": [
    "# Model - 'Success'"
   ]
  },
  {
   "cell_type": "code",
   "execution_count": 49,
   "metadata": {},
   "outputs": [
    {
     "name": "stdout",
     "output_type": "stream",
     "text": [
      "Epoch 1/30\n",
      "161/161 [==============================] - 1s 5ms/step - loss: 0.5716 - accuracy: 0.7332 - val_loss: 47.1214 - val_accuracy: 0.9037\n",
      "Epoch 2/30\n",
      "161/161 [==============================] - 0s 1ms/step - loss: 0.3395 - accuracy: 0.8912 - val_loss: 53.0992 - val_accuracy: 0.9037\n",
      "Epoch 3/30\n",
      "161/161 [==============================] - 0s 1ms/step - loss: 0.3190 - accuracy: 0.8872 - val_loss: 47.2324 - val_accuracy: 0.9037\n",
      "Epoch 4/30\n",
      "161/161 [==============================] - 0s 1ms/step - loss: 0.3290 - accuracy: 0.8830 - val_loss: 40.5071 - val_accuracy: 0.9037\n",
      "Epoch 5/30\n",
      "161/161 [==============================] - 0s 1ms/step - loss: 0.2930 - accuracy: 0.8986 - val_loss: 32.7743 - val_accuracy: 0.9037\n",
      "Epoch 6/30\n",
      "161/161 [==============================] - 0s 1ms/step - loss: 0.3080 - accuracy: 0.8891 - val_loss: 27.8319 - val_accuracy: 0.9037\n",
      "Epoch 7/30\n",
      "161/161 [==============================] - 0s 1ms/step - loss: 0.3068 - accuracy: 0.8904 - val_loss: 22.5772 - val_accuracy: 0.9037\n",
      "Epoch 8/30\n",
      "161/161 [==============================] - 0s 1ms/step - loss: 0.3086 - accuracy: 0.8910 - val_loss: 18.0137 - val_accuracy: 0.9037\n",
      "Epoch 9/30\n",
      "161/161 [==============================] - 0s 1ms/step - loss: 0.2954 - accuracy: 0.8892 - val_loss: 14.4397 - val_accuracy: 0.9037\n",
      "Epoch 10/30\n",
      "161/161 [==============================] - 0s 984us/step - loss: 0.2930 - accuracy: 0.8935 - val_loss: 10.3128 - val_accuracy: 0.9037\n",
      "Epoch 11/30\n",
      "161/161 [==============================] - 0s 1ms/step - loss: 0.3179 - accuracy: 0.8857 - val_loss: 7.7027 - val_accuracy: 0.9037\n",
      "Epoch 12/30\n",
      "161/161 [==============================] - 0s 995us/step - loss: 0.2980 - accuracy: 0.8941 - val_loss: 4.6754 - val_accuracy: 0.9037\n",
      "Epoch 13/30\n",
      "161/161 [==============================] - 0s 904us/step - loss: 0.3042 - accuracy: 0.8898 - val_loss: 2.8469 - val_accuracy: 0.9037\n",
      "Epoch 14/30\n",
      "161/161 [==============================] - 0s 889us/step - loss: 0.2895 - accuracy: 0.8932 - val_loss: 0.9819 - val_accuracy: 0.9005\n",
      "Epoch 15/30\n",
      "161/161 [==============================] - 0s 1ms/step - loss: 0.2796 - accuracy: 0.9024 - val_loss: 20.1955 - val_accuracy: 0.1717\n",
      "Epoch 16/30\n",
      "161/161 [==============================] - 0s 1ms/step - loss: 0.2993 - accuracy: 0.8946 - val_loss: 36.4490 - val_accuracy: 0.1663\n",
      "Epoch 17/30\n",
      "161/161 [==============================] - 0s 883us/step - loss: 0.2948 - accuracy: 0.8951 - val_loss: 49.5835 - val_accuracy: 0.1655\n",
      "Epoch 18/30\n",
      "161/161 [==============================] - 0s 856us/step - loss: 0.2827 - accuracy: 0.9027 - val_loss: 72.0813 - val_accuracy: 0.1018\n",
      "Epoch 19/30\n",
      "161/161 [==============================] - 0s 1ms/step - loss: 0.2937 - accuracy: 0.8946 - val_loss: 81.0889 - val_accuracy: 0.0963\n",
      "Epoch 20/30\n",
      "161/161 [==============================] - 0s 1ms/step - loss: 0.2781 - accuracy: 0.9032 - val_loss: 107.4414 - val_accuracy: 0.0963\n",
      "Epoch 21/30\n",
      "161/161 [==============================] - 0s 951us/step - loss: 0.2926 - accuracy: 0.8984 - val_loss: 121.4837 - val_accuracy: 0.0963\n",
      "Epoch 22/30\n",
      "161/161 [==============================] - 0s 989us/step - loss: 0.2941 - accuracy: 0.8957 - val_loss: 139.6897 - val_accuracy: 0.0963\n",
      "Epoch 23/30\n",
      "161/161 [==============================] - 0s 1ms/step - loss: 0.2866 - accuracy: 0.8984 - val_loss: 147.0604 - val_accuracy: 0.0963\n",
      "Epoch 24/30\n",
      "161/161 [==============================] - 0s 876us/step - loss: 0.2934 - accuracy: 0.8971 - val_loss: 160.5939 - val_accuracy: 0.0963\n",
      "Epoch 25/30\n",
      "161/161 [==============================] - 0s 873us/step - loss: 0.3036 - accuracy: 0.8910 - val_loss: 178.2073 - val_accuracy: 0.0963\n",
      "Epoch 26/30\n",
      "161/161 [==============================] - 0s 853us/step - loss: 0.2958 - accuracy: 0.8929 - val_loss: 195.7390 - val_accuracy: 0.0963\n",
      "Epoch 27/30\n",
      "161/161 [==============================] - 0s 856us/step - loss: 0.2938 - accuracy: 0.8906 - val_loss: 199.3164 - val_accuracy: 0.0963\n",
      "Epoch 28/30\n",
      "161/161 [==============================] - 0s 845us/step - loss: 0.2878 - accuracy: 0.8958 - val_loss: 219.4876 - val_accuracy: 0.0963\n",
      "Epoch 29/30\n",
      "161/161 [==============================] - 0s 848us/step - loss: 0.2897 - accuracy: 0.8984 - val_loss: 234.8053 - val_accuracy: 0.0963\n",
      "Epoch 30/30\n",
      "161/161 [==============================] - 0s 851us/step - loss: 0.2921 - accuracy: 0.8958 - val_loss: 247.6816 - val_accuracy: 0.0963\n"
     ]
    }
   ],
   "source": [
    "history = model.fit(X_train, y_train, epochs=30, validation_data= (X_test, y_test))"
   ]
  },
  {
   "cell_type": "code",
   "execution_count": 50,
   "metadata": {},
   "outputs": [
    {
     "name": "stdout",
     "output_type": "stream",
     "text": [
      "Model: \"sequential\"\n",
      "_________________________________________________________________\n",
      "Layer (type)                 Output Shape              Param #   \n",
      "=================================================================\n",
      "dense (Dense)                (None, 300)               3900      \n",
      "_________________________________________________________________\n",
      "dense_1 (Dense)              (None, 100)               30100     \n",
      "_________________________________________________________________\n",
      "dense_2 (Dense)              (None, 1)                 101       \n",
      "=================================================================\n",
      "Total params: 34,101\n",
      "Trainable params: 34,101\n",
      "Non-trainable params: 0\n",
      "_________________________________________________________________\n"
     ]
    }
   ],
   "source": [
    "model.summary()"
   ]
  },
  {
   "cell_type": "code",
   "execution_count": 51,
   "metadata": {},
   "outputs": [
    {
     "data": {
      "text/plain": [
       "<AxesSubplot:>"
      ]
     },
     "execution_count": 51,
     "metadata": {},
     "output_type": "execute_result"
    },
    {
     "data": {
      "image/png": "[encoded data removed]",
      "text/plain": [
       "<Figure size 432x288 with 1 Axes>"
      ]
     },
     "metadata": {
      "needs_background": "light"
     },
     "output_type": "display_data"
    }
   ],
   "source": [
    "history = pd.DataFrame(model.history.history)\n",
    "history.loss.plot()"
   ]
  },
  {
   "cell_type": "code",
   "execution_count": 52,
   "metadata": {},
   "outputs": [
    {
     "data": {
      "text/plain": [
       "<AxesSubplot:>"
      ]
     },
     "execution_count": 52,
     "metadata": {},
     "output_type": "execute_result"
    },
    {
     "data": {
      "image/png": "[encoded data removed]",
      "text/plain": [
       "<Figure size 432x288 with 1 Axes>"
      ]
     },
     "metadata": {
      "needs_background": "light"
     },
     "output_type": "display_data"
    }
   ],
   "source": [
    "history.accuracy.plot()"
   ]
  },
  {
   "cell_type": "code",
   "execution_count": 53,
   "metadata": {},
   "outputs": [
    {
     "data": {
      "text/plain": [
       "<AxesSubplot:>"
      ]
     },
     "execution_count": 53,
     "metadata": {},
     "output_type": "execute_result"
    },
    {
     "data": {
      "image/png": "[encoded data removed]",
      "text/plain": [
       "<Figure size 432x288 with 1 Axes>"
      ]
     },
     "metadata": {
      "needs_background": "light"
     },
     "output_type": "display_data"
    }
   ],
   "source": [
    "history.val_loss.plot()"
   ]
  },
  {
   "cell_type": "code",
   "execution_count": 54,
   "metadata": {},
   "outputs": [
    {
     "data": {
      "text/plain": [
       "<AxesSubplot:>"
      ]
     },
     "execution_count": 54,
     "metadata": {},
     "output_type": "execute_result"
    },
    {
     "data": {
      "image/png": "[encoded data removed]",
      "text/plain": [
       "<Figure size 432x288 with 1 Axes>"
      ]
     },
     "metadata": {
      "needs_background": "light"
     },
     "output_type": "display_data"
    }
   ],
   "source": [
    "history.val_accuracy.plot()"
   ]
  },
  {
   "cell_type": "code",
   "execution_count": 55,
   "metadata": {},
   "outputs": [
    {
     "name": "stdout",
     "output_type": "stream",
     "text": [
      "41/41 [==============================] - 0s 531us/step - loss: 247.6816 - accuracy: 0.0963\n"
     ]
    },
    {
     "data": {
      "text/plain": [
       "[247.681640625, 0.0963480994105339]"
      ]
     },
     "execution_count": 55,
     "metadata": {},
     "output_type": "execute_result"
    }
   ],
   "source": [
    "model.evaluate(X_test, y_test)"
   ]
  },
  {
   "cell_type": "code",
   "execution_count": null,
   "metadata": {},
   "outputs": [],
   "source": []
  },
  {
   "cell_type": "markdown",
   "metadata": {},
   "source": [
    "# Model - 'Suicide'"
   ]
  },
  {
   "cell_type": "code",
   "execution_count": 56,
   "metadata": {
    "scrolled": true
   },
   "outputs": [
    {
     "data": {
      "text/plain": [
       "(5146, 12)"
      ]
     },
     "execution_count": 56,
     "metadata": {},
     "output_type": "execute_result"
    }
   ],
   "source": [
    "X_train_suicide, X_test_suicide, y_train_suicide, y_test_suicide = train_test_split(X_suicide, y_suicide, test_size=0.2, random_state=42)\n",
    "X_train_suicide = scaler.fit_transform(X_train_suicide)\n",
    "X_train_suicide.shape"
   ]
  },
  {
   "cell_type": "code",
   "execution_count": 57,
   "metadata": {},
   "outputs": [
    {
     "name": "stdout",
     "output_type": "stream",
     "text": [
      "Epoch 1/30\n",
      "161/161 [==============================] - 0s 1ms/step - loss: 0.5955 - accuracy: 0.7241 - val_loss: 193.3433 - val_accuracy: 0.8819\n",
      "Epoch 2/30\n",
      "161/161 [==============================] - 0s 860us/step - loss: 0.2582 - accuracy: 0.9001 - val_loss: 220.4845 - val_accuracy: 0.8819\n",
      "Epoch 3/30\n",
      "161/161 [==============================] - 0s 853us/step - loss: 0.2296 - accuracy: 0.9036 - val_loss: 233.0139 - val_accuracy: 0.8819\n",
      "Epoch 4/30\n",
      "161/161 [==============================] - 0s 885us/step - loss: 0.2120 - accuracy: 0.9046 - val_loss: 242.3272 - val_accuracy: 0.8819\n",
      "Epoch 5/30\n",
      "161/161 [==============================] - 0s 1ms/step - loss: 0.1997 - accuracy: 0.9079 - val_loss: 247.4637 - val_accuracy: 0.8819\n",
      "Epoch 6/30\n",
      "161/161 [==============================] - 0s 1ms/step - loss: 0.1900 - accuracy: 0.9126 - val_loss: 249.3085 - val_accuracy: 0.8819\n",
      "Epoch 7/30\n",
      "161/161 [==============================] - 0s 2ms/step - loss: 0.1819 - accuracy: 0.9159 - val_loss: 249.8961 - val_accuracy: 0.8819\n",
      "Epoch 8/30\n",
      "161/161 [==============================] - 0s 1ms/step - loss: 0.1753 - accuracy: 0.9217 - val_loss: 249.4385 - val_accuracy: 0.8819\n",
      "Epoch 9/30\n",
      "161/161 [==============================] - 0s 1ms/step - loss: 0.1699 - accuracy: 0.9234 - val_loss: 250.6961 - val_accuracy: 0.8819\n",
      "Epoch 10/30\n",
      "161/161 [==============================] - 0s 1ms/step - loss: 0.1655 - accuracy: 0.9264 - val_loss: 250.5579 - val_accuracy: 0.8819\n",
      "Epoch 11/30\n",
      "161/161 [==============================] - 0s 917us/step - loss: 0.1618 - accuracy: 0.9291 - val_loss: 250.1753 - val_accuracy: 0.8819\n",
      "Epoch 12/30\n",
      "161/161 [==============================] - 0s 1ms/step - loss: 0.1588 - accuracy: 0.9308 - val_loss: 248.6873 - val_accuracy: 0.8819\n",
      "Epoch 13/30\n",
      "161/161 [==============================] - 0s 996us/step - loss: 0.1562 - accuracy: 0.9320 - val_loss: 246.2413 - val_accuracy: 0.8819\n",
      "Epoch 14/30\n",
      "161/161 [==============================] - 0s 974us/step - loss: 0.1540 - accuracy: 0.9349 - val_loss: 245.4591 - val_accuracy: 0.8819\n",
      "Epoch 15/30\n",
      "161/161 [==============================] - 0s 1ms/step - loss: 0.1520 - accuracy: 0.9361 - val_loss: 245.1373 - val_accuracy: 0.8819\n",
      "Epoch 16/30\n",
      "161/161 [==============================] - 0s 1ms/step - loss: 0.1502 - accuracy: 0.9365 - val_loss: 243.0087 - val_accuracy: 0.8819\n",
      "Epoch 17/30\n",
      "161/161 [==============================] - 0s 1ms/step - loss: 0.1485 - accuracy: 0.9392 - val_loss: 241.3179 - val_accuracy: 0.8819\n",
      "Epoch 18/30\n",
      "161/161 [==============================] - 0s 1ms/step - loss: 0.1470 - accuracy: 0.9392 - val_loss: 239.7700 - val_accuracy: 0.8819\n",
      "Epoch 19/30\n",
      "161/161 [==============================] - 0s 2ms/step - loss: 0.1457 - accuracy: 0.9400 - val_loss: 240.2992 - val_accuracy: 0.8819\n",
      "Epoch 20/30\n",
      "161/161 [==============================] - 0s 1ms/step - loss: 0.1443 - accuracy: 0.9407 - val_loss: 239.2539 - val_accuracy: 0.8819\n",
      "Epoch 21/30\n",
      "161/161 [==============================] - 0s 1ms/step - loss: 0.1429 - accuracy: 0.9405 - val_loss: 238.1101 - val_accuracy: 0.8819\n",
      "Epoch 22/30\n",
      "161/161 [==============================] - 0s 938us/step - loss: 0.1417 - accuracy: 0.9413 - val_loss: 236.8570 - val_accuracy: 0.8819\n",
      "Epoch 23/30\n",
      "161/161 [==============================] - 0s 1ms/step - loss: 0.1405 - accuracy: 0.9431 - val_loss: 233.7320 - val_accuracy: 0.8819\n",
      "Epoch 24/30\n",
      "161/161 [==============================] - 0s 926us/step - loss: 0.1392 - accuracy: 0.9438 - val_loss: 230.1830 - val_accuracy: 0.8819\n",
      "Epoch 25/30\n",
      "161/161 [==============================] - 0s 881us/step - loss: 0.1380 - accuracy: 0.9442 - val_loss: 231.4985 - val_accuracy: 0.8819\n",
      "Epoch 26/30\n",
      "161/161 [==============================] - 0s 936us/step - loss: 0.1368 - accuracy: 0.9446 - val_loss: 229.4655 - val_accuracy: 0.8819\n",
      "Epoch 27/30\n",
      "161/161 [==============================] - 0s 1ms/step - loss: 0.1356 - accuracy: 0.9462 - val_loss: 229.0169 - val_accuracy: 0.8819\n",
      "Epoch 28/30\n",
      "161/161 [==============================] - 0s 1ms/step - loss: 0.1345 - accuracy: 0.9464 - val_loss: 226.8226 - val_accuracy: 0.8819\n",
      "Epoch 29/30\n",
      "161/161 [==============================] - 0s 960us/step - loss: 0.1332 - accuracy: 0.9460 - val_loss: 224.8151 - val_accuracy: 0.8819\n",
      "Epoch 30/30\n",
      "161/161 [==============================] - 0s 959us/step - loss: 0.1320 - accuracy: 0.9481 - val_loss: 223.8556 - val_accuracy: 0.8819\n"
     ]
    }
   ],
   "source": [
    "history_suicide = model.fit(X_train_suicide, y_train_suicide, epochs=30, validation_data=(X_test_suicide, y_test_suicide))"
   ]
  },
  {
   "cell_type": "code",
   "execution_count": 58,
   "metadata": {},
   "outputs": [],
   "source": [
    "history_suicide = pd.DataFrame(model.history.history)"
   ]
  },
  {
   "cell_type": "code",
   "execution_count": 59,
   "metadata": {},
   "outputs": [
    {
     "data": {
      "text/plain": [
       "<AxesSubplot:>"
      ]
     },
     "execution_count": 59,
     "metadata": {},
     "output_type": "execute_result"
    },
    {
     "data": {
      "image/png": "[encoded data removed]",
      "text/plain": [
       "<Figure size 432x288 with 1 Axes>"
      ]
     },
     "metadata": {
      "needs_background": "light"
     },
     "output_type": "display_data"
    }
   ],
   "source": [
    "history_suicide.loss.plot()"
   ]
  },
  {
   "cell_type": "code",
   "execution_count": 60,
   "metadata": {},
   "outputs": [
    {
     "data": {
      "text/plain": [
       "<AxesSubplot:>"
      ]
     },
     "execution_count": 60,
     "metadata": {},
     "output_type": "execute_result"
    },
    {
     "data": {
      "image/png": "[encoded data removed]",
      "text/plain": [
       "<Figure size 432x288 with 1 Axes>"
      ]
     },
     "metadata": {
      "needs_background": "light"
     },
     "output_type": "display_data"
    }
   ],
   "source": [
    "history_suicide.accuracy.plot()"
   ]
  },
  {
   "cell_type": "code",
   "execution_count": 61,
   "metadata": {},
   "outputs": [
    {
     "data": {
      "text/plain": [
       "<AxesSubplot:>"
      ]
     },
     "execution_count": 61,
     "metadata": {},
     "output_type": "execute_result"
    },
    {
     "data": {
      "image/png": "[encoded data removed]",
      "text/plain": [
       "<Figure size 432x288 with 1 Axes>"
      ]
     },
     "metadata": {
      "needs_background": "light"
     },
     "output_type": "display_data"
    }
   ],
   "source": [
    "history_suicide.val_accuracy.plot()"
   ]
  },
  {
   "cell_type": "code",
   "execution_count": 62,
   "metadata": {},
   "outputs": [
    {
     "data": {
      "text/plain": [
       "<AxesSubplot:>"
      ]
     },
     "execution_count": 62,
     "metadata": {},
     "output_type": "execute_result"
    },
    {
     "data": {
      "image/png": "[encoded data removed]",
      "text/plain": [
       "<Figure size 432x288 with 1 Axes>"
      ]
     },
     "metadata": {
      "needs_background": "light"
     },
     "output_type": "display_data"
    }
   ],
   "source": [
    "history_suicide.val_loss.plot()"
   ]
  },
  {
   "cell_type": "code",
   "execution_count": 63,
   "metadata": {},
   "outputs": [
    {
     "name": "stdout",
     "output_type": "stream",
     "text": [
      "41/41 [==============================] - 0s 567us/step - loss: 223.8556 - accuracy: 0.8819\n"
     ]
    },
    {
     "data": {
      "text/plain": [
       "[223.85557556152344, 0.881895899772644]"
      ]
     },
     "execution_count": 63,
     "metadata": {},
     "output_type": "execute_result"
    }
   ],
   "source": [
    "model.evaluate(X_test_suicide, y_test_suicide)"
   ]
  },
  {
   "cell_type": "markdown",
   "metadata": {},
   "source": [
    "# Model - 'Target type'"
   ]
  },
  {
   "cell_type": "code",
   "execution_count": 64,
   "metadata": {},
   "outputs": [
    {
     "data": {
      "text/plain": [
       "10    2294\n",
       "7     1339\n",
       "11    1237\n",
       "5      801\n",
       "1      185\n",
       "2      108\n",
       "16      91\n",
       "12      79\n",
       "14      70\n",
       "8       58\n",
       "4       45\n",
       "13      27\n",
       "0       25\n",
       "18      22\n",
       "6       20\n",
       "17      10\n",
       "3        8\n",
       "9        6\n",
       "19       5\n",
       "15       3\n",
       "Name: targtype1_txt, dtype: int64"
      ]
     },
     "execution_count": 64,
     "metadata": {},
     "output_type": "execute_result"
    }
   ],
   "source": [
    "taliban['targtype1_txt'].value_counts()"
   ]
  },
  {
   "cell_type": "code",
   "execution_count": 65,
   "metadata": {},
   "outputs": [],
   "source": [
    "shape = X_train.shape\n",
    "model = keras.models.Sequential()\n",
    "model.add(keras.layers.Dense(300, activation = \"relu\"))\n",
    "model.add(keras.layers.Dense(100, activation = \"relu\"))\n",
    "model.add(keras.layers.Dense(20, activation = \"softmax\"))"
   ]
  },
  {
   "cell_type": "code",
   "execution_count": 66,
   "metadata": {},
   "outputs": [],
   "source": [
    "X_train_target, X_test_target, y_train_target, y_test_target = train_test_split(X_target, y_target, test_size=0.2, random_state=42)\n",
    "X_train_target = scaler.fit_transform(X_train_target)\n",
    "X_train_target.shape\n",
    "model.compile(loss = \"sparse_categorical_crossentropy\", optimizer=\"sgd\", metrics=[\"accuracy\"])"
   ]
  },
  {
   "cell_type": "code",
   "execution_count": 67,
   "metadata": {},
   "outputs": [
    {
     "name": "stdout",
     "output_type": "stream",
     "text": [
      "Epoch 1/30\n",
      "161/161 [==============================] - 1s 2ms/step - loss: 2.6968 - accuracy: 0.2755 - val_loss: 407.2930 - val_accuracy: 0.4071\n",
      "Epoch 2/30\n",
      "161/161 [==============================] - 0s 921us/step - loss: 1.9312 - accuracy: 0.4041 - val_loss: 459.8773 - val_accuracy: 0.2176\n",
      "Epoch 3/30\n",
      "161/161 [==============================] - 0s 934us/step - loss: 1.7152 - accuracy: 0.4225 - val_loss: 529.4636 - val_accuracy: 0.2176\n",
      "Epoch 4/30\n",
      "161/161 [==============================] - 0s 889us/step - loss: 1.6638 - accuracy: 0.4407 - val_loss: 662.0579 - val_accuracy: 0.2176\n",
      "Epoch 5/30\n",
      "161/161 [==============================] - 0s 1ms/step - loss: 1.6070 - accuracy: 0.4624 - val_loss: 685.2819 - val_accuracy: 0.2176\n",
      "Epoch 6/30\n",
      "161/161 [==============================] - 0s 889us/step - loss: 1.6485 - accuracy: 0.4359 - val_loss: 765.7157 - val_accuracy: 0.2176\n",
      "Epoch 7/30\n",
      "161/161 [==============================] - 0s 967us/step - loss: 1.6167 - accuracy: 0.4562 - val_loss: 725.9197 - val_accuracy: 0.2176\n",
      "Epoch 8/30\n",
      "161/161 [==============================] - 0s 893us/step - loss: 1.5833 - accuracy: 0.4577 - val_loss: 787.4814 - val_accuracy: 0.2176\n",
      "Epoch 9/30\n",
      "161/161 [==============================] - 0s 904us/step - loss: 1.5922 - accuracy: 0.4520 - val_loss: 840.5959 - val_accuracy: 0.2176\n",
      "Epoch 10/30\n",
      "161/161 [==============================] - 0s 851us/step - loss: 1.6116 - accuracy: 0.4566 - val_loss: 847.3506 - val_accuracy: 0.2176\n",
      "Epoch 11/30\n",
      "161/161 [==============================] - 0s 916us/step - loss: 1.6199 - accuracy: 0.4475 - val_loss: 769.1625 - val_accuracy: 0.2176\n",
      "Epoch 12/30\n",
      "161/161 [==============================] - 0s 954us/step - loss: 1.5610 - accuracy: 0.4597 - val_loss: 778.6436 - val_accuracy: 0.2176\n",
      "Epoch 13/30\n",
      "161/161 [==============================] - 0s 988us/step - loss: 1.5739 - accuracy: 0.4591 - val_loss: 789.1998 - val_accuracy: 0.2176\n",
      "Epoch 14/30\n",
      "161/161 [==============================] - 0s 959us/step - loss: 1.5641 - accuracy: 0.4526 - val_loss: 830.4612 - val_accuracy: 0.2176\n",
      "Epoch 15/30\n",
      "161/161 [==============================] - 0s 1ms/step - loss: 1.5610 - accuracy: 0.4624 - val_loss: 871.8801 - val_accuracy: 0.2176\n",
      "Epoch 16/30\n",
      "161/161 [==============================] - 0s 955us/step - loss: 1.5805 - accuracy: 0.4546 - val_loss: 824.6023 - val_accuracy: 0.2176\n",
      "Epoch 17/30\n",
      "161/161 [==============================] - 0s 897us/step - loss: 1.5690 - accuracy: 0.4644 - val_loss: 827.1897 - val_accuracy: 0.2176\n",
      "Epoch 18/30\n",
      "161/161 [==============================] - 0s 856us/step - loss: 1.5625 - accuracy: 0.4676 - val_loss: 782.0938 - val_accuracy: 0.2176\n",
      "Epoch 19/30\n",
      "161/161 [==============================] - 0s 890us/step - loss: 1.5445 - accuracy: 0.4633 - val_loss: 777.1757 - val_accuracy: 0.2176\n",
      "Epoch 20/30\n",
      "161/161 [==============================] - 0s 921us/step - loss: 1.5378 - accuracy: 0.4700 - val_loss: 819.3364 - val_accuracy: 0.2176\n",
      "Epoch 21/30\n",
      "161/161 [==============================] - 0s 947us/step - loss: 1.5545 - accuracy: 0.4598 - val_loss: 830.1453 - val_accuracy: 0.2176\n",
      "Epoch 22/30\n",
      "161/161 [==============================] - 0s 831us/step - loss: 1.5238 - accuracy: 0.4658 - val_loss: 764.7858 - val_accuracy: 0.2176\n",
      "Epoch 23/30\n",
      "161/161 [==============================] - 0s 904us/step - loss: 1.5224 - accuracy: 0.4740 - val_loss: 770.2665 - val_accuracy: 0.2176\n",
      "Epoch 24/30\n",
      "161/161 [==============================] - 0s 900us/step - loss: 1.5440 - accuracy: 0.4683 - val_loss: 786.6273 - val_accuracy: 0.2176\n",
      "Epoch 25/30\n",
      "161/161 [==============================] - 0s 857us/step - loss: 1.5566 - accuracy: 0.4697 - val_loss: 760.6565 - val_accuracy: 0.2176\n",
      "Epoch 26/30\n",
      "161/161 [==============================] - 0s 866us/step - loss: 1.5430 - accuracy: 0.4709 - val_loss: 799.5386 - val_accuracy: 0.2176\n",
      "Epoch 27/30\n",
      "161/161 [==============================] - 0s 901us/step - loss: 1.5173 - accuracy: 0.4816 - val_loss: 759.6063 - val_accuracy: 0.2176\n",
      "Epoch 28/30\n",
      "161/161 [==============================] - 0s 868us/step - loss: 1.5390 - accuracy: 0.4683 - val_loss: 760.9233 - val_accuracy: 0.2176\n",
      "Epoch 29/30\n",
      "161/161 [==============================] - 0s 838us/step - loss: 1.5164 - accuracy: 0.4746 - val_loss: 750.2762 - val_accuracy: 0.2176\n",
      "Epoch 30/30\n",
      "161/161 [==============================] - 0s 829us/step - loss: 1.5278 - accuracy: 0.4779 - val_loss: 752.9023 - val_accuracy: 0.2176\n"
     ]
    }
   ],
   "source": [
    "history_target = model.fit(X_train_target, y_train_target, epochs=30, validation_data=(X_test_target, y_test_target))"
   ]
  },
  {
   "cell_type": "code",
   "execution_count": 68,
   "metadata": {},
   "outputs": [
    {
     "data": {
      "text/plain": [
       "<AxesSubplot:>"
      ]
     },
     "execution_count": 68,
     "metadata": {},
     "output_type": "execute_result"
    },
    {
     "data": {
      "image/png": "[encoded data removed]",
      "text/plain": [
       "<Figure size 432x288 with 1 Axes>"
      ]
     },
     "metadata": {
      "needs_background": "light"
     },
     "output_type": "display_data"
    }
   ],
   "source": [
    "history_target = pd.DataFrame(model.history.history)\n",
    "history_target.loss.plot()"
   ]
  },
  {
   "cell_type": "code",
   "execution_count": 69,
   "metadata": {},
   "outputs": [
    {
     "data": {
      "text/plain": [
       "<AxesSubplot:>"
      ]
     },
     "execution_count": 69,
     "metadata": {},
     "output_type": "execute_result"
    },
    {
     "data": {
      "image/png": "[encoded data removed]",
      "text/plain": [
       "<Figure size 432x288 with 1 Axes>"
      ]
     },
     "metadata": {
      "needs_background": "light"
     },
     "output_type": "display_data"
    }
   ],
   "source": [
    "history_target.val_loss.plot()"
   ]
  },
  {
   "cell_type": "code",
   "execution_count": 70,
   "metadata": {},
   "outputs": [
    {
     "data": {
      "text/plain": [
       "<AxesSubplot:>"
      ]
     },
     "execution_count": 70,
     "metadata": {},
     "output_type": "execute_result"
    },
    {
     "data": {
      "image/png": "[encoded data removed]",
      "text/plain": [
       "<Figure size 432x288 with 1 Axes>"
      ]
     },
     "metadata": {
      "needs_background": "light"
     },
     "output_type": "display_data"
    }
   ],
   "source": [
    "history_target.accuracy.plot()"
   ]
  },
  {
   "cell_type": "code",
   "execution_count": 71,
   "metadata": {},
   "outputs": [
    {
     "data": {
      "text/plain": [
       "<AxesSubplot:>"
      ]
     },
     "execution_count": 71,
     "metadata": {},
     "output_type": "execute_result"
    },
    {
     "data": {
      "image/png": "[encoded data removed]",
      "text/plain": [
       "<Figure size 432x288 with 1 Axes>"
      ]
     },
     "metadata": {
      "needs_background": "light"
     },
     "output_type": "display_data"
    }
   ],
   "source": [
    "history_target.val_accuracy.plot()"
   ]
  },
  {
   "cell_type": "code",
   "execution_count": 72,
   "metadata": {
    "scrolled": true
   },
   "outputs": [
    {
     "name": "stdout",
     "output_type": "stream",
     "text": [
      "41/41 [==============================] - 0s 554us/step - loss: 752.9023 - accuracy: 0.2176\n"
     ]
    },
    {
     "data": {
      "text/plain": [
       "[752.9022827148438, 0.21756021678447723]"
      ]
     },
     "execution_count": 72,
     "metadata": {},
     "output_type": "execute_result"
    }
   ],
   "source": [
    "model.evaluate(X_test_target, y_test_target)"
   ]
  },
  {
   "cell_type": "code",
   "execution_count": 73,
   "metadata": {},
   "outputs": [
    {
     "data": {
      "image/png": "[encoded data removed]",
      "text/plain": [
       "<Figure size 800x560 with 1 Axes>"
      ]
     },
     "metadata": {},
     "output_type": "display_data"
    }
   ],
   "source": [
    "plt.style.use('classic')\n",
    "plt.figure(figsize=(10,7))\n",
    "plt.plot(history_suicide['val_loss'], '--',label='val_loss')\n",
    "plt.plot(history_suicide['loss'],color='orange',label='loss')\n",
    "plt.xlabel('Epochs')\n",
    "plt.ylabel('Loss')\n",
    "plt.title('Epochs Vs Loss')\n",
    "plt.legend()\n",
    "plt.show()"
   ]
  },
  {
   "cell_type": "code",
   "execution_count": 74,
   "metadata": {},
   "outputs": [
    {
     "data": {
      "image/png": "[encoded data removed]",
      "text/plain": [
       "<Figure size 800x560 with 1 Axes>"
      ]
     },
     "metadata": {},
     "output_type": "display_data"
    }
   ],
   "source": [
    "plt.style.use('classic')\n",
    "plt.figure(figsize=(10,7))\n",
    "plt.plot(history_suicide['val_accuracy'], '--',label='Val_Accuracy')\n",
    "plt.plot(history_suicide['accuracy'],color='orange',label='Accuracy')\n",
    "plt.xlabel('Epochs')\n",
    "plt.ylabel('Accuracy')\n",
    "plt.title('Epochs Vs Accuracy')\n",
    "plt.legend(loc='lower right')\n",
    "plt.show()"
   ]
  },
  {
   "cell_type": "code",
   "execution_count": 75,
   "metadata": {},
   "outputs": [
    {
     "data": {
      "image/png": "[encoded data removed]",
      "text/plain": [
       "<Figure size 800x560 with 1 Axes>"
      ]
     },
     "metadata": {},
     "output_type": "display_data"
    }
   ],
   "source": [
    "plt.style.use('classic')\n",
    "plt.figure(figsize=(10,7))\n",
    "plt.plot(history['val_accuracy'], '--',label='Val_Accuracy')\n",
    "plt.plot(history['accuracy'],color='orange',label='Accuracy')\n",
    "plt.xlabel('Epochs')\n",
    "plt.ylabel('Accuracy')\n",
    "plt.title('Epochs (50) Vs Accuracy')\n",
    "plt.legend(loc='lower right')\n",
    "plt.show()"
   ]
  },
  {
   "cell_type": "code",
   "execution_count": 76,
   "metadata": {},
   "outputs": [],
   "source": [
    "from sklearn.tree import DecisionTreeClassifier"
   ]
  },
  {
   "cell_type": "code",
   "execution_count": 86,
   "metadata": {},
   "outputs": [],
   "source": [
    "dtree = DecisionTreeClassifier()"
   ]
  },
  {
   "cell_type": "code",
   "execution_count": 83,
   "metadata": {},
   "outputs": [],
   "source": [
    " X_train, X_test, y_train, y_test = train_test_split(X_success, y_success, test_size=0.2)"
   ]
  },
  {
   "cell_type": "code",
   "execution_count": 87,
   "metadata": {},
   "outputs": [
    {
     "data": {
      "text/plain": [
       "DecisionTreeClassifier()"
      ]
     },
     "execution_count": 87,
     "metadata": {},
     "output_type": "execute_result"
    }
   ],
   "source": [
    "dtree.fit(X_train,y_train)"
   ]
  },
  {
   "cell_type": "code",
   "execution_count": 88,
   "metadata": {},
   "outputs": [],
   "source": [
    "predictions = dtree.predict(X_test)"
   ]
  },
  {
   "cell_type": "code",
   "execution_count": 94,
   "metadata": {},
   "outputs": [],
   "source": [
    "counts = {}\n",
    "for x in predictions:\n",
    "    counts[x] = counts.get(x,0) + 1 "
   ]
  },
  {
   "cell_type": "code",
   "execution_count": 95,
   "metadata": {},
   "outputs": [
    {
     "data": {
      "text/plain": [
       "{1: 1138, 0: 149}"
      ]
     },
     "execution_count": 95,
     "metadata": {},
     "output_type": "execute_result"
    }
   ],
   "source": [
    "counts"
   ]
  },
  {
   "cell_type": "code",
   "execution_count": 90,
   "metadata": {},
   "outputs": [],
   "source": [
    "from sklearn.metrics import classification_report,confusion_matrix"
   ]
  },
  {
   "cell_type": "code",
   "execution_count": 91,
   "metadata": {
    "scrolled": true
   },
   "outputs": [
    {
     "name": "stdout",
     "output_type": "stream",
     "text": [
      "              precision    recall  f1-score   support\n",
      "\n",
      "           0       0.44      0.46      0.45       140\n",
      "           1       0.93      0.93      0.93      1147\n",
      "\n",
      "    accuracy                           0.88      1287\n",
      "   macro avg       0.69      0.70      0.69      1287\n",
      "weighted avg       0.88      0.88      0.88      1287\n",
      "\n"
     ]
    }
   ],
   "source": [
    "print(classification_report(y_test,predictions))"
   ]
  },
  {
   "cell_type": "code",
   "execution_count": 96,
   "metadata": {},
   "outputs": [
    {
     "name": "stdout",
     "output_type": "stream",
     "text": [
      "[[  65   75]\n",
      " [  84 1063]]\n"
     ]
    }
   ],
   "source": [
    "print(confusion_matrix(y_test,predictions))"
   ]
  },
  {
   "cell_type": "code",
   "execution_count": 97,
   "metadata": {},
   "outputs": [
    {
     "data": {
      "text/plain": [
       "RandomForestClassifier()"
      ]
     },
     "execution_count": 97,
     "metadata": {},
     "output_type": "execute_result"
    }
   ],
   "source": [
    "from sklearn.ensemble import RandomForestClassifier\n",
    "rfc = RandomForestClassifier(n_estimators=100)\n",
    "rfc.fit(X_train, y_train)"
   ]
  },
  {
   "cell_type": "code",
   "execution_count": 98,
   "metadata": {},
   "outputs": [],
   "source": [
    "rfc_pred = rfc.predict(X_test)"
   ]
  },
  {
   "cell_type": "code",
   "execution_count": 99,
   "metadata": {},
   "outputs": [
    {
     "name": "stdout",
     "output_type": "stream",
     "text": [
      "[[  56   84]\n",
      " [  22 1125]]\n"
     ]
    }
   ],
   "source": [
    "print(confusion_matrix(y_test,rfc_pred))"
   ]
  },
  {
   "cell_type": "code",
   "execution_count": 100,
   "metadata": {},
   "outputs": [
    {
     "name": "stdout",
     "output_type": "stream",
     "text": [
      "              precision    recall  f1-score   support\n",
      "\n",
      "           0       0.72      0.40      0.51       140\n",
      "           1       0.93      0.98      0.96      1147\n",
      "\n",
      "    accuracy                           0.92      1287\n",
      "   macro avg       0.82      0.69      0.73      1287\n",
      "weighted avg       0.91      0.92      0.91      1287\n",
      "\n"
     ]
    }
   ],
   "source": [
    "print(classification_report(y_test,rfc_pred))"
   ]
  },
  {
   "cell_type": "code",
   "execution_count": 102,
   "metadata": {},
   "outputs": [
    {
     "name": "stdout",
     "output_type": "stream",
     "text": [
      "Collecting xgboost\n",
      "  Downloading xgboost-1.3.3-py3-none-macosx_10_14_x86_64.macosx_10_15_x86_64.macosx_11_0_x86_64.whl (1.2 MB)\n",
      "\u001b[K     |████████████████████████████████| 1.2 MB 3.2 MB/s eta 0:00:01\n",
      "\u001b[?25hRequirement already satisfied: scipy in /Users/rohan/opt/anaconda3/lib/python3.8/site-packages (from xgboost) (1.5.2)\n",
      "Requirement already satisfied: numpy in /Users/rohan/opt/anaconda3/lib/python3.8/site-packages (from xgboost) (1.19.2)\n",
      "Installing collected packages: xgboost\n",
      "Successfully installed xgboost-1.3.3\n"
     ]
    }
   ],
   "source": [
    "! pip install xgboost"
   ]
  },
  {
   "cell_type": "code",
   "execution_count": 101,
   "metadata": {},
   "outputs": [
    {
     "ename": "ModuleNotFoundError",
     "evalue": "No module named 'xgboost'",
     "output_type": "error",
     "traceback": [
      "\u001b[0;31m---------------------------------------------------------------------------\u001b[0m",
      "\u001b[0;31mModuleNotFoundError\u001b[0m                       Traceback (most recent call last)",
      "\u001b[0;32m<ipython-input-101-5943d1bfe3f1>\u001b[0m in \u001b[0;36m<module>\u001b[0;34m\u001b[0m\n\u001b[0;32m----> 1\u001b[0;31m \u001b[0;32mimport\u001b[0m \u001b[0mxgboost\u001b[0m \u001b[0;32mas\u001b[0m \u001b[0mxgb\u001b[0m\u001b[0;34m\u001b[0m\u001b[0;34m\u001b[0m\u001b[0m\n\u001b[0m",
      "\u001b[0;31mModuleNotFoundError\u001b[0m: No module named 'xgboost'"
     ]
    }
   ],
   "source": [
    "import xgboost as xgb"
   ]
  },
  {
   "cell_type": "code",
   "execution_count": 104,
   "metadata": {},
   "outputs": [
    {
     "data": {
      "text/plain": [
       "(181691, 28)"
      ]
     },
     "execution_count": 104,
     "metadata": {},
     "output_type": "execute_result"
    }
   ],
   "source": [
    "data.shape"
   ]
  },
  {
   "cell_type": "code",
   "execution_count": 108,
   "metadata": {},
   "outputs": [
    {
     "data": {
      "text/plain": [
       "12"
      ]
     },
     "execution_count": 108,
     "metadata": {},
     "output_type": "execute_result"
    }
   ],
   "source": [
    "data['region_txt'].unique().__len__()"
   ]
  },
  {
   "cell_type": "code",
   "execution_count": null,
   "metadata": {},
   "outputs": [],
   "source": []
  }
 ],
 "metadata": {
  "kernelspec": {
   "display_name": "Python 3",
   "language": "python",
   "name": "python3"
  },
  "language_info": {
   "codemirror_mode": {
    "name": "ipython",
    "version": 3
   },
   "file_extension": ".py",
   "mimetype": "text/x-python",
   "name": "python",
   "nbconvert_exporter": "python",
   "pygments_lexer": "ipython3",
   "version": "3.8.5"
  }
 },
 "nbformat": 4,
 "nbformat_minor": 4
}
