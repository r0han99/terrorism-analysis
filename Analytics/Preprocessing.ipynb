{
 "cells": [
  {
   "cell_type": "code",
   "execution_count": 33,
   "metadata": {},
   "outputs": [],
   "source": [
    "# Data Libraries \n",
    "import pandas as pd \n",
    "import numpy as np\n",
    "\n",
    "# plotting libraries \n",
    "import matplotlib.pyplot as plt \n",
    "import seaborn as sns\n",
    "\n",
    "# ignore warnings \n",
    "import warnings \n",
    "warnings.filterwarnings(\"ignore\", category=DeprecationWarning)"
   ]
  },
  {
   "cell_type": "markdown",
   "metadata": {},
   "source": [
    "_orginal Data source_\n",
    "https://www.kaggle.com/START-UMD/gtd"
   ]
  },
  {
   "cell_type": "code",
   "execution_count": 2,
   "metadata": {},
   "outputs": [],
   "source": [
    "# data encoding = latin1\n",
    "archive = pd.read_csv('./Data/global-terrorism-db.csv',encoding='latin1',low_memory=False)"
   ]
  },
  {
   "cell_type": "code",
   "execution_count": 3,
   "metadata": {
    "scrolled": true
   },
   "outputs": [
    {
     "name": "stdout",
     "output_type": "stream",
     "text": [
      "Number of rows : 181691\n",
      "Number of columns : 135\n",
      "Data Size :  24528285\n"
     ]
    }
   ],
   "source": [
    "# data stats\n",
    "print('Number of rows : {}'.format(archive.shape[0]))\n",
    "print('Number of columns : {}'.format(archive.shape[1]))\n",
    "print('Data Size :  {}'.format(archive.size))"
   ]
  },
  {
   "cell_type": "markdown",
   "metadata": {},
   "source": [
    "### Manual Column Selection "
   ]
  },
  {
   "cell_type": "code",
   "execution_count": 4,
   "metadata": {},
   "outputs": [],
   "source": [
    "cols = ['eventid', 'iyear', 'imonth', 'iday', \n",
    "        'extended', 'country', 'country_txt', \n",
    "        'region', 'region_txt', 'city', 'provstate', \n",
    "        'latitute', 'longitude','location','summary', \n",
    "        'success', 'suicide', 'location', 'attacktype_txt', \n",
    "        'targettype_txt', 'tagetsubtype1_txt', 'corp1', \n",
    "        'target1', 'natlty1', 'natlty1_txt', 'gname', 'motive', \n",
    "        'nperps', 'weaptype1', 'weaptype1_txt', 'nkill', 'propextent'] "
   ]
  },
  {
   "cell_type": "code",
   "execution_count": 5,
   "metadata": {},
   "outputs": [],
   "source": [
    "allcols = archive.columns.to_list()"
   ]
  },
  {
   "cell_type": "code",
   "execution_count": 6,
   "metadata": {},
   "outputs": [
    {
     "name": "stdout",
     "output_type": "stream",
     "text": [
      "Invalid Column Name :  latitute\n",
      "Invalid Column Name :  attacktype_txt\n",
      "Invalid Column Name :  targettype_txt\n",
      "Invalid Column Name :  tagetsubtype1_txt\n"
     ]
    }
   ],
   "source": [
    "# preliminary check \n",
    "def check_cols():\n",
    "    for column in cols:\n",
    "        if column in allcols:\n",
    "            pass\n",
    "        else:\n",
    "            print('Invalid Column Name : ', column)\n",
    "check_cols()"
   ]
  },
  {
   "cell_type": "code",
   "execution_count": 7,
   "metadata": {},
   "outputs": [],
   "source": [
    "# corrected \n",
    "cols = ['eventid', 'iyear', 'imonth', 'iday', \n",
    "        'extended', 'country', 'country_txt', \n",
    "        'region', 'region_txt', 'city', 'provstate', \n",
    "        'latitude', 'longitude','location','summary', \n",
    "        'success', 'suicide', 'attacktype1_txt', \n",
    "        'targtype1_txt', 'targsubtype1_txt', 'corp1', \n",
    "        'target1', 'natlty1', 'natlty1_txt', 'gname', 'motive', \n",
    "        'nperps', 'weaptype1', 'weaptype1_txt', 'nkill', 'propextent'] "
   ]
  },
  {
   "cell_type": "code",
   "execution_count": 8,
   "metadata": {},
   "outputs": [],
   "source": [
    "check_cols() # all okay "
   ]
  },
  {
   "cell_type": "markdown",
   "metadata": {},
   "source": [
    "### Slicing data "
   ]
  },
  {
   "cell_type": "code",
   "execution_count": 9,
   "metadata": {},
   "outputs": [
    {
     "name": "stdout",
     "output_type": "stream",
     "text": [
      "Number of Columns Selected are 31 out of total 135\n"
     ]
    }
   ],
   "source": [
    "print('Number of Columns Selected are {} out of total {}'.format(len(cols),archive.shape[1]))"
   ]
  },
  {
   "cell_type": "code",
   "execution_count": 10,
   "metadata": {},
   "outputs": [],
   "source": [
    "mainsheet = archive[cols]"
   ]
  },
  {
   "cell_type": "code",
   "execution_count": 11,
   "metadata": {
    "scrolled": true
   },
   "outputs": [
    {
     "data": {
      "text/html": [
       "<div>\n",
       "<style scoped>\n",
       "    .dataframe tbody tr th:only-of-type {\n",
       "        vertical-align: middle;\n",
       "    }\n",
       "\n",
       "    .dataframe tbody tr th {\n",
       "        vertical-align: top;\n",
       "    }\n",
       "\n",
       "    .dataframe thead th {\n",
       "        text-align: right;\n",
       "    }\n",
       "</style>\n",
       "<table border=\"1\" class=\"dataframe\">\n",
       "  <thead>\n",
       "    <tr style=\"text-align: right;\">\n",
       "      <th></th>\n",
       "      <th>eventid</th>\n",
       "      <th>iyear</th>\n",
       "      <th>imonth</th>\n",
       "      <th>iday</th>\n",
       "      <th>extended</th>\n",
       "      <th>country</th>\n",
       "      <th>country_txt</th>\n",
       "      <th>region</th>\n",
       "      <th>region_txt</th>\n",
       "      <th>city</th>\n",
       "      <th>...</th>\n",
       "      <th>target1</th>\n",
       "      <th>natlty1</th>\n",
       "      <th>natlty1_txt</th>\n",
       "      <th>gname</th>\n",
       "      <th>motive</th>\n",
       "      <th>nperps</th>\n",
       "      <th>weaptype1</th>\n",
       "      <th>weaptype1_txt</th>\n",
       "      <th>nkill</th>\n",
       "      <th>propextent</th>\n",
       "    </tr>\n",
       "  </thead>\n",
       "  <tbody>\n",
       "    <tr>\n",
       "      <th>0</th>\n",
       "      <td>197000000001</td>\n",
       "      <td>1970</td>\n",
       "      <td>7</td>\n",
       "      <td>2</td>\n",
       "      <td>0</td>\n",
       "      <td>58</td>\n",
       "      <td>Dominican Republic</td>\n",
       "      <td>2</td>\n",
       "      <td>Central America &amp; Caribbean</td>\n",
       "      <td>Santo Domingo</td>\n",
       "      <td>...</td>\n",
       "      <td>Julio Guzman</td>\n",
       "      <td>58.0</td>\n",
       "      <td>Dominican Republic</td>\n",
       "      <td>MANO-D</td>\n",
       "      <td>NaN</td>\n",
       "      <td>NaN</td>\n",
       "      <td>13</td>\n",
       "      <td>Unknown</td>\n",
       "      <td>1.0</td>\n",
       "      <td>NaN</td>\n",
       "    </tr>\n",
       "    <tr>\n",
       "      <th>1</th>\n",
       "      <td>197000000002</td>\n",
       "      <td>1970</td>\n",
       "      <td>0</td>\n",
       "      <td>0</td>\n",
       "      <td>0</td>\n",
       "      <td>130</td>\n",
       "      <td>Mexico</td>\n",
       "      <td>1</td>\n",
       "      <td>North America</td>\n",
       "      <td>Mexico city</td>\n",
       "      <td>...</td>\n",
       "      <td>Nadine Chaval, daughter</td>\n",
       "      <td>21.0</td>\n",
       "      <td>Belgium</td>\n",
       "      <td>23rd of September Communist League</td>\n",
       "      <td>NaN</td>\n",
       "      <td>7.0</td>\n",
       "      <td>13</td>\n",
       "      <td>Unknown</td>\n",
       "      <td>0.0</td>\n",
       "      <td>NaN</td>\n",
       "    </tr>\n",
       "    <tr>\n",
       "      <th>2</th>\n",
       "      <td>197001000001</td>\n",
       "      <td>1970</td>\n",
       "      <td>1</td>\n",
       "      <td>0</td>\n",
       "      <td>0</td>\n",
       "      <td>160</td>\n",
       "      <td>Philippines</td>\n",
       "      <td>5</td>\n",
       "      <td>Southeast Asia</td>\n",
       "      <td>Unknown</td>\n",
       "      <td>...</td>\n",
       "      <td>Employee</td>\n",
       "      <td>217.0</td>\n",
       "      <td>United States</td>\n",
       "      <td>Unknown</td>\n",
       "      <td>NaN</td>\n",
       "      <td>NaN</td>\n",
       "      <td>13</td>\n",
       "      <td>Unknown</td>\n",
       "      <td>1.0</td>\n",
       "      <td>NaN</td>\n",
       "    </tr>\n",
       "    <tr>\n",
       "      <th>3</th>\n",
       "      <td>197001000002</td>\n",
       "      <td>1970</td>\n",
       "      <td>1</td>\n",
       "      <td>0</td>\n",
       "      <td>0</td>\n",
       "      <td>78</td>\n",
       "      <td>Greece</td>\n",
       "      <td>8</td>\n",
       "      <td>Western Europe</td>\n",
       "      <td>Athens</td>\n",
       "      <td>...</td>\n",
       "      <td>U.S. Embassy</td>\n",
       "      <td>217.0</td>\n",
       "      <td>United States</td>\n",
       "      <td>Unknown</td>\n",
       "      <td>NaN</td>\n",
       "      <td>NaN</td>\n",
       "      <td>6</td>\n",
       "      <td>Explosives</td>\n",
       "      <td>NaN</td>\n",
       "      <td>NaN</td>\n",
       "    </tr>\n",
       "    <tr>\n",
       "      <th>4</th>\n",
       "      <td>197001000003</td>\n",
       "      <td>1970</td>\n",
       "      <td>1</td>\n",
       "      <td>0</td>\n",
       "      <td>0</td>\n",
       "      <td>101</td>\n",
       "      <td>Japan</td>\n",
       "      <td>4</td>\n",
       "      <td>East Asia</td>\n",
       "      <td>Fukouka</td>\n",
       "      <td>...</td>\n",
       "      <td>U.S. Consulate</td>\n",
       "      <td>217.0</td>\n",
       "      <td>United States</td>\n",
       "      <td>Unknown</td>\n",
       "      <td>NaN</td>\n",
       "      <td>NaN</td>\n",
       "      <td>8</td>\n",
       "      <td>Incendiary</td>\n",
       "      <td>NaN</td>\n",
       "      <td>NaN</td>\n",
       "    </tr>\n",
       "    <tr>\n",
       "      <th>5</th>\n",
       "      <td>197001010002</td>\n",
       "      <td>1970</td>\n",
       "      <td>1</td>\n",
       "      <td>1</td>\n",
       "      <td>0</td>\n",
       "      <td>217</td>\n",
       "      <td>United States</td>\n",
       "      <td>1</td>\n",
       "      <td>North America</td>\n",
       "      <td>Cairo</td>\n",
       "      <td>...</td>\n",
       "      <td>Cairo Police Headquarters</td>\n",
       "      <td>217.0</td>\n",
       "      <td>United States</td>\n",
       "      <td>Black Nationalists</td>\n",
       "      <td>To protest the Cairo Illinois Police Deparment</td>\n",
       "      <td>-99.0</td>\n",
       "      <td>5</td>\n",
       "      <td>Firearms</td>\n",
       "      <td>0.0</td>\n",
       "      <td>3.0</td>\n",
       "    </tr>\n",
       "    <tr>\n",
       "      <th>6</th>\n",
       "      <td>197001020001</td>\n",
       "      <td>1970</td>\n",
       "      <td>1</td>\n",
       "      <td>2</td>\n",
       "      <td>0</td>\n",
       "      <td>218</td>\n",
       "      <td>Uruguay</td>\n",
       "      <td>3</td>\n",
       "      <td>South America</td>\n",
       "      <td>Montevideo</td>\n",
       "      <td>...</td>\n",
       "      <td>Juan Maria de Lucah/Chief of Directorate of in...</td>\n",
       "      <td>218.0</td>\n",
       "      <td>Uruguay</td>\n",
       "      <td>Tupamaros (Uruguay)</td>\n",
       "      <td>NaN</td>\n",
       "      <td>3.0</td>\n",
       "      <td>5</td>\n",
       "      <td>Firearms</td>\n",
       "      <td>0.0</td>\n",
       "      <td>NaN</td>\n",
       "    </tr>\n",
       "    <tr>\n",
       "      <th>7</th>\n",
       "      <td>197001020002</td>\n",
       "      <td>1970</td>\n",
       "      <td>1</td>\n",
       "      <td>2</td>\n",
       "      <td>0</td>\n",
       "      <td>217</td>\n",
       "      <td>United States</td>\n",
       "      <td>1</td>\n",
       "      <td>North America</td>\n",
       "      <td>Oakland</td>\n",
       "      <td>...</td>\n",
       "      <td>Edes Substation</td>\n",
       "      <td>217.0</td>\n",
       "      <td>United States</td>\n",
       "      <td>Unknown</td>\n",
       "      <td>NaN</td>\n",
       "      <td>-99.0</td>\n",
       "      <td>6</td>\n",
       "      <td>Explosives</td>\n",
       "      <td>0.0</td>\n",
       "      <td>3.0</td>\n",
       "    </tr>\n",
       "    <tr>\n",
       "      <th>8</th>\n",
       "      <td>197001020003</td>\n",
       "      <td>1970</td>\n",
       "      <td>1</td>\n",
       "      <td>2</td>\n",
       "      <td>0</td>\n",
       "      <td>217</td>\n",
       "      <td>United States</td>\n",
       "      <td>1</td>\n",
       "      <td>North America</td>\n",
       "      <td>Madison</td>\n",
       "      <td>...</td>\n",
       "      <td>R.O.T.C. offices at University of Wisconsin, M...</td>\n",
       "      <td>217.0</td>\n",
       "      <td>United States</td>\n",
       "      <td>New Year's Gang</td>\n",
       "      <td>To protest the War in Vietnam and the draft</td>\n",
       "      <td>1.0</td>\n",
       "      <td>8</td>\n",
       "      <td>Incendiary</td>\n",
       "      <td>0.0</td>\n",
       "      <td>3.0</td>\n",
       "    </tr>\n",
       "    <tr>\n",
       "      <th>9</th>\n",
       "      <td>197001030001</td>\n",
       "      <td>1970</td>\n",
       "      <td>1</td>\n",
       "      <td>3</td>\n",
       "      <td>0</td>\n",
       "      <td>217</td>\n",
       "      <td>United States</td>\n",
       "      <td>1</td>\n",
       "      <td>North America</td>\n",
       "      <td>Madison</td>\n",
       "      <td>...</td>\n",
       "      <td>Selective Service Headquarters in Madison Wisc...</td>\n",
       "      <td>217.0</td>\n",
       "      <td>United States</td>\n",
       "      <td>New Year's Gang</td>\n",
       "      <td>To protest the War in Vietnam and the draft</td>\n",
       "      <td>1.0</td>\n",
       "      <td>8</td>\n",
       "      <td>Incendiary</td>\n",
       "      <td>0.0</td>\n",
       "      <td>3.0</td>\n",
       "    </tr>\n",
       "  </tbody>\n",
       "</table>\n",
       "<p>10 rows × 31 columns</p>\n",
       "</div>"
      ],
      "text/plain": [
       "        eventid  iyear  imonth  iday  extended  country         country_txt  \\\n",
       "0  197000000001   1970       7     2         0       58  Dominican Republic   \n",
       "1  197000000002   1970       0     0         0      130              Mexico   \n",
       "2  197001000001   1970       1     0         0      160         Philippines   \n",
       "3  197001000002   1970       1     0         0       78              Greece   \n",
       "4  197001000003   1970       1     0         0      101               Japan   \n",
       "5  197001010002   1970       1     1         0      217       United States   \n",
       "6  197001020001   1970       1     2         0      218             Uruguay   \n",
       "7  197001020002   1970       1     2         0      217       United States   \n",
       "8  197001020003   1970       1     2         0      217       United States   \n",
       "9  197001030001   1970       1     3         0      217       United States   \n",
       "\n",
       "   region                   region_txt           city  ...  \\\n",
       "0       2  Central America & Caribbean  Santo Domingo  ...   \n",
       "1       1                North America    Mexico city  ...   \n",
       "2       5               Southeast Asia        Unknown  ...   \n",
       "3       8               Western Europe         Athens  ...   \n",
       "4       4                    East Asia        Fukouka  ...   \n",
       "5       1                North America          Cairo  ...   \n",
       "6       3                South America     Montevideo  ...   \n",
       "7       1                North America        Oakland  ...   \n",
       "8       1                North America        Madison  ...   \n",
       "9       1                North America        Madison  ...   \n",
       "\n",
       "                                             target1  natlty1  \\\n",
       "0                                       Julio Guzman     58.0   \n",
       "1                            Nadine Chaval, daughter     21.0   \n",
       "2                                           Employee    217.0   \n",
       "3                                       U.S. Embassy    217.0   \n",
       "4                                     U.S. Consulate    217.0   \n",
       "5                          Cairo Police Headquarters    217.0   \n",
       "6  Juan Maria de Lucah/Chief of Directorate of in...    218.0   \n",
       "7                                    Edes Substation    217.0   \n",
       "8  R.O.T.C. offices at University of Wisconsin, M...    217.0   \n",
       "9  Selective Service Headquarters in Madison Wisc...    217.0   \n",
       "\n",
       "          natlty1_txt                               gname  \\\n",
       "0  Dominican Republic                              MANO-D   \n",
       "1             Belgium  23rd of September Communist League   \n",
       "2       United States                             Unknown   \n",
       "3       United States                             Unknown   \n",
       "4       United States                             Unknown   \n",
       "5       United States                  Black Nationalists   \n",
       "6             Uruguay                 Tupamaros (Uruguay)   \n",
       "7       United States                             Unknown   \n",
       "8       United States                     New Year's Gang   \n",
       "9       United States                     New Year's Gang   \n",
       "\n",
       "                                           motive  nperps  weaptype1  \\\n",
       "0                                             NaN     NaN         13   \n",
       "1                                             NaN     7.0         13   \n",
       "2                                             NaN     NaN         13   \n",
       "3                                             NaN     NaN          6   \n",
       "4                                             NaN     NaN          8   \n",
       "5  To protest the Cairo Illinois Police Deparment   -99.0          5   \n",
       "6                                             NaN     3.0          5   \n",
       "7                                             NaN   -99.0          6   \n",
       "8     To protest the War in Vietnam and the draft     1.0          8   \n",
       "9     To protest the War in Vietnam and the draft     1.0          8   \n",
       "\n",
       "  weaptype1_txt nkill propextent  \n",
       "0       Unknown   1.0        NaN  \n",
       "1       Unknown   0.0        NaN  \n",
       "2       Unknown   1.0        NaN  \n",
       "3    Explosives   NaN        NaN  \n",
       "4    Incendiary   NaN        NaN  \n",
       "5      Firearms   0.0        3.0  \n",
       "6      Firearms   0.0        NaN  \n",
       "7    Explosives   0.0        3.0  \n",
       "8    Incendiary   0.0        3.0  \n",
       "9    Incendiary   0.0        3.0  \n",
       "\n",
       "[10 rows x 31 columns]"
      ]
     },
     "execution_count": 11,
     "metadata": {},
     "output_type": "execute_result"
    }
   ],
   "source": [
    "mainsheet.head(10) "
   ]
  },
  {
   "cell_type": "markdown",
   "metadata": {},
   "source": [
    "### Data Preprocessing"
   ]
  },
  {
   "cell_type": "code",
   "execution_count": 12,
   "metadata": {},
   "outputs": [],
   "source": [
    "# Numerical \n",
    "missing = (mainsheet.isna().sum() / mainsheet.size ) * 100 # In percentages "
   ]
  },
  {
   "cell_type": "code",
   "execution_count": 13,
   "metadata": {},
   "outputs": [
    {
     "data": {
      "text/plain": [
       "city                0.007705\n",
       "provstate           0.007475\n",
       "latitude            0.080889\n",
       "longitude           0.080907\n",
       "location            2.240529\n",
       "summary             1.174078\n",
       "targsubtype1_txt    0.184166\n",
       "corp1               0.755448\n",
       "target1             0.011292\n",
       "natlty1             0.027679\n",
       "natlty1_txt         0.027679\n",
       "motive              2.328129\n",
       "nperps              1.262601\n",
       "nkill               0.183101\n",
       "propextent          2.088374\n",
       "dtype: float64"
      ]
     },
     "execution_count": 13,
     "metadata": {},
     "output_type": "execute_result"
    }
   ],
   "source": [
    "missing[missing > 0]"
   ]
  },
  {
   "cell_type": "code",
   "execution_count": 14,
   "metadata": {},
   "outputs": [
    {
     "data": {
      "text/plain": [
       "location      2.240529\n",
       "summary       1.174078\n",
       "corp1         0.755448\n",
       "motive        2.328129\n",
       "nperps        1.262601\n",
       "propextent    2.088374\n",
       "dtype: float64"
      ]
     },
     "execution_count": 14,
     "metadata": {},
     "output_type": "execute_result"
    }
   ],
   "source": [
    "missing[missing > 0.5]"
   ]
  },
  {
   "cell_type": "code",
   "execution_count": 15,
   "metadata": {},
   "outputs": [],
   "source": [
    "def impute_value(column,value='Unknown'):\n",
    "    column = column.fillna(value=value)\n",
    "    return column"
   ]
  },
  {
   "cell_type": "code",
   "execution_count": 16,
   "metadata": {},
   "outputs": [],
   "source": [
    "mainsheet['city'] = impute_value(mainsheet['city'],value='Unknown')"
   ]
  },
  {
   "cell_type": "code",
   "execution_count": 17,
   "metadata": {},
   "outputs": [
    {
     "data": {
      "text/plain": [
       "Baghdad                7645\n",
       "Northern Ireland       4498\n",
       "Unknown                4290\n",
       "Balochistan            3710\n",
       "Saladin                3411\n",
       "                       ... \n",
       "Pcinja ( District )       1\n",
       "Ciudad Real               1\n",
       "Volga (District)          1\n",
       "Yamagata                  1\n",
       "Paktika Province          1\n",
       "Name: provstate, Length: 2855, dtype: int64"
      ]
     },
     "execution_count": 17,
     "metadata": {},
     "output_type": "execute_result"
    }
   ],
   "source": [
    "mainsheet['provstate'].value_counts()"
   ]
  },
  {
   "cell_type": "code",
   "execution_count": 18,
   "metadata": {},
   "outputs": [],
   "source": [
    "mainsheet['provstate'] = impute_value(mainsheet['provstate'],value='Unknown')"
   ]
  },
  {
   "cell_type": "code",
   "execution_count": 19,
   "metadata": {},
   "outputs": [
    {
     "data": {
      "text/plain": [
       "Baghdad                7645\n",
       "Unknown                4711\n",
       "Northern Ireland       4498\n",
       "Balochistan            3710\n",
       "Saladin                3411\n",
       "                       ... \n",
       "Pcinja ( District )       1\n",
       "Ciudad Real               1\n",
       "Volga (District)          1\n",
       "Yamagata                  1\n",
       "Paktika Province          1\n",
       "Name: provstate, Length: 2855, dtype: int64"
      ]
     },
     "execution_count": 19,
     "metadata": {},
     "output_type": "execute_result"
    }
   ],
   "source": [
    "mainsheet['provstate'].value_counts()"
   ]
  },
  {
   "cell_type": "code",
   "execution_count": 20,
   "metadata": {},
   "outputs": [
    {
     "data": {
      "text/plain": [
       "0                                                       NaN\n",
       "1                                                       NaN\n",
       "2                                                       NaN\n",
       "3                                                       NaN\n",
       "4                                                       NaN\n",
       "                                ...                        \n",
       "181686       The incident occurred near the town of Balcad.\n",
       "181687       The incident occurred at the Humaymim Airport.\n",
       "181688    The incident occurred in the Datu Hoffer distr...\n",
       "181689    The incident occurred in the Mantripukhri neig...\n",
       "181690                                                  NaN\n",
       "Name: location, Length: 181691, dtype: object"
      ]
     },
     "execution_count": 20,
     "metadata": {},
     "output_type": "execute_result"
    }
   ],
   "source": [
    "mainsheet['location'] "
   ]
  },
  {
   "cell_type": "code",
   "execution_count": 21,
   "metadata": {},
   "outputs": [],
   "source": [
    "mainsheet['location'] = impute_value(mainsheet['location'],value='Not Registered')"
   ]
  },
  {
   "cell_type": "code",
   "execution_count": 22,
   "metadata": {},
   "outputs": [],
   "source": [
    "# mainsheet['location'].value_counts()"
   ]
  },
  {
   "cell_type": "code",
   "execution_count": 23,
   "metadata": {},
   "outputs": [],
   "source": [
    "mainsheet['summary'] = impute_value(mainsheet['summary'], value='Not Recorded')"
   ]
  },
  {
   "cell_type": "code",
   "execution_count": 24,
   "metadata": {},
   "outputs": [],
   "source": [
    "# mainsheet['summary'].value_counts()"
   ]
  },
  {
   "cell_type": "code",
   "execution_count": 25,
   "metadata": {},
   "outputs": [],
   "source": [
    "mainsheet['motive'] = impute_value(mainsheet['motive'], value='Unknown')"
   ]
  },
  {
   "cell_type": "code",
   "execution_count": 26,
   "metadata": {},
   "outputs": [],
   "source": [
    "mainsheet['natlty1_txt'] = impute_value(mainsheet['natlty1_txt'], value='Unknown')"
   ]
  },
  {
   "cell_type": "code",
   "execution_count": 27,
   "metadata": {},
   "outputs": [],
   "source": [
    "mainsheet['corp1'] = impute_value(mainsheet['corp1'],value='Unknown')"
   ]
  },
  {
   "cell_type": "code",
   "execution_count": 28,
   "metadata": {},
   "outputs": [],
   "source": [
    "# Furthur Preprocessing Can be Done While practically working with columns in plots"
   ]
  },
  {
   "cell_type": "markdown",
   "metadata": {},
   "source": [
    "### Data Segmentation "
   ]
  },
  {
   "cell_type": "markdown",
   "metadata": {},
   "source": [
    "- The thought process behind segmenting or filtering out data elements like summary and other categorical data out of the main dataset is to quickly gain access to any event's summary, location, type of event pivoting on the eventid; this not only increases the efficiency to learn about any event at hand which is interesting but also keeps things organised. \n",
    "\n",
    "__Total Number of Datasets After Segmenting__\n",
    "1. The Mainsheet with Selected 31 columns \n",
    "2. Numerical Sheet ( on which all the Statistics are worked out )\n",
    "3. Summary Sheet  ( To Get synopsis of an event using the eventid ) \n"
   ]
  },
  {
   "cell_type": "code",
   "execution_count": 29,
   "metadata": {},
   "outputs": [],
   "source": [
    "# MainSheet \n",
    "mainsheet.to_csv('./Data/Main-Sheet.csv') # csv"
   ]
  },
  {
   "cell_type": "code",
   "execution_count": 30,
   "metadata": {},
   "outputs": [],
   "source": [
    "# Numerical\n",
    "data = mainsheet.drop(['summary','location'],axis=1)\n",
    "data.to_csv('./Data/Data.csv') # csv"
   ]
  },
  {
   "cell_type": "code",
   "execution_count": 31,
   "metadata": {},
   "outputs": [],
   "source": [
    "# # Summary \n",
    "summary_cols = ['eventid', 'iyear', 'imonth', 'country_txt', 'region_txt', 'city', 'location', 'success', 'motive','summary' ]\n",
    "summary = mainsheet[summary_cols]\n",
    "summary.to_csv('./Data/summary.csv') # csv"
   ]
  },
  {
   "cell_type": "code",
   "execution_count": null,
   "metadata": {},
   "outputs": [],
   "source": []
  },
  {
   "cell_type": "code",
   "execution_count": null,
   "metadata": {},
   "outputs": [],
   "source": []
  }
 ],
 "metadata": {
  "kernelspec": {
   "display_name": "Python 3",
   "language": "python",
   "name": "python3"
  },
  "language_info": {
   "codemirror_mode": {
    "name": "ipython",
    "version": 3
   },
   "file_extension": ".py",
   "mimetype": "text/x-python",
   "name": "python",
   "nbconvert_exporter": "python",
   "pygments_lexer": "ipython3",
   "version": "3.7.6"
  }
 },
 "nbformat": 4,
 "nbformat_minor": 4
}
