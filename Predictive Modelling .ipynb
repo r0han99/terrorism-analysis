{
 "cells": [
  {
   "cell_type": "markdown",
   "metadata": {},
   "source": [
    "### Shallow Vs Deep Learning Methodology to Uncover patterns of Terrorism"
   ]
  },
  {
   "cell_type": "code",
   "execution_count": 244,
   "metadata": {},
   "outputs": [],
   "source": [
    "# required modules "
   ]
  },
  {
   "cell_type": "code",
   "execution_count": 245,
   "metadata": {},
   "outputs": [],
   "source": [
    "# Data Libraries \n",
    "import pandas as pd \n",
    "import numpy as np\n",
    "\n",
    "# plotting libraries \n",
    "import matplotlib.pyplot as plt \n",
    "import plotly.graph_objects as go\n",
    "import seaborn as sns\n",
    "\n",
    "#predictive modelling \n",
    "import sklearn \n",
    "from tensorflow.keras.layers import Dense, Activation, BatchNormalization\n",
    "\n",
    "# ignore warnings \n",
    "import warnings \n",
    "warnings.filterwarnings(\"ignore\", category=DeprecationWarning)\n"
   ]
  },
  {
   "cell_type": "code",
   "execution_count": 246,
   "metadata": {},
   "outputs": [],
   "source": [
    "# data path \n",
    "# MacOS\n",
    "# abspath = './Data/Data.csv'\n",
    "# metadata = './Data/terrorism_metadata.csv'\n",
    "# Windows \n",
    "abspath = r\"C:\\Users\\91800\\Desktop\\terrorism-analysis\\Data\\Data.csv\"\n",
    "metadata = r\"C:\\Users\\91800\\Desktop\\terrorism-analysis\\Data\\terrorism_metadata.csv\""
   ]
  },
  {
   "cell_type": "code",
   "execution_count": 247,
   "metadata": {},
   "outputs": [],
   "source": [
    "# Functional Meta-Data --> usage - meta_data['column-name']\n",
    "meta = pd.read_csv(metadata)\n",
    "meta = meta.drop(meta.columns[2:],axis=1)\n",
    "meta_data = {}\n",
    "for x,y in zip(list(meta['Column']),list(meta['Desc'])):\n",
    "    meta_data[x] = y\n",
    "\n",
    "# meta_data"
   ]
  },
  {
   "cell_type": "code",
   "execution_count": 248,
   "metadata": {},
   "outputs": [],
   "source": [
    "# Data \n",
    "data = pd.read_csv(abspath,encoding='latin1',low_memory=False)"
   ]
  },
  {
   "cell_type": "code",
   "execution_count": 249,
   "metadata": {},
   "outputs": [],
   "source": [
    "data = data.drop('Unnamed: 0',axis=1) # dropping the redundant column"
   ]
  },
  {
   "cell_type": "code",
   "execution_count": 250,
   "metadata": {},
   "outputs": [
    {
     "data": {
      "text/html": [
       "<div>\n",
       "<style scoped>\n",
       "    .dataframe tbody tr th:only-of-type {\n",
       "        vertical-align: middle;\n",
       "    }\n",
       "\n",
       "    .dataframe tbody tr th {\n",
       "        vertical-align: top;\n",
       "    }\n",
       "\n",
       "    .dataframe thead th {\n",
       "        text-align: right;\n",
       "    }\n",
       "</style>\n",
       "<table border=\"1\" class=\"dataframe\">\n",
       "  <thead>\n",
       "    <tr style=\"text-align: right;\">\n",
       "      <th></th>\n",
       "      <th>eventid</th>\n",
       "      <th>iyear</th>\n",
       "      <th>imonth</th>\n",
       "      <th>iday</th>\n",
       "      <th>extended</th>\n",
       "      <th>country</th>\n",
       "      <th>country_txt</th>\n",
       "      <th>region</th>\n",
       "      <th>region_txt</th>\n",
       "      <th>city</th>\n",
       "      <th>...</th>\n",
       "      <th>target1</th>\n",
       "      <th>natlty1</th>\n",
       "      <th>natlty1_txt</th>\n",
       "      <th>gname</th>\n",
       "      <th>motive</th>\n",
       "      <th>nperps</th>\n",
       "      <th>weaptype1</th>\n",
       "      <th>weaptype1_txt</th>\n",
       "      <th>nkill</th>\n",
       "      <th>propextent</th>\n",
       "    </tr>\n",
       "  </thead>\n",
       "  <tbody>\n",
       "    <tr>\n",
       "      <th>0</th>\n",
       "      <td>197000000001</td>\n",
       "      <td>1970</td>\n",
       "      <td>7</td>\n",
       "      <td>2</td>\n",
       "      <td>0</td>\n",
       "      <td>58</td>\n",
       "      <td>Dominican Republic</td>\n",
       "      <td>2</td>\n",
       "      <td>Central America &amp; Caribbean</td>\n",
       "      <td>Santo Domingo</td>\n",
       "      <td>...</td>\n",
       "      <td>Julio Guzman</td>\n",
       "      <td>58.0</td>\n",
       "      <td>Dominican Republic</td>\n",
       "      <td>MANO-D</td>\n",
       "      <td>Unknown</td>\n",
       "      <td>NaN</td>\n",
       "      <td>13</td>\n",
       "      <td>Unknown</td>\n",
       "      <td>1.0</td>\n",
       "      <td>NaN</td>\n",
       "    </tr>\n",
       "    <tr>\n",
       "      <th>1</th>\n",
       "      <td>197000000002</td>\n",
       "      <td>1970</td>\n",
       "      <td>0</td>\n",
       "      <td>0</td>\n",
       "      <td>0</td>\n",
       "      <td>130</td>\n",
       "      <td>Mexico</td>\n",
       "      <td>1</td>\n",
       "      <td>North America</td>\n",
       "      <td>Mexico city</td>\n",
       "      <td>...</td>\n",
       "      <td>Nadine Chaval, daughter</td>\n",
       "      <td>21.0</td>\n",
       "      <td>Belgium</td>\n",
       "      <td>23rd of September Communist League</td>\n",
       "      <td>Unknown</td>\n",
       "      <td>7.0</td>\n",
       "      <td>13</td>\n",
       "      <td>Unknown</td>\n",
       "      <td>0.0</td>\n",
       "      <td>NaN</td>\n",
       "    </tr>\n",
       "    <tr>\n",
       "      <th>2</th>\n",
       "      <td>197001000001</td>\n",
       "      <td>1970</td>\n",
       "      <td>1</td>\n",
       "      <td>0</td>\n",
       "      <td>0</td>\n",
       "      <td>160</td>\n",
       "      <td>Philippines</td>\n",
       "      <td>5</td>\n",
       "      <td>Southeast Asia</td>\n",
       "      <td>Unknown</td>\n",
       "      <td>...</td>\n",
       "      <td>Employee</td>\n",
       "      <td>217.0</td>\n",
       "      <td>United States</td>\n",
       "      <td>Unknown</td>\n",
       "      <td>Unknown</td>\n",
       "      <td>NaN</td>\n",
       "      <td>13</td>\n",
       "      <td>Unknown</td>\n",
       "      <td>1.0</td>\n",
       "      <td>NaN</td>\n",
       "    </tr>\n",
       "    <tr>\n",
       "      <th>3</th>\n",
       "      <td>197001000002</td>\n",
       "      <td>1970</td>\n",
       "      <td>1</td>\n",
       "      <td>0</td>\n",
       "      <td>0</td>\n",
       "      <td>78</td>\n",
       "      <td>Greece</td>\n",
       "      <td>8</td>\n",
       "      <td>Western Europe</td>\n",
       "      <td>Athens</td>\n",
       "      <td>...</td>\n",
       "      <td>U.S. Embassy</td>\n",
       "      <td>217.0</td>\n",
       "      <td>United States</td>\n",
       "      <td>Unknown</td>\n",
       "      <td>Unknown</td>\n",
       "      <td>NaN</td>\n",
       "      <td>6</td>\n",
       "      <td>Explosives</td>\n",
       "      <td>NaN</td>\n",
       "      <td>NaN</td>\n",
       "    </tr>\n",
       "    <tr>\n",
       "      <th>4</th>\n",
       "      <td>197001000003</td>\n",
       "      <td>1970</td>\n",
       "      <td>1</td>\n",
       "      <td>0</td>\n",
       "      <td>0</td>\n",
       "      <td>101</td>\n",
       "      <td>Japan</td>\n",
       "      <td>4</td>\n",
       "      <td>East Asia</td>\n",
       "      <td>Fukouka</td>\n",
       "      <td>...</td>\n",
       "      <td>U.S. Consulate</td>\n",
       "      <td>217.0</td>\n",
       "      <td>United States</td>\n",
       "      <td>Unknown</td>\n",
       "      <td>Unknown</td>\n",
       "      <td>NaN</td>\n",
       "      <td>8</td>\n",
       "      <td>Incendiary</td>\n",
       "      <td>NaN</td>\n",
       "      <td>NaN</td>\n",
       "    </tr>\n",
       "  </tbody>\n",
       "</table>\n",
       "<p>5 rows × 29 columns</p>\n",
       "</div>"
      ],
      "text/plain": [
       "        eventid  iyear  imonth  iday  extended  country         country_txt  \\\n",
       "0  197000000001   1970       7     2         0       58  Dominican Republic   \n",
       "1  197000000002   1970       0     0         0      130              Mexico   \n",
       "2  197001000001   1970       1     0         0      160         Philippines   \n",
       "3  197001000002   1970       1     0         0       78              Greece   \n",
       "4  197001000003   1970       1     0         0      101               Japan   \n",
       "\n",
       "   region                   region_txt           city  ...  \\\n",
       "0       2  Central America & Caribbean  Santo Domingo  ...   \n",
       "1       1                North America    Mexico city  ...   \n",
       "2       5               Southeast Asia        Unknown  ...   \n",
       "3       8               Western Europe         Athens  ...   \n",
       "4       4                    East Asia        Fukouka  ...   \n",
       "\n",
       "                   target1  natlty1         natlty1_txt  \\\n",
       "0             Julio Guzman     58.0  Dominican Republic   \n",
       "1  Nadine Chaval, daughter     21.0             Belgium   \n",
       "2                 Employee    217.0       United States   \n",
       "3             U.S. Embassy    217.0       United States   \n",
       "4           U.S. Consulate    217.0       United States   \n",
       "\n",
       "                                gname   motive nperps weaptype1 weaptype1_txt  \\\n",
       "0                              MANO-D  Unknown    NaN        13       Unknown   \n",
       "1  23rd of September Communist League  Unknown    7.0        13       Unknown   \n",
       "2                             Unknown  Unknown    NaN        13       Unknown   \n",
       "3                             Unknown  Unknown    NaN         6    Explosives   \n",
       "4                             Unknown  Unknown    NaN         8    Incendiary   \n",
       "\n",
       "  nkill propextent  \n",
       "0   1.0        NaN  \n",
       "1   0.0        NaN  \n",
       "2   1.0        NaN  \n",
       "3   NaN        NaN  \n",
       "4   NaN        NaN  \n",
       "\n",
       "[5 rows x 29 columns]"
      ]
     },
     "execution_count": 250,
     "metadata": {},
     "output_type": "execute_result"
    }
   ],
   "source": [
    "data.head()"
   ]
  },
  {
   "cell_type": "code",
   "execution_count": 251,
   "metadata": {},
   "outputs": [
    {
     "data": {
      "text/plain": [
       "<matplotlib.axes._subplots.AxesSubplot at 0x1f9803efc40>"
      ]
     },
     "execution_count": 251,
     "metadata": {},
     "output_type": "execute_result"
    },
    {
     "data": {
      "image/png": "[encoded data removed]",
      "text/plain": [
       "<Figure size 720x504 with 2 Axes>"
      ]
     },
     "metadata": {
      "needs_background": "light"
     },
     "output_type": "display_data"
    }
   ],
   "source": [
    "plt.figure(figsize=(10,7))\n",
    "sns.heatmap(data.corr(),annot=True, cmap='BuGn',fmt='.2f')"
   ]
  },
  {
   "cell_type": "code",
   "execution_count": 252,
   "metadata": {},
   "outputs": [
    {
     "data": {
      "text/plain": [
       "Index(['eventid', 'iyear', 'imonth', 'iday', 'extended', 'country',\n",
       "       'country_txt', 'region', 'region_txt', 'city', 'provstate', 'latitude',\n",
       "       'longitude', 'success', 'suicide', 'attacktype1_txt', 'targtype1_txt',\n",
       "       'targsubtype1_txt', 'corp1', 'target1', 'natlty1', 'natlty1_txt',\n",
       "       'gname', 'motive', 'nperps', 'weaptype1', 'weaptype1_txt', 'nkill',\n",
       "       'propextent'],\n",
       "      dtype='object')"
      ]
     },
     "execution_count": 252,
     "metadata": {},
     "output_type": "execute_result"
    }
   ],
   "source": [
    "data.columns"
   ]
  },
  {
   "cell_type": "code",
   "execution_count": 253,
   "metadata": {},
   "outputs": [],
   "source": [
    "data = data.drop('eventid',axis=1)"
   ]
  },
  {
   "cell_type": "code",
   "execution_count": null,
   "metadata": {},
   "outputs": [],
   "source": []
  },
  {
   "cell_type": "code",
   "execution_count": 254,
   "metadata": {},
   "outputs": [
    {
     "data": {
      "text/plain": [
       "<matplotlib.axes._subplots.AxesSubplot at 0x1f971d40c40>"
      ]
     },
     "execution_count": 254,
     "metadata": {},
     "output_type": "execute_result"
    },
    {
     "data": {
      "image/png": "[encoded data removed]",
      "text/plain": [
       "<Figure size 720x504 with 2 Axes>"
      ]
     },
     "metadata": {
      "needs_background": "light"
     },
     "output_type": "display_data"
    }
   ],
   "source": [
    "plt.figure(figsize=(10,7))\n",
    "sns.heatmap(data.corr(),annot=True, cmap='BuGn',fmt='.2f')"
   ]
  },
  {
   "cell_type": "code",
   "execution_count": 255,
   "metadata": {
    "scrolled": true
   },
   "outputs": [
    {
     "data": {
      "text/plain": [
       "{'eventid': 'Unique id for each event',\n",
       " 'iyear': 'Year of incident',\n",
       " 'imonth': 'Month of incident',\n",
       " 'iday': 'Numeric day on which the incident occurred.',\n",
       " 'extended': 'Yes/No for for whether the incedent extended for more than 24 hours.',\n",
       " 'country': 'Country code',\n",
       " 'country_txt': 'Country where the incident took place',\n",
       " 'region ': 'Region code based on 12 regions.',\n",
       " 'region_txt': 'Region in which the incident occurred',\n",
       " 'city': 'Name of the city/village/town in which the incident took place.',\n",
       " 'provstate': 'Name of the first order subnational region during the time of the event',\n",
       " 'latitude': 'Coordinate',\n",
       " 'longitude': 'Coordinate',\n",
       " 'location': '*Exact* location where the incident took place',\n",
       " 'summary': 'synopsis',\n",
       " 'success': 'Yes/No for the success of the terrorist strike',\n",
       " 'suicide': 'Yes/No for whether the attack was a suicide attack',\n",
       " 'attacktype1_txt': 'The general method of attack/ the tactics used.',\n",
       " 'targettype1_txt': 'The general category of victim of the attack.',\n",
       " 'targetsubtype1_txt': 'More specific target category.',\n",
       " 'corp1': 'Victim corporation.',\n",
       " 'target1': 'The specific person, building, instasllation that was targeted/ victimized.',\n",
       " 'natlty1 ': 'Nationality code of the target that was attacked.',\n",
       " 'natlty1_txt': 'Nationality of the target that was attacked.',\n",
       " 'gname': 'Name of the group that carried out the attack.',\n",
       " 'motive': 'Motive of the attack.',\n",
       " 'npreps': 'Total number of terrorists that carried out the attack.',\n",
       " 'weaptype1': 'Weapon code.',\n",
       " 'weaptype1_txt': 'General type of the weapon used in the incident.',\n",
       " 'nkill': 'Total number of confirmed kills in the incident.',\n",
       " 'propextent': 'Extent to which the property was lost due to the incident. 2 = Major i.e. greater that 1 million and less than 1 billion, 3 = Minor i.e. less that 1 million, '}"
      ]
     },
     "execution_count": 255,
     "metadata": {},
     "output_type": "execute_result"
    }
   ],
   "source": [
    "meta_data"
   ]
  },
  {
   "cell_type": "code",
   "execution_count": 256,
   "metadata": {},
   "outputs": [
    {
     "data": {
      "text/html": [
       "<div>\n",
       "<style scoped>\n",
       "    .dataframe tbody tr th:only-of-type {\n",
       "        vertical-align: middle;\n",
       "    }\n",
       "\n",
       "    .dataframe tbody tr th {\n",
       "        vertical-align: top;\n",
       "    }\n",
       "\n",
       "    .dataframe thead th {\n",
       "        text-align: right;\n",
       "    }\n",
       "</style>\n",
       "<table border=\"1\" class=\"dataframe\">\n",
       "  <thead>\n",
       "    <tr style=\"text-align: right;\">\n",
       "      <th></th>\n",
       "      <th>iyear</th>\n",
       "      <th>imonth</th>\n",
       "      <th>iday</th>\n",
       "      <th>extended</th>\n",
       "      <th>country</th>\n",
       "      <th>country_txt</th>\n",
       "      <th>region</th>\n",
       "      <th>region_txt</th>\n",
       "      <th>city</th>\n",
       "      <th>provstate</th>\n",
       "      <th>...</th>\n",
       "      <th>target1</th>\n",
       "      <th>natlty1</th>\n",
       "      <th>natlty1_txt</th>\n",
       "      <th>gname</th>\n",
       "      <th>motive</th>\n",
       "      <th>nperps</th>\n",
       "      <th>weaptype1</th>\n",
       "      <th>weaptype1_txt</th>\n",
       "      <th>nkill</th>\n",
       "      <th>propextent</th>\n",
       "    </tr>\n",
       "  </thead>\n",
       "  <tbody>\n",
       "    <tr>\n",
       "      <th>0</th>\n",
       "      <td>1970</td>\n",
       "      <td>7</td>\n",
       "      <td>2</td>\n",
       "      <td>0</td>\n",
       "      <td>58</td>\n",
       "      <td>Dominican Republic</td>\n",
       "      <td>2</td>\n",
       "      <td>Central America &amp; Caribbean</td>\n",
       "      <td>Santo Domingo</td>\n",
       "      <td>Unknown</td>\n",
       "      <td>...</td>\n",
       "      <td>Julio Guzman</td>\n",
       "      <td>58.0</td>\n",
       "      <td>Dominican Republic</td>\n",
       "      <td>MANO-D</td>\n",
       "      <td>Unknown</td>\n",
       "      <td>NaN</td>\n",
       "      <td>13</td>\n",
       "      <td>Unknown</td>\n",
       "      <td>1.0</td>\n",
       "      <td>NaN</td>\n",
       "    </tr>\n",
       "    <tr>\n",
       "      <th>1</th>\n",
       "      <td>1970</td>\n",
       "      <td>0</td>\n",
       "      <td>0</td>\n",
       "      <td>0</td>\n",
       "      <td>130</td>\n",
       "      <td>Mexico</td>\n",
       "      <td>1</td>\n",
       "      <td>North America</td>\n",
       "      <td>Mexico city</td>\n",
       "      <td>Federal</td>\n",
       "      <td>...</td>\n",
       "      <td>Nadine Chaval, daughter</td>\n",
       "      <td>21.0</td>\n",
       "      <td>Belgium</td>\n",
       "      <td>23rd of September Communist League</td>\n",
       "      <td>Unknown</td>\n",
       "      <td>7.0</td>\n",
       "      <td>13</td>\n",
       "      <td>Unknown</td>\n",
       "      <td>0.0</td>\n",
       "      <td>NaN</td>\n",
       "    </tr>\n",
       "    <tr>\n",
       "      <th>2</th>\n",
       "      <td>1970</td>\n",
       "      <td>1</td>\n",
       "      <td>0</td>\n",
       "      <td>0</td>\n",
       "      <td>160</td>\n",
       "      <td>Philippines</td>\n",
       "      <td>5</td>\n",
       "      <td>Southeast Asia</td>\n",
       "      <td>Unknown</td>\n",
       "      <td>Tarlac</td>\n",
       "      <td>...</td>\n",
       "      <td>Employee</td>\n",
       "      <td>217.0</td>\n",
       "      <td>United States</td>\n",
       "      <td>Unknown</td>\n",
       "      <td>Unknown</td>\n",
       "      <td>NaN</td>\n",
       "      <td>13</td>\n",
       "      <td>Unknown</td>\n",
       "      <td>1.0</td>\n",
       "      <td>NaN</td>\n",
       "    </tr>\n",
       "    <tr>\n",
       "      <th>3</th>\n",
       "      <td>1970</td>\n",
       "      <td>1</td>\n",
       "      <td>0</td>\n",
       "      <td>0</td>\n",
       "      <td>78</td>\n",
       "      <td>Greece</td>\n",
       "      <td>8</td>\n",
       "      <td>Western Europe</td>\n",
       "      <td>Athens</td>\n",
       "      <td>Attica</td>\n",
       "      <td>...</td>\n",
       "      <td>U.S. Embassy</td>\n",
       "      <td>217.0</td>\n",
       "      <td>United States</td>\n",
       "      <td>Unknown</td>\n",
       "      <td>Unknown</td>\n",
       "      <td>NaN</td>\n",
       "      <td>6</td>\n",
       "      <td>Explosives</td>\n",
       "      <td>NaN</td>\n",
       "      <td>NaN</td>\n",
       "    </tr>\n",
       "  </tbody>\n",
       "</table>\n",
       "<p>4 rows × 28 columns</p>\n",
       "</div>"
      ],
      "text/plain": [
       "   iyear  imonth  iday  extended  country         country_txt  region  \\\n",
       "0   1970       7     2         0       58  Dominican Republic       2   \n",
       "1   1970       0     0         0      130              Mexico       1   \n",
       "2   1970       1     0         0      160         Philippines       5   \n",
       "3   1970       1     0         0       78              Greece       8   \n",
       "\n",
       "                    region_txt           city provstate  ...  \\\n",
       "0  Central America & Caribbean  Santo Domingo   Unknown  ...   \n",
       "1                North America    Mexico city   Federal  ...   \n",
       "2               Southeast Asia        Unknown    Tarlac  ...   \n",
       "3               Western Europe         Athens    Attica  ...   \n",
       "\n",
       "                   target1  natlty1         natlty1_txt  \\\n",
       "0             Julio Guzman     58.0  Dominican Republic   \n",
       "1  Nadine Chaval, daughter     21.0             Belgium   \n",
       "2                 Employee    217.0       United States   \n",
       "3             U.S. Embassy    217.0       United States   \n",
       "\n",
       "                                gname   motive nperps weaptype1 weaptype1_txt  \\\n",
       "0                              MANO-D  Unknown    NaN        13       Unknown   \n",
       "1  23rd of September Communist League  Unknown    7.0        13       Unknown   \n",
       "2                             Unknown  Unknown    NaN        13       Unknown   \n",
       "3                             Unknown  Unknown    NaN         6    Explosives   \n",
       "\n",
       "  nkill  propextent  \n",
       "0   1.0         NaN  \n",
       "1   0.0         NaN  \n",
       "2   1.0         NaN  \n",
       "3   NaN         NaN  \n",
       "\n",
       "[4 rows x 28 columns]"
      ]
     },
     "execution_count": 256,
     "metadata": {},
     "output_type": "execute_result"
    }
   ],
   "source": [
    "data.head(4)"
   ]
  },
  {
   "cell_type": "code",
   "execution_count": 257,
   "metadata": {},
   "outputs": [
    {
     "data": {
      "text/plain": [
       "Index(['iyear', 'imonth', 'iday', 'extended', 'country', 'country_txt',\n",
       "       'region', 'region_txt', 'city', 'provstate', 'latitude', 'longitude',\n",
       "       'success', 'suicide', 'attacktype1_txt', 'targtype1_txt',\n",
       "       'targsubtype1_txt', 'corp1', 'target1', 'natlty1', 'natlty1_txt',\n",
       "       'gname', 'motive', 'nperps', 'weaptype1', 'weaptype1_txt', 'nkill',\n",
       "       'propextent'],\n",
       "      dtype='object')"
      ]
     },
     "execution_count": 257,
     "metadata": {},
     "output_type": "execute_result"
    }
   ],
   "source": [
    "data.columns"
   ]
  },
  {
   "cell_type": "code",
   "execution_count": 258,
   "metadata": {},
   "outputs": [],
   "source": [
    "delcols = ['longitude','latitude','country_txt',\n",
    "           'region_txt','city','provstate','natlty1_txt'\n",
    "            ,'weaptype1_txt','propextent',\n",
    "           'attacktype1_txt','targsubtype1_txt','corp1']"
   ]
  },
  {
   "cell_type": "code",
   "execution_count": 259,
   "metadata": {},
   "outputs": [],
   "source": [
    "df = data.drop(delcols, axis=1)"
   ]
  },
  {
   "cell_type": "markdown",
   "metadata": {},
   "source": [
    "### Terrorist Organisations \n",
    "***\n",
    "This predictive modeling can only be achieved when the data is in context of only ***one*** **Gname/Organisation**, so the following procedure is a trail to determine whether a network could generalise well enough in context of one Gname "
   ]
  },
  {
   "cell_type": "code",
   "execution_count": 260,
   "metadata": {
    "scrolled": true
   },
   "outputs": [
    {
     "data": {
      "text/plain": [
       "gname\n",
       "Unknown                                                       71748\n",
       "Taliban                                                        6680\n",
       "Islamic State of Iraq and the Levant (ISIL)                    4759\n",
       "Shining Path (SL)                                              4337\n",
       "Farabundo Marti National Liberation Front (FMLN)               3317\n",
       "                                                              ...  \n",
       "Temple Mount Faithful Movement                                    0\n",
       "Militant Welsh                                                    0\n",
       "All Karanataka Youth Council                                      0\n",
       "Janatantrik Terai Madhes Mukti Party- Bhagat Singh (JTMMP)        0\n",
       "GP II                                                             0\n",
       "Name: success, Length: 3537, dtype: int64"
      ]
     },
     "execution_count": 260,
     "metadata": {},
     "output_type": "execute_result"
    }
   ],
   "source": [
    "df.groupby('gname')['success'].sum().sort_values(ascending=False)"
   ]
  },
  {
   "cell_type": "markdown",
   "metadata": {},
   "source": [
    "#### *Taliban "
   ]
  },
  {
   "cell_type": "code",
   "execution_count": 261,
   "metadata": {},
   "outputs": [],
   "source": [
    "taliban = df[df['gname'] == 'Taliban']"
   ]
  },
  {
   "cell_type": "code",
   "execution_count": 262,
   "metadata": {},
   "outputs": [
    {
     "data": {
      "text/plain": [
       "(7478, 16)"
      ]
     },
     "execution_count": 262,
     "metadata": {},
     "output_type": "execute_result"
    }
   ],
   "source": [
    "taliban.shape"
   ]
  },
  {
   "cell_type": "code",
   "execution_count": 263,
   "metadata": {},
   "outputs": [
    {
     "data": {
      "text/html": [
       "<div>\n",
       "<style scoped>\n",
       "    .dataframe tbody tr th:only-of-type {\n",
       "        vertical-align: middle;\n",
       "    }\n",
       "\n",
       "    .dataframe tbody tr th {\n",
       "        vertical-align: top;\n",
       "    }\n",
       "\n",
       "    .dataframe thead th {\n",
       "        text-align: right;\n",
       "    }\n",
       "</style>\n",
       "<table border=\"1\" class=\"dataframe\">\n",
       "  <thead>\n",
       "    <tr style=\"text-align: right;\">\n",
       "      <th></th>\n",
       "      <th>iyear</th>\n",
       "      <th>imonth</th>\n",
       "      <th>iday</th>\n",
       "      <th>extended</th>\n",
       "      <th>country</th>\n",
       "      <th>region</th>\n",
       "      <th>success</th>\n",
       "      <th>suicide</th>\n",
       "      <th>targtype1_txt</th>\n",
       "      <th>target1</th>\n",
       "      <th>natlty1</th>\n",
       "      <th>gname</th>\n",
       "      <th>motive</th>\n",
       "      <th>nperps</th>\n",
       "      <th>weaptype1</th>\n",
       "      <th>nkill</th>\n",
       "    </tr>\n",
       "  </thead>\n",
       "  <tbody>\n",
       "    <tr>\n",
       "      <th>59040</th>\n",
       "      <td>1995</td>\n",
       "      <td>4</td>\n",
       "      <td>20</td>\n",
       "      <td>1</td>\n",
       "      <td>4</td>\n",
       "      <td>6</td>\n",
       "      <td>1</td>\n",
       "      <td>0</td>\n",
       "      <td>Police</td>\n",
       "      <td>Federal Investigation Agency</td>\n",
       "      <td>153.0</td>\n",
       "      <td>Taliban</td>\n",
       "      <td>Unknown</td>\n",
       "      <td>NaN</td>\n",
       "      <td>13</td>\n",
       "      <td>0.0</td>\n",
       "    </tr>\n",
       "    <tr>\n",
       "      <th>60014</th>\n",
       "      <td>1995</td>\n",
       "      <td>8</td>\n",
       "      <td>3</td>\n",
       "      <td>0</td>\n",
       "      <td>4</td>\n",
       "      <td>6</td>\n",
       "      <td>1</td>\n",
       "      <td>0</td>\n",
       "      <td>Airports &amp; Aircraft</td>\n",
       "      <td>Russian Il-76 Cargo Aircraft</td>\n",
       "      <td>167.0</td>\n",
       "      <td>Taliban</td>\n",
       "      <td>Unknown</td>\n",
       "      <td>NaN</td>\n",
       "      <td>6</td>\n",
       "      <td>0.0</td>\n",
       "    </tr>\n",
       "    <tr>\n",
       "      <th>60462</th>\n",
       "      <td>1995</td>\n",
       "      <td>9</td>\n",
       "      <td>21</td>\n",
       "      <td>1</td>\n",
       "      <td>4</td>\n",
       "      <td>6</td>\n",
       "      <td>1</td>\n",
       "      <td>0</td>\n",
       "      <td>Airports &amp; Aircraft</td>\n",
       "      <td>Boeing 727</td>\n",
       "      <td>4.0</td>\n",
       "      <td>Taliban</td>\n",
       "      <td>Unknown</td>\n",
       "      <td>NaN</td>\n",
       "      <td>6</td>\n",
       "      <td>0.0</td>\n",
       "    </tr>\n",
       "    <tr>\n",
       "      <th>60786</th>\n",
       "      <td>1995</td>\n",
       "      <td>10</td>\n",
       "      <td>25</td>\n",
       "      <td>0</td>\n",
       "      <td>4</td>\n",
       "      <td>6</td>\n",
       "      <td>0</td>\n",
       "      <td>0</td>\n",
       "      <td>Airports &amp; Aircraft</td>\n",
       "      <td>ICRC- Chartered Aircraft</td>\n",
       "      <td>199.0</td>\n",
       "      <td>Taliban</td>\n",
       "      <td>Unknown</td>\n",
       "      <td>NaN</td>\n",
       "      <td>6</td>\n",
       "      <td>0.0</td>\n",
       "    </tr>\n",
       "    <tr>\n",
       "      <th>71682</th>\n",
       "      <td>2001</td>\n",
       "      <td>1</td>\n",
       "      <td>7</td>\n",
       "      <td>1</td>\n",
       "      <td>4</td>\n",
       "      <td>6</td>\n",
       "      <td>1</td>\n",
       "      <td>0</td>\n",
       "      <td>Private Citizens &amp; Property</td>\n",
       "      <td>Civilians living in the vicinity of Yakawlang</td>\n",
       "      <td>4.0</td>\n",
       "      <td>Taliban</td>\n",
       "      <td>Specific motive is unknown; however, survivors...</td>\n",
       "      <td>-99.0</td>\n",
       "      <td>5</td>\n",
       "      <td>150.0</td>\n",
       "    </tr>\n",
       "    <tr>\n",
       "      <th>...</th>\n",
       "      <td>...</td>\n",
       "      <td>...</td>\n",
       "      <td>...</td>\n",
       "      <td>...</td>\n",
       "      <td>...</td>\n",
       "      <td>...</td>\n",
       "      <td>...</td>\n",
       "      <td>...</td>\n",
       "      <td>...</td>\n",
       "      <td>...</td>\n",
       "      <td>...</td>\n",
       "      <td>...</td>\n",
       "      <td>...</td>\n",
       "      <td>...</td>\n",
       "      <td>...</td>\n",
       "      <td>...</td>\n",
       "    </tr>\n",
       "    <tr>\n",
       "      <th>181600</th>\n",
       "      <td>2017</td>\n",
       "      <td>12</td>\n",
       "      <td>28</td>\n",
       "      <td>0</td>\n",
       "      <td>4</td>\n",
       "      <td>6</td>\n",
       "      <td>1</td>\n",
       "      <td>0</td>\n",
       "      <td>Police</td>\n",
       "      <td>Fifth Brigade Officers</td>\n",
       "      <td>4.0</td>\n",
       "      <td>Taliban</td>\n",
       "      <td>Unknown</td>\n",
       "      <td>-99.0</td>\n",
       "      <td>13</td>\n",
       "      <td>4.0</td>\n",
       "    </tr>\n",
       "    <tr>\n",
       "      <th>181619</th>\n",
       "      <td>2017</td>\n",
       "      <td>12</td>\n",
       "      <td>28</td>\n",
       "      <td>0</td>\n",
       "      <td>4</td>\n",
       "      <td>6</td>\n",
       "      <td>1</td>\n",
       "      <td>0</td>\n",
       "      <td>Police</td>\n",
       "      <td>Police Checkpoint</td>\n",
       "      <td>4.0</td>\n",
       "      <td>Taliban</td>\n",
       "      <td>Unknown</td>\n",
       "      <td>-99.0</td>\n",
       "      <td>13</td>\n",
       "      <td>3.0</td>\n",
       "    </tr>\n",
       "    <tr>\n",
       "      <th>181651</th>\n",
       "      <td>2017</td>\n",
       "      <td>12</td>\n",
       "      <td>30</td>\n",
       "      <td>0</td>\n",
       "      <td>4</td>\n",
       "      <td>6</td>\n",
       "      <td>1</td>\n",
       "      <td>0</td>\n",
       "      <td>Military</td>\n",
       "      <td>Checkpoints</td>\n",
       "      <td>4.0</td>\n",
       "      <td>Taliban</td>\n",
       "      <td>Unknown</td>\n",
       "      <td>-99.0</td>\n",
       "      <td>13</td>\n",
       "      <td>11.0</td>\n",
       "    </tr>\n",
       "    <tr>\n",
       "      <th>181676</th>\n",
       "      <td>2017</td>\n",
       "      <td>12</td>\n",
       "      <td>31</td>\n",
       "      <td>0</td>\n",
       "      <td>4</td>\n",
       "      <td>6</td>\n",
       "      <td>1</td>\n",
       "      <td>0</td>\n",
       "      <td>Police</td>\n",
       "      <td>Vehicle</td>\n",
       "      <td>4.0</td>\n",
       "      <td>Taliban</td>\n",
       "      <td>Unknown</td>\n",
       "      <td>-99.0</td>\n",
       "      <td>6</td>\n",
       "      <td>5.0</td>\n",
       "    </tr>\n",
       "    <tr>\n",
       "      <th>181683</th>\n",
       "      <td>2017</td>\n",
       "      <td>12</td>\n",
       "      <td>31</td>\n",
       "      <td>0</td>\n",
       "      <td>4</td>\n",
       "      <td>6</td>\n",
       "      <td>1</td>\n",
       "      <td>0</td>\n",
       "      <td>Terrorists/Non-State Militia</td>\n",
       "      <td>House of Member</td>\n",
       "      <td>4.0</td>\n",
       "      <td>Taliban</td>\n",
       "      <td>The specific motive is unknown; however, sourc...</td>\n",
       "      <td>-99.0</td>\n",
       "      <td>5</td>\n",
       "      <td>6.0</td>\n",
       "    </tr>\n",
       "  </tbody>\n",
       "</table>\n",
       "<p>7478 rows × 16 columns</p>\n",
       "</div>"
      ],
      "text/plain": [
       "        iyear  imonth  iday  extended  country  region  success  suicide  \\\n",
       "59040    1995       4    20         1        4       6        1        0   \n",
       "60014    1995       8     3         0        4       6        1        0   \n",
       "60462    1995       9    21         1        4       6        1        0   \n",
       "60786    1995      10    25         0        4       6        0        0   \n",
       "71682    2001       1     7         1        4       6        1        0   \n",
       "...       ...     ...   ...       ...      ...     ...      ...      ...   \n",
       "181600   2017      12    28         0        4       6        1        0   \n",
       "181619   2017      12    28         0        4       6        1        0   \n",
       "181651   2017      12    30         0        4       6        1        0   \n",
       "181676   2017      12    31         0        4       6        1        0   \n",
       "181683   2017      12    31         0        4       6        1        0   \n",
       "\n",
       "                       targtype1_txt  \\\n",
       "59040                         Police   \n",
       "60014            Airports & Aircraft   \n",
       "60462            Airports & Aircraft   \n",
       "60786            Airports & Aircraft   \n",
       "71682    Private Citizens & Property   \n",
       "...                              ...   \n",
       "181600                        Police   \n",
       "181619                        Police   \n",
       "181651                      Military   \n",
       "181676                        Police   \n",
       "181683  Terrorists/Non-State Militia   \n",
       "\n",
       "                                              target1  natlty1    gname  \\\n",
       "59040                    Federal Investigation Agency    153.0  Taliban   \n",
       "60014                    Russian Il-76 Cargo Aircraft    167.0  Taliban   \n",
       "60462                                      Boeing 727      4.0  Taliban   \n",
       "60786                        ICRC- Chartered Aircraft    199.0  Taliban   \n",
       "71682   Civilians living in the vicinity of Yakawlang      4.0  Taliban   \n",
       "...                                               ...      ...      ...   \n",
       "181600                         Fifth Brigade Officers      4.0  Taliban   \n",
       "181619                              Police Checkpoint      4.0  Taliban   \n",
       "181651                                    Checkpoints      4.0  Taliban   \n",
       "181676                                        Vehicle      4.0  Taliban   \n",
       "181683                                House of Member      4.0  Taliban   \n",
       "\n",
       "                                                   motive  nperps  weaptype1  \\\n",
       "59040                                             Unknown     NaN         13   \n",
       "60014                                             Unknown     NaN          6   \n",
       "60462                                             Unknown     NaN          6   \n",
       "60786                                             Unknown     NaN          6   \n",
       "71682   Specific motive is unknown; however, survivors...   -99.0          5   \n",
       "...                                                   ...     ...        ...   \n",
       "181600                                            Unknown   -99.0         13   \n",
       "181619                                            Unknown   -99.0         13   \n",
       "181651                                            Unknown   -99.0         13   \n",
       "181676                                            Unknown   -99.0          6   \n",
       "181683  The specific motive is unknown; however, sourc...   -99.0          5   \n",
       "\n",
       "        nkill  \n",
       "59040     0.0  \n",
       "60014     0.0  \n",
       "60462     0.0  \n",
       "60786     0.0  \n",
       "71682   150.0  \n",
       "...       ...  \n",
       "181600    4.0  \n",
       "181619    3.0  \n",
       "181651   11.0  \n",
       "181676    5.0  \n",
       "181683    6.0  \n",
       "\n",
       "[7478 rows x 16 columns]"
      ]
     },
     "execution_count": 263,
     "metadata": {},
     "output_type": "execute_result"
    }
   ],
   "source": [
    "taliban"
   ]
  },
  {
   "cell_type": "code",
   "execution_count": 264,
   "metadata": {},
   "outputs": [
    {
     "data": {
      "text/plain": [
       "<matplotlib.axes._subplots.AxesSubplot at 0x1f976863040>"
      ]
     },
     "execution_count": 264,
     "metadata": {},
     "output_type": "execute_result"
    },
    {
     "data": {
      "image/png": "[encoded data removed]",
      "text/plain": [
       "<Figure size 720x504 with 2 Axes>"
      ]
     },
     "metadata": {
      "needs_background": "light"
     },
     "output_type": "display_data"
    }
   ],
   "source": [
    "plt.figure(figsize=(10,7))\n",
    "sns.heatmap(taliban.corr(), annot=True, fmt='.2f')"
   ]
  },
  {
   "cell_type": "code",
   "execution_count": 265,
   "metadata": {},
   "outputs": [],
   "source": [
    "taliban = taliban.drop('target1',axis=1)"
   ]
  },
  {
   "cell_type": "code",
   "execution_count": 266,
   "metadata": {},
   "outputs": [],
   "source": [
    "from sklearn.preprocessing import LabelEncoder"
   ]
  },
  {
   "cell_type": "code",
   "execution_count": 267,
   "metadata": {},
   "outputs": [],
   "source": [
    "label_encode = LabelEncoder()"
   ]
  },
  {
   "cell_type": "code",
   "execution_count": 268,
   "metadata": {},
   "outputs": [],
   "source": [
    "x = label_encode.fit_transform(taliban['targtype1_txt'])"
   ]
  },
  {
   "cell_type": "code",
   "execution_count": 269,
   "metadata": {
    "scrolled": true
   },
   "outputs": [
    {
     "data": {
      "text/plain": [
       "iyear              0\n",
       "imonth             0\n",
       "iday               0\n",
       "extended           0\n",
       "country            0\n",
       "region             0\n",
       "success            0\n",
       "suicide            0\n",
       "targtype1_txt      0\n",
       "natlty1          234\n",
       "gname              0\n",
       "motive             0\n",
       "nperps           545\n",
       "weaptype1          0\n",
       "nkill            278\n",
       "dtype: int64"
      ]
     },
     "execution_count": 269,
     "metadata": {},
     "output_type": "execute_result"
    }
   ],
   "source": [
    "taliban.isna().sum()"
   ]
  },
  {
   "cell_type": "code",
   "execution_count": 270,
   "metadata": {},
   "outputs": [
    {
     "data": {
      "text/plain": [
       "59040                                               Unknown\n",
       "60014                                               Unknown\n",
       "60462                                               Unknown\n",
       "60786                                               Unknown\n",
       "71682     Specific motive is unknown; however, survivors...\n",
       "                                ...                        \n",
       "181600                                              Unknown\n",
       "181619                                              Unknown\n",
       "181651                                              Unknown\n",
       "181676                                              Unknown\n",
       "181683    The specific motive is unknown; however, sourc...\n",
       "Name: motive, Length: 7478, dtype: object"
      ]
     },
     "execution_count": 270,
     "metadata": {},
     "output_type": "execute_result"
    }
   ],
   "source": [
    "taliban['motive']"
   ]
  },
  {
   "cell_type": "code",
   "execution_count": 271,
   "metadata": {},
   "outputs": [],
   "source": [
    "# del motive, "
   ]
  },
  {
   "cell_type": "code",
   "execution_count": 272,
   "metadata": {},
   "outputs": [],
   "source": [
    "taliban = taliban.drop('motive',axis=1)"
   ]
  },
  {
   "cell_type": "code",
   "execution_count": 273,
   "metadata": {},
   "outputs": [
    {
     "name": "stdout",
     "output_type": "stream",
     "text": [
      "Year of incident\n",
      "Month of incident\n",
      "Numeric day on which the incident occurred.\n",
      "Yes/No for for whether the incedent extended for more than 24 hours.\n",
      "Country code\n",
      "Yes/No for the success of the terrorist strike\n",
      "Yes/No for whether the attack was a suicide attack\n",
      "Name of the group that carried out the attack.\n",
      "Weapon code.\n",
      "Total number of confirmed kills in the incident.\n"
     ]
    }
   ],
   "source": [
    "for col in taliban.columns:\n",
    "    try:\n",
    "        print(meta_data[col])\n",
    "    except:\n",
    "        pass"
   ]
  },
  {
   "cell_type": "code",
   "execution_count": 274,
   "metadata": {},
   "outputs": [],
   "source": [
    "taliban['targtype1_txt'] = label_encode.fit_transform(taliban['targtype1_txt'])"
   ]
  },
  {
   "cell_type": "code",
   "execution_count": 275,
   "metadata": {},
   "outputs": [],
   "source": [
    "taliban = taliban.drop('gname',axis=1)"
   ]
  },
  {
   "cell_type": "code",
   "execution_count": 276,
   "metadata": {},
   "outputs": [],
   "source": [
    "# Train and Validation sets on for Taliban "
   ]
  },
  {
   "cell_type": "code",
   "execution_count": 277,
   "metadata": {},
   "outputs": [
    {
     "data": {
      "text/html": [
       "<div>\n",
       "<style scoped>\n",
       "    .dataframe tbody tr th:only-of-type {\n",
       "        vertical-align: middle;\n",
       "    }\n",
       "\n",
       "    .dataframe tbody tr th {\n",
       "        vertical-align: top;\n",
       "    }\n",
       "\n",
       "    .dataframe thead th {\n",
       "        text-align: right;\n",
       "    }\n",
       "</style>\n",
       "<table border=\"1\" class=\"dataframe\">\n",
       "  <thead>\n",
       "    <tr style=\"text-align: right;\">\n",
       "      <th></th>\n",
       "      <th>iyear</th>\n",
       "      <th>imonth</th>\n",
       "      <th>iday</th>\n",
       "      <th>extended</th>\n",
       "      <th>country</th>\n",
       "      <th>region</th>\n",
       "      <th>success</th>\n",
       "      <th>suicide</th>\n",
       "      <th>targtype1_txt</th>\n",
       "      <th>natlty1</th>\n",
       "      <th>nperps</th>\n",
       "      <th>weaptype1</th>\n",
       "      <th>nkill</th>\n",
       "    </tr>\n",
       "  </thead>\n",
       "  <tbody>\n",
       "    <tr>\n",
       "      <th>59040</th>\n",
       "      <td>1995</td>\n",
       "      <td>4</td>\n",
       "      <td>20</td>\n",
       "      <td>1</td>\n",
       "      <td>4</td>\n",
       "      <td>6</td>\n",
       "      <td>1</td>\n",
       "      <td>0</td>\n",
       "      <td>10</td>\n",
       "      <td>153.0</td>\n",
       "      <td>NaN</td>\n",
       "      <td>13</td>\n",
       "      <td>0.0</td>\n",
       "    </tr>\n",
       "    <tr>\n",
       "      <th>60014</th>\n",
       "      <td>1995</td>\n",
       "      <td>8</td>\n",
       "      <td>3</td>\n",
       "      <td>0</td>\n",
       "      <td>4</td>\n",
       "      <td>6</td>\n",
       "      <td>1</td>\n",
       "      <td>0</td>\n",
       "      <td>0</td>\n",
       "      <td>167.0</td>\n",
       "      <td>NaN</td>\n",
       "      <td>6</td>\n",
       "      <td>0.0</td>\n",
       "    </tr>\n",
       "    <tr>\n",
       "      <th>60462</th>\n",
       "      <td>1995</td>\n",
       "      <td>9</td>\n",
       "      <td>21</td>\n",
       "      <td>1</td>\n",
       "      <td>4</td>\n",
       "      <td>6</td>\n",
       "      <td>1</td>\n",
       "      <td>0</td>\n",
       "      <td>0</td>\n",
       "      <td>4.0</td>\n",
       "      <td>NaN</td>\n",
       "      <td>6</td>\n",
       "      <td>0.0</td>\n",
       "    </tr>\n",
       "    <tr>\n",
       "      <th>60786</th>\n",
       "      <td>1995</td>\n",
       "      <td>10</td>\n",
       "      <td>25</td>\n",
       "      <td>0</td>\n",
       "      <td>4</td>\n",
       "      <td>6</td>\n",
       "      <td>0</td>\n",
       "      <td>0</td>\n",
       "      <td>0</td>\n",
       "      <td>199.0</td>\n",
       "      <td>NaN</td>\n",
       "      <td>6</td>\n",
       "      <td>0.0</td>\n",
       "    </tr>\n",
       "    <tr>\n",
       "      <th>71682</th>\n",
       "      <td>2001</td>\n",
       "      <td>1</td>\n",
       "      <td>7</td>\n",
       "      <td>1</td>\n",
       "      <td>4</td>\n",
       "      <td>6</td>\n",
       "      <td>1</td>\n",
       "      <td>0</td>\n",
       "      <td>11</td>\n",
       "      <td>4.0</td>\n",
       "      <td>-99.0</td>\n",
       "      <td>5</td>\n",
       "      <td>150.0</td>\n",
       "    </tr>\n",
       "  </tbody>\n",
       "</table>\n",
       "</div>"
      ],
      "text/plain": [
       "       iyear  imonth  iday  extended  country  region  success  suicide  \\\n",
       "59040   1995       4    20         1        4       6        1        0   \n",
       "60014   1995       8     3         0        4       6        1        0   \n",
       "60462   1995       9    21         1        4       6        1        0   \n",
       "60786   1995      10    25         0        4       6        0        0   \n",
       "71682   2001       1     7         1        4       6        1        0   \n",
       "\n",
       "       targtype1_txt  natlty1  nperps  weaptype1  nkill  \n",
       "59040             10    153.0     NaN         13    0.0  \n",
       "60014              0    167.0     NaN          6    0.0  \n",
       "60462              0      4.0     NaN          6    0.0  \n",
       "60786              0    199.0     NaN          6    0.0  \n",
       "71682             11      4.0   -99.0          5  150.0  "
      ]
     },
     "execution_count": 277,
     "metadata": {},
     "output_type": "execute_result"
    }
   ],
   "source": [
    "taliban.head()"
   ]
  },
  {
   "cell_type": "code",
   "execution_count": 278,
   "metadata": {},
   "outputs": [
    {
     "data": {
      "text/plain": [
       "iyear              0\n",
       "imonth             0\n",
       "iday               0\n",
       "extended           0\n",
       "country            0\n",
       "region             0\n",
       "success            0\n",
       "suicide            0\n",
       "targtype1_txt      0\n",
       "natlty1          234\n",
       "nperps           545\n",
       "weaptype1          0\n",
       "nkill            278\n",
       "dtype: int64"
      ]
     },
     "execution_count": 278,
     "metadata": {},
     "output_type": "execute_result"
    }
   ],
   "source": [
    "taliban.isna().sum()"
   ]
  },
  {
   "cell_type": "code",
   "execution_count": 279,
   "metadata": {},
   "outputs": [],
   "source": [
    "taliban = taliban.dropna()"
   ]
  },
  {
   "cell_type": "code",
   "execution_count": 280,
   "metadata": {},
   "outputs": [
    {
     "data": {
      "text/html": [
       "<div>\n",
       "<style scoped>\n",
       "    .dataframe tbody tr th:only-of-type {\n",
       "        vertical-align: middle;\n",
       "    }\n",
       "\n",
       "    .dataframe tbody tr th {\n",
       "        vertical-align: top;\n",
       "    }\n",
       "\n",
       "    .dataframe thead th {\n",
       "        text-align: right;\n",
       "    }\n",
       "</style>\n",
       "<table border=\"1\" class=\"dataframe\">\n",
       "  <thead>\n",
       "    <tr style=\"text-align: right;\">\n",
       "      <th></th>\n",
       "      <th>iyear</th>\n",
       "      <th>imonth</th>\n",
       "      <th>iday</th>\n",
       "      <th>extended</th>\n",
       "      <th>country</th>\n",
       "      <th>region</th>\n",
       "      <th>success</th>\n",
       "      <th>suicide</th>\n",
       "      <th>targtype1_txt</th>\n",
       "      <th>natlty1</th>\n",
       "      <th>nperps</th>\n",
       "      <th>weaptype1</th>\n",
       "      <th>nkill</th>\n",
       "    </tr>\n",
       "  </thead>\n",
       "  <tbody>\n",
       "    <tr>\n",
       "      <th>71682</th>\n",
       "      <td>2001</td>\n",
       "      <td>1</td>\n",
       "      <td>7</td>\n",
       "      <td>1</td>\n",
       "      <td>4</td>\n",
       "      <td>6</td>\n",
       "      <td>1</td>\n",
       "      <td>0</td>\n",
       "      <td>11</td>\n",
       "      <td>4.0</td>\n",
       "      <td>-99.0</td>\n",
       "      <td>5</td>\n",
       "      <td>150.0</td>\n",
       "    </tr>\n",
       "    <tr>\n",
       "      <th>73116</th>\n",
       "      <td>2001</td>\n",
       "      <td>9</td>\n",
       "      <td>10</td>\n",
       "      <td>0</td>\n",
       "      <td>4</td>\n",
       "      <td>6</td>\n",
       "      <td>1</td>\n",
       "      <td>1</td>\n",
       "      <td>5</td>\n",
       "      <td>4.0</td>\n",
       "      <td>2.0</td>\n",
       "      <td>6</td>\n",
       "      <td>3.0</td>\n",
       "    </tr>\n",
       "    <tr>\n",
       "      <th>73971</th>\n",
       "      <td>2002</td>\n",
       "      <td>4</td>\n",
       "      <td>13</td>\n",
       "      <td>0</td>\n",
       "      <td>4</td>\n",
       "      <td>6</td>\n",
       "      <td>0</td>\n",
       "      <td>0</td>\n",
       "      <td>7</td>\n",
       "      <td>217.0</td>\n",
       "      <td>20.0</td>\n",
       "      <td>5</td>\n",
       "      <td>5.0</td>\n",
       "    </tr>\n",
       "    <tr>\n",
       "      <th>74412</th>\n",
       "      <td>2002</td>\n",
       "      <td>8</td>\n",
       "      <td>0</td>\n",
       "      <td>0</td>\n",
       "      <td>4</td>\n",
       "      <td>6</td>\n",
       "      <td>1</td>\n",
       "      <td>0</td>\n",
       "      <td>2</td>\n",
       "      <td>4.0</td>\n",
       "      <td>-99.0</td>\n",
       "      <td>6</td>\n",
       "      <td>0.0</td>\n",
       "    </tr>\n",
       "    <tr>\n",
       "      <th>75185</th>\n",
       "      <td>2003</td>\n",
       "      <td>2</td>\n",
       "      <td>25</td>\n",
       "      <td>0</td>\n",
       "      <td>4</td>\n",
       "      <td>6</td>\n",
       "      <td>1</td>\n",
       "      <td>0</td>\n",
       "      <td>5</td>\n",
       "      <td>4.0</td>\n",
       "      <td>-99.0</td>\n",
       "      <td>5</td>\n",
       "      <td>1.0</td>\n",
       "    </tr>\n",
       "    <tr>\n",
       "      <th>...</th>\n",
       "      <td>...</td>\n",
       "      <td>...</td>\n",
       "      <td>...</td>\n",
       "      <td>...</td>\n",
       "      <td>...</td>\n",
       "      <td>...</td>\n",
       "      <td>...</td>\n",
       "      <td>...</td>\n",
       "      <td>...</td>\n",
       "      <td>...</td>\n",
       "      <td>...</td>\n",
       "      <td>...</td>\n",
       "      <td>...</td>\n",
       "    </tr>\n",
       "    <tr>\n",
       "      <th>181600</th>\n",
       "      <td>2017</td>\n",
       "      <td>12</td>\n",
       "      <td>28</td>\n",
       "      <td>0</td>\n",
       "      <td>4</td>\n",
       "      <td>6</td>\n",
       "      <td>1</td>\n",
       "      <td>0</td>\n",
       "      <td>10</td>\n",
       "      <td>4.0</td>\n",
       "      <td>-99.0</td>\n",
       "      <td>13</td>\n",
       "      <td>4.0</td>\n",
       "    </tr>\n",
       "    <tr>\n",
       "      <th>181619</th>\n",
       "      <td>2017</td>\n",
       "      <td>12</td>\n",
       "      <td>28</td>\n",
       "      <td>0</td>\n",
       "      <td>4</td>\n",
       "      <td>6</td>\n",
       "      <td>1</td>\n",
       "      <td>0</td>\n",
       "      <td>10</td>\n",
       "      <td>4.0</td>\n",
       "      <td>-99.0</td>\n",
       "      <td>13</td>\n",
       "      <td>3.0</td>\n",
       "    </tr>\n",
       "    <tr>\n",
       "      <th>181651</th>\n",
       "      <td>2017</td>\n",
       "      <td>12</td>\n",
       "      <td>30</td>\n",
       "      <td>0</td>\n",
       "      <td>4</td>\n",
       "      <td>6</td>\n",
       "      <td>1</td>\n",
       "      <td>0</td>\n",
       "      <td>7</td>\n",
       "      <td>4.0</td>\n",
       "      <td>-99.0</td>\n",
       "      <td>13</td>\n",
       "      <td>11.0</td>\n",
       "    </tr>\n",
       "    <tr>\n",
       "      <th>181676</th>\n",
       "      <td>2017</td>\n",
       "      <td>12</td>\n",
       "      <td>31</td>\n",
       "      <td>0</td>\n",
       "      <td>4</td>\n",
       "      <td>6</td>\n",
       "      <td>1</td>\n",
       "      <td>0</td>\n",
       "      <td>10</td>\n",
       "      <td>4.0</td>\n",
       "      <td>-99.0</td>\n",
       "      <td>6</td>\n",
       "      <td>5.0</td>\n",
       "    </tr>\n",
       "    <tr>\n",
       "      <th>181683</th>\n",
       "      <td>2017</td>\n",
       "      <td>12</td>\n",
       "      <td>31</td>\n",
       "      <td>0</td>\n",
       "      <td>4</td>\n",
       "      <td>6</td>\n",
       "      <td>1</td>\n",
       "      <td>0</td>\n",
       "      <td>14</td>\n",
       "      <td>4.0</td>\n",
       "      <td>-99.0</td>\n",
       "      <td>5</td>\n",
       "      <td>6.0</td>\n",
       "    </tr>\n",
       "  </tbody>\n",
       "</table>\n",
       "<p>6433 rows × 13 columns</p>\n",
       "</div>"
      ],
      "text/plain": [
       "        iyear  imonth  iday  extended  country  region  success  suicide  \\\n",
       "71682    2001       1     7         1        4       6        1        0   \n",
       "73116    2001       9    10         0        4       6        1        1   \n",
       "73971    2002       4    13         0        4       6        0        0   \n",
       "74412    2002       8     0         0        4       6        1        0   \n",
       "75185    2003       2    25         0        4       6        1        0   \n",
       "...       ...     ...   ...       ...      ...     ...      ...      ...   \n",
       "181600   2017      12    28         0        4       6        1        0   \n",
       "181619   2017      12    28         0        4       6        1        0   \n",
       "181651   2017      12    30         0        4       6        1        0   \n",
       "181676   2017      12    31         0        4       6        1        0   \n",
       "181683   2017      12    31         0        4       6        1        0   \n",
       "\n",
       "        targtype1_txt  natlty1  nperps  weaptype1  nkill  \n",
       "71682              11      4.0   -99.0          5  150.0  \n",
       "73116               5      4.0     2.0          6    3.0  \n",
       "73971               7    217.0    20.0          5    5.0  \n",
       "74412               2      4.0   -99.0          6    0.0  \n",
       "75185               5      4.0   -99.0          5    1.0  \n",
       "...               ...      ...     ...        ...    ...  \n",
       "181600             10      4.0   -99.0         13    4.0  \n",
       "181619             10      4.0   -99.0         13    3.0  \n",
       "181651              7      4.0   -99.0         13   11.0  \n",
       "181676             10      4.0   -99.0          6    5.0  \n",
       "181683             14      4.0   -99.0          5    6.0  \n",
       "\n",
       "[6433 rows x 13 columns]"
      ]
     },
     "execution_count": 280,
     "metadata": {},
     "output_type": "execute_result"
    }
   ],
   "source": [
    "taliban"
   ]
  },
  {
   "cell_type": "markdown",
   "metadata": {},
   "source": [
    "### Feature Data and Target Sets "
   ]
  },
  {
   "cell_type": "code",
   "execution_count": 281,
   "metadata": {},
   "outputs": [],
   "source": [
    "# success, suicide, targettype_txt"
   ]
  },
  {
   "cell_type": "code",
   "execution_count": 282,
   "metadata": {},
   "outputs": [],
   "source": [
    "# success\n",
    "X_success = taliban.drop('success',axis=1)\n",
    "y_success = taliban['success']\n",
    "\n",
    "# suicide\n",
    "X_suicide = taliban.drop('suicide',axis=1)\n",
    "y_suicide = taliban['suicide']\n",
    "\n",
    "# targettype_txt\n",
    "X_target = taliban.drop('targtype1_txt',axis=1)\n",
    "y_target = taliban['targtype1_txt']"
   ]
  },
  {
   "cell_type": "code",
   "execution_count": 283,
   "metadata": {},
   "outputs": [],
   "source": [
    "# success \n",
    "Sets = [(X_success, y_success), (X_suicide, y_suicide), (X_target, y_target)]"
   ]
  },
  {
   "cell_type": "code",
   "execution_count": 284,
   "metadata": {},
   "outputs": [
    {
     "name": "stdout",
     "output_type": "stream",
     "text": [
      "(6433, 12) (6433,)\n",
      "(6433, 12) (6433,)\n",
      "(6433, 12) (6433,)\n"
     ]
    }
   ],
   "source": [
    "# 3 sets\n",
    "for x_train, y_train in Sets:\n",
    "    print(x_train.shape, y_train.shape)"
   ]
  },
  {
   "cell_type": "markdown",
   "metadata": {},
   "source": [
    "### Details \n",
    "There are three pairs of Feature Data and Target label, `success, suicide, target_type` we are essentially training a network to predict 3 labels/targets\n",
    "***\n",
    "### Instructions Further\n",
    "***\n",
    "* The ___3 pairs___ of feature data are in a list of tuples called `Sets` Extract each set iteratively or manually \n",
    "* Normalise the X_train, y_train and X_test, y_test pairs with either `MinMaxScaler` or `StandardScaler`\n",
    "* Build a Network with `tensorflow.keras` and Build the Model"
   ]
  },
  {
   "cell_type": "code",
   "execution_count": 285,
   "metadata": {},
   "outputs": [],
   "source": [
    "from sklearn.model_selection import train_test_split"
   ]
  },
  {
   "cell_type": "code",
   "execution_count": 286,
   "metadata": {},
   "outputs": [],
   "source": [
    " X_train, X_test, y_train, y_test = train_test_split(X_success, y_success, test_size=0.2, random_state=42)"
   ]
  },
  {
   "cell_type": "code",
   "execution_count": 287,
   "metadata": {},
   "outputs": [],
   "source": [
    "from sklearn.preprocessing import StandardScaler"
   ]
  },
  {
   "cell_type": "code",
   "execution_count": 288,
   "metadata": {},
   "outputs": [
    {
     "data": {
      "text/plain": [
       "(5146, 12)"
      ]
     },
     "execution_count": 288,
     "metadata": {},
     "output_type": "execute_result"
    }
   ],
   "source": [
    "scaler = StandardScaler()\n",
    "X_train = scaler.fit_transform(X_train)\n",
    "X_train.shape"
   ]
  },
  {
   "cell_type": "code",
   "execution_count": 289,
   "metadata": {},
   "outputs": [],
   "source": [
    "from tensorflow import keras"
   ]
  },
  {
   "cell_type": "code",
   "execution_count": 290,
   "metadata": {},
   "outputs": [],
   "source": [
    "shape = X_train.shape\n",
    "model = keras.models.Sequential()\n",
    "# model.add(keras.layers.Flatten(input_shape = [5146, 12]))\n",
    "model.add(keras.layers.Dense(300, activation = \"relu\"))\n",
    "model.add(keras.layers.Dense(100, activation = \"relu\"))\n",
    "model.add(keras.layers.Dense(1, activation = \"sigmoid\"))"
   ]
  },
  {
   "cell_type": "code",
   "execution_count": null,
   "metadata": {
    "scrolled": true
   },
   "outputs": [],
   "source": []
  },
  {
   "cell_type": "code",
   "execution_count": 291,
   "metadata": {},
   "outputs": [],
   "source": [
    "model.compile(loss = \"binary_crossentropy\", optimizer=\"sgd\", metrics=[\"accuracy\"])"
   ]
  },
  {
   "cell_type": "markdown",
   "metadata": {},
   "source": [
    "# Model - 'Success'"
   ]
  },
  {
   "cell_type": "code",
   "execution_count": 292,
   "metadata": {},
   "outputs": [
    {
     "name": "stdout",
     "output_type": "stream",
     "text": [
      "Epoch 1/30\n",
      "161/161 [==============================] - 2s 6ms/step - loss: 0.5595 - accuracy: 0.7455 - val_loss: 64.3594 - val_accuracy: 0.9037\n",
      "Epoch 2/30\n",
      "161/161 [==============================] - 0s 3ms/step - loss: 0.3422 - accuracy: 0.8915 - val_loss: 68.8007 - val_accuracy: 0.9037\n",
      "Epoch 3/30\n",
      "161/161 [==============================] - 1s 5ms/step - loss: 0.3237 - accuracy: 0.8892 - val_loss: 58.8011 - val_accuracy: 0.9037\n",
      "Epoch 4/30\n",
      "161/161 [==============================] - 0s 3ms/step - loss: 0.3138 - accuracy: 0.8943 - val_loss: 48.8607 - val_accuracy: 0.9037\n",
      "Epoch 5/30\n",
      "161/161 [==============================] - 1s 8ms/step - loss: 0.3110 - accuracy: 0.8880 - val_loss: 41.1593 - val_accuracy: 0.9037\n",
      "Epoch 6/30\n",
      "161/161 [==============================] - 1s 4ms/step - loss: 0.3019 - accuracy: 0.8925 - val_loss: 32.6641 - val_accuracy: 0.9037\n",
      "Epoch 7/30\n",
      "161/161 [==============================] - 1s 6ms/step - loss: 0.3231 - accuracy: 0.8837 - val_loss: 25.9822 - val_accuracy: 0.9037\n",
      "Epoch 8/30\n",
      "161/161 [==============================] - 1s 6ms/step - loss: 0.3075 - accuracy: 0.8887 - val_loss: 19.8326 - val_accuracy: 0.9037\n",
      "Epoch 9/30\n",
      "161/161 [==============================] - 1s 5ms/step - loss: 0.2943 - accuracy: 0.8961 - val_loss: 13.5804 - val_accuracy: 0.9037\n",
      "Epoch 10/30\n",
      "161/161 [==============================] - 1s 5ms/step - loss: 0.3091 - accuracy: 0.8859 - val_loss: 9.6575 - val_accuracy: 0.9037\n",
      "Epoch 11/30\n",
      "161/161 [==============================] - 1s 5ms/step - loss: 0.3068 - accuracy: 0.8891 - val_loss: 4.5813 - val_accuracy: 0.9037\n",
      "Epoch 12/30\n",
      "161/161 [==============================] - 1s 4ms/step - loss: 0.2816 - accuracy: 0.9011 - val_loss: 6.5975 - val_accuracy: 0.1904\n",
      "Epoch 13/30\n",
      "161/161 [==============================] - 1s 5ms/step - loss: 0.3020 - accuracy: 0.8880 - val_loss: 28.4117 - val_accuracy: 0.1686\n",
      "Epoch 14/30\n",
      "161/161 [==============================] - 1s 3ms/step - loss: 0.2966 - accuracy: 0.8915 - val_loss: 65.3849 - val_accuracy: 0.1647\n",
      "Epoch 15/30\n",
      "161/161 [==============================] - 1s 5ms/step - loss: 0.2951 - accuracy: 0.8924 - val_loss: 91.3824 - val_accuracy: 0.0963\n",
      "Epoch 16/30\n",
      "161/161 [==============================] - 1s 4ms/step - loss: 0.3008 - accuracy: 0.8889 - val_loss: 119.9139 - val_accuracy: 0.0963\n",
      "Epoch 17/30\n",
      "161/161 [==============================] - 1s 5ms/step - loss: 0.3023 - accuracy: 0.8930 - val_loss: 145.5784 - val_accuracy: 0.0963\n",
      "Epoch 18/30\n",
      "161/161 [==============================] - 1s 4ms/step - loss: 0.2942 - accuracy: 0.8919 - val_loss: 166.3097 - val_accuracy: 0.0963\n",
      "Epoch 19/30\n",
      "161/161 [==============================] - 1s 4ms/step - loss: 0.2932 - accuracy: 0.8965 - val_loss: 191.8454 - val_accuracy: 0.0963\n",
      "Epoch 20/30\n",
      "161/161 [==============================] - 1s 3ms/step - loss: 0.3017 - accuracy: 0.8901 - val_loss: 209.6786 - val_accuracy: 0.0963\n",
      "Epoch 21/30\n",
      "161/161 [==============================] - 1s 5ms/step - loss: 0.2940 - accuracy: 0.8963 - val_loss: 231.8740 - val_accuracy: 0.0963\n",
      "Epoch 22/30\n",
      "161/161 [==============================] - 1s 5ms/step - loss: 0.2940 - accuracy: 0.8964 - val_loss: 257.3489 - val_accuracy: 0.0963\n",
      "Epoch 23/30\n",
      "161/161 [==============================] - 1s 5ms/step - loss: 0.2921 - accuracy: 0.8903 - val_loss: 270.9856 - val_accuracy: 0.0963\n",
      "Epoch 24/30\n",
      "161/161 [==============================] - 1s 4ms/step - loss: 0.2931 - accuracy: 0.8984 - val_loss: 305.0257 - val_accuracy: 0.0963\n",
      "Epoch 25/30\n",
      "161/161 [==============================] - 1s 4ms/step - loss: 0.2873 - accuracy: 0.8994 - val_loss: 317.0097 - val_accuracy: 0.0963\n",
      "Epoch 26/30\n",
      "161/161 [==============================] - 1s 5ms/step - loss: 0.2805 - accuracy: 0.9008 - val_loss: 336.1964 - val_accuracy: 0.0963\n",
      "Epoch 27/30\n",
      "161/161 [==============================] - 1s 5ms/step - loss: 0.2809 - accuracy: 0.8998 - val_loss: 354.0339 - val_accuracy: 0.0963\n",
      "Epoch 28/30\n",
      "161/161 [==============================] - 1s 4ms/step - loss: 0.2842 - accuracy: 0.8967 - val_loss: 365.6836 - val_accuracy: 0.0963\n",
      "Epoch 29/30\n",
      "161/161 [==============================] - 1s 4ms/step - loss: 0.2822 - accuracy: 0.8983 - val_loss: 402.0987 - val_accuracy: 0.0963\n",
      "Epoch 30/30\n",
      "161/161 [==============================] - 1s 5ms/step - loss: 0.2791 - accuracy: 0.9010 - val_loss: 417.3591 - val_accuracy: 0.0963\n"
     ]
    }
   ],
   "source": [
    "history = model.fit(X_train, y_train, epochs=30, validation_data= (X_test, y_test))"
   ]
  },
  {
   "cell_type": "code",
   "execution_count": 293,
   "metadata": {},
   "outputs": [
    {
     "name": "stdout",
     "output_type": "stream",
     "text": [
      "Model: \"sequential_6\"\n",
      "_________________________________________________________________\n",
      "Layer (type)                 Output Shape              Param #   \n",
      "=================================================================\n",
      "dense_18 (Dense)             (None, 300)               3900      \n",
      "_________________________________________________________________\n",
      "dense_19 (Dense)             (None, 100)               30100     \n",
      "_________________________________________________________________\n",
      "dense_20 (Dense)             (None, 1)                 101       \n",
      "=================================================================\n",
      "Total params: 34,101\n",
      "Trainable params: 34,101\n",
      "Non-trainable params: 0\n",
      "_________________________________________________________________\n"
     ]
    }
   ],
   "source": [
    "model.summary()"
   ]
  },
  {
   "cell_type": "code",
   "execution_count": 294,
   "metadata": {},
   "outputs": [
    {
     "data": {
      "text/plain": [
       "<matplotlib.axes._subplots.AxesSubplot at 0x1f975a770a0>"
      ]
     },
     "execution_count": 294,
     "metadata": {},
     "output_type": "execute_result"
    },
    {
     "data": {
      "image/png": "[encoded data removed]",
      "text/plain": [
       "<Figure size 432x288 with 1 Axes>"
      ]
     },
     "metadata": {
      "needs_background": "light"
     },
     "output_type": "display_data"
    }
   ],
   "source": [
    "history = pd.DataFrame(model.history.history)\n",
    "history.loss.plot()"
   ]
  },
  {
   "cell_type": "code",
   "execution_count": 295,
   "metadata": {},
   "outputs": [
    {
     "data": {
      "text/plain": [
       "<matplotlib.axes._subplots.AxesSubplot at 0x1f96b34de80>"
      ]
     },
     "execution_count": 295,
     "metadata": {},
     "output_type": "execute_result"
    },
    {
     "data": {
      "image/png": "[encoded data removed]",
      "text/plain": [
       "<Figure size 432x288 with 1 Axes>"
      ]
     },
     "metadata": {
      "needs_background": "light"
     },
     "output_type": "display_data"
    }
   ],
   "source": [
    "history.accuracy.plot()"
   ]
  },
  {
   "cell_type": "code",
   "execution_count": 296,
   "metadata": {},
   "outputs": [
    {
     "data": {
      "text/plain": [
       "<matplotlib.axes._subplots.AxesSubplot at 0x1f97536c370>"
      ]
     },
     "execution_count": 296,
     "metadata": {},
     "output_type": "execute_result"
    },
    {
     "data": {
      "image/png": "[encoded data removed]",
      "text/plain": [
       "<Figure size 432x288 with 1 Axes>"
      ]
     },
     "metadata": {
      "needs_background": "light"
     },
     "output_type": "display_data"
    }
   ],
   "source": [
    "history.val_loss.plot()"
   ]
  },
  {
   "cell_type": "code",
   "execution_count": 297,
   "metadata": {},
   "outputs": [
    {
     "data": {
      "text/plain": [
       "<matplotlib.axes._subplots.AxesSubplot at 0x1f968146a00>"
      ]
     },
     "execution_count": 297,
     "metadata": {},
     "output_type": "execute_result"
    },
    {
     "data": {
      "image/png": "[encoded data removed]",
      "text/plain": [
       "<Figure size 432x288 with 1 Axes>"
      ]
     },
     "metadata": {
      "needs_background": "light"
     },
     "output_type": "display_data"
    }
   ],
   "source": [
    "history.val_accuracy.plot()"
   ]
  },
  {
   "cell_type": "code",
   "execution_count": 298,
   "metadata": {},
   "outputs": [
    {
     "name": "stdout",
     "output_type": "stream",
     "text": [
      "41/41 [==============================] - 0s 2ms/step - loss: 417.3591 - accuracy: 0.0963\n"
     ]
    },
    {
     "data": {
      "text/plain": [
       "[417.35906982421875, 0.0963480994105339]"
      ]
     },
     "execution_count": 298,
     "metadata": {},
     "output_type": "execute_result"
    }
   ],
   "source": [
    "model.evaluate(X_test, y_test)"
   ]
  },
  {
   "cell_type": "code",
   "execution_count": null,
   "metadata": {},
   "outputs": [],
   "source": []
  },
  {
   "cell_type": "markdown",
   "metadata": {},
   "source": [
    "# Model - 'Suicide'"
   ]
  },
  {
   "cell_type": "code",
   "execution_count": 299,
   "metadata": {
    "scrolled": true
   },
   "outputs": [
    {
     "data": {
      "text/plain": [
       "(5146, 12)"
      ]
     },
     "execution_count": 299,
     "metadata": {},
     "output_type": "execute_result"
    }
   ],
   "source": [
    "X_train_suicide, X_test_suicide, y_train_suicide, y_test_suicide = train_test_split(X_suicide, y_suicide, test_size=0.2, random_state=42)\n",
    "X_train_suicide = scaler.fit_transform(X_train_suicide)\n",
    "X_train_suicide.shape"
   ]
  },
  {
   "cell_type": "code",
   "execution_count": 300,
   "metadata": {},
   "outputs": [
    {
     "name": "stdout",
     "output_type": "stream",
     "text": [
      "Epoch 1/30\n",
      "161/161 [==============================] - 1s 5ms/step - loss: 0.5911 - accuracy: 0.7258 - val_loss: 211.2849 - val_accuracy: 0.8819\n",
      "Epoch 2/30\n",
      "161/161 [==============================] - 0s 3ms/step - loss: 0.2721 - accuracy: 0.9001 - val_loss: 235.1016 - val_accuracy: 0.8819\n",
      "Epoch 3/30\n",
      "161/161 [==============================] - 1s 4ms/step - loss: 0.2400 - accuracy: 0.9007 - val_loss: 244.7386 - val_accuracy: 0.8819\n",
      "Epoch 4/30\n",
      "161/161 [==============================] - 1s 5ms/step - loss: 0.2213 - accuracy: 0.9036 - val_loss: 252.5911 - val_accuracy: 0.8819\n",
      "Epoch 5/30\n",
      "161/161 [==============================] - 1s 5ms/step - loss: 0.2079 - accuracy: 0.9054 - val_loss: 254.1705 - val_accuracy: 0.8819\n",
      "Epoch 6/30\n",
      "161/161 [==============================] - 1s 4ms/step - loss: 0.1970 - accuracy: 0.9092 - val_loss: 255.8086 - val_accuracy: 0.8819\n",
      "Epoch 7/30\n",
      "161/161 [==============================] - 1s 4ms/step - loss: 0.1881 - accuracy: 0.9114 - val_loss: 256.6455 - val_accuracy: 0.8819\n",
      "Epoch 8/30\n",
      "161/161 [==============================] - 1s 4ms/step - loss: 0.1805 - accuracy: 0.9182 - val_loss: 255.8904 - val_accuracy: 0.8819\n",
      "Epoch 9/30\n",
      "161/161 [==============================] - 1s 4ms/step - loss: 0.1743 - accuracy: 0.9232 - val_loss: 254.5045 - val_accuracy: 0.8819\n",
      "Epoch 10/30\n",
      "161/161 [==============================] - 1s 5ms/step - loss: 0.1692 - accuracy: 0.9256 - val_loss: 253.4686 - val_accuracy: 0.8819\n",
      "Epoch 11/30\n",
      "161/161 [==============================] - 1s 6ms/step - loss: 0.1650 - accuracy: 0.9262 - val_loss: 251.1362 - val_accuracy: 0.8819\n",
      "Epoch 12/30\n",
      "161/161 [==============================] - 1s 5ms/step - loss: 0.1617 - accuracy: 0.9289 - val_loss: 249.4472 - val_accuracy: 0.8819\n",
      "Epoch 13/30\n",
      "161/161 [==============================] - 1s 5ms/step - loss: 0.1588 - accuracy: 0.9304 - val_loss: 248.5220 - val_accuracy: 0.8819\n",
      "Epoch 14/30\n",
      "161/161 [==============================] - 1s 4ms/step - loss: 0.1562 - accuracy: 0.9341 - val_loss: 247.6188 - val_accuracy: 0.8819\n",
      "Epoch 15/30\n",
      "161/161 [==============================] - 1s 5ms/step - loss: 0.1542 - accuracy: 0.9345 - val_loss: 244.3952 - val_accuracy: 0.8819\n",
      "Epoch 16/30\n",
      "161/161 [==============================] - 1s 5ms/step - loss: 0.1522 - accuracy: 0.9361 - val_loss: 242.6321 - val_accuracy: 0.8819\n",
      "Epoch 17/30\n",
      "161/161 [==============================] - 1s 4ms/step - loss: 0.1505 - accuracy: 0.9378 - val_loss: 241.7874 - val_accuracy: 0.8819\n",
      "Epoch 18/30\n",
      "161/161 [==============================] - 1s 6ms/step - loss: 0.1487 - accuracy: 0.9394 - val_loss: 239.9489 - val_accuracy: 0.8819\n",
      "Epoch 19/30\n",
      "161/161 [==============================] - 1s 5ms/step - loss: 0.1472 - accuracy: 0.9401 - val_loss: 238.8335 - val_accuracy: 0.8819\n",
      "Epoch 20/30\n",
      "161/161 [==============================] - 1s 5ms/step - loss: 0.1456 - accuracy: 0.9413 - val_loss: 237.3017 - val_accuracy: 0.8819\n",
      "Epoch 21/30\n",
      "161/161 [==============================] - 1s 4ms/step - loss: 0.1442 - accuracy: 0.9413 - val_loss: 237.4142 - val_accuracy: 0.8819\n",
      "Epoch 22/30\n",
      "161/161 [==============================] - 1s 5ms/step - loss: 0.1428 - accuracy: 0.9417 - val_loss: 235.5003 - val_accuracy: 0.8819\n",
      "Epoch 23/30\n",
      "161/161 [==============================] - 1s 3ms/step - loss: 0.1415 - accuracy: 0.9423 - val_loss: 233.3963 - val_accuracy: 0.8819\n",
      "Epoch 24/30\n",
      "161/161 [==============================] - 1s 4ms/step - loss: 0.1401 - accuracy: 0.9442 - val_loss: 230.5083 - val_accuracy: 0.8819\n",
      "Epoch 25/30\n",
      "161/161 [==============================] - 1s 5ms/step - loss: 0.1387 - accuracy: 0.9448 - val_loss: 231.0680 - val_accuracy: 0.8819\n",
      "Epoch 26/30\n",
      "161/161 [==============================] - 1s 5ms/step - loss: 0.1376 - accuracy: 0.9456 - val_loss: 227.7742 - val_accuracy: 0.8819\n",
      "Epoch 27/30\n",
      "161/161 [==============================] - 1s 6ms/step - loss: 0.1361 - accuracy: 0.9460 - val_loss: 227.1372 - val_accuracy: 0.8819\n",
      "Epoch 28/30\n",
      "161/161 [==============================] - 1s 5ms/step - loss: 0.1349 - accuracy: 0.9475 - val_loss: 226.1886 - val_accuracy: 0.8819\n",
      "Epoch 29/30\n",
      "161/161 [==============================] - 1s 4ms/step - loss: 0.1335 - accuracy: 0.9497 - val_loss: 226.6556 - val_accuracy: 0.8819\n",
      "Epoch 30/30\n",
      "161/161 [==============================] - 1s 4ms/step - loss: 0.1323 - accuracy: 0.9483 - val_loss: 222.7573 - val_accuracy: 0.8819\n"
     ]
    }
   ],
   "source": [
    "history_suicide = model.fit(X_train_suicide, y_train_suicide, epochs=30, validation_data=(X_test_suicide, y_test_suicide))"
   ]
  },
  {
   "cell_type": "code",
   "execution_count": 301,
   "metadata": {},
   "outputs": [],
   "source": [
    "history_suicide = pd.DataFrame(model.history.history)"
   ]
  },
  {
   "cell_type": "code",
   "execution_count": 302,
   "metadata": {},
   "outputs": [
    {
     "data": {
      "text/plain": [
       "<matplotlib.axes._subplots.AxesSubplot at 0x1f9640eeca0>"
      ]
     },
     "execution_count": 302,
     "metadata": {},
     "output_type": "execute_result"
    },
    {
     "data": {
      "image/png": "[encoded data removed]",
      "text/plain": [
       "<Figure size 432x288 with 1 Axes>"
      ]
     },
     "metadata": {
      "needs_background": "light"
     },
     "output_type": "display_data"
    }
   ],
   "source": [
    "history_suicide.loss.plot()"
   ]
  },
  {
   "cell_type": "code",
   "execution_count": 303,
   "metadata": {},
   "outputs": [
    {
     "data": {
      "text/plain": [
       "<matplotlib.axes._subplots.AxesSubplot at 0x1f96fb6ddf0>"
      ]
     },
     "execution_count": 303,
     "metadata": {},
     "output_type": "execute_result"
    },
    {
     "data": {
      "image/png": "[encoded data removed]",
      "text/plain": [
       "<Figure size 432x288 with 1 Axes>"
      ]
     },
     "metadata": {
      "needs_background": "light"
     },
     "output_type": "display_data"
    }
   ],
   "source": [
    "history_suicide.accuracy.plot()"
   ]
  },
  {
   "cell_type": "code",
   "execution_count": 304,
   "metadata": {},
   "outputs": [
    {
     "data": {
      "text/plain": [
       "<matplotlib.axes._subplots.AxesSubplot at 0x1f963ee03d0>"
      ]
     },
     "execution_count": 304,
     "metadata": {},
     "output_type": "execute_result"
    },
    {
     "data": {
      "image/png": "[encoded data removed]",
      "text/plain": [
       "<Figure size 432x288 with 1 Axes>"
      ]
     },
     "metadata": {
      "needs_background": "light"
     },
     "output_type": "display_data"
    }
   ],
   "source": [
    "history_suicide.val_accuracy.plot()"
   ]
  },
  {
   "cell_type": "code",
   "execution_count": 305,
   "metadata": {},
   "outputs": [
    {
     "data": {
      "text/plain": [
       "<matplotlib.axes._subplots.AxesSubplot at 0x1f968133f10>"
      ]
     },
     "execution_count": 305,
     "metadata": {},
     "output_type": "execute_result"
    },
    {
     "data": {
      "image/png": "[encoded data removed]",
      "text/plain": [
       "<Figure size 432x288 with 1 Axes>"
      ]
     },
     "metadata": {
      "needs_background": "light"
     },
     "output_type": "display_data"
    }
   ],
   "source": [
    "history_suicide.val_loss.plot()"
   ]
  },
  {
   "cell_type": "code",
   "execution_count": 306,
   "metadata": {},
   "outputs": [
    {
     "name": "stdout",
     "output_type": "stream",
     "text": [
      "41/41 [==============================] - 0s 2ms/step - loss: 222.7573 - accuracy: 0.8819\n"
     ]
    },
    {
     "data": {
      "text/plain": [
       "[222.75733947753906, 0.881895899772644]"
      ]
     },
     "execution_count": 306,
     "metadata": {},
     "output_type": "execute_result"
    }
   ],
   "source": [
    "model.evaluate(X_test_suicide, y_test_suicide)"
   ]
  },
  {
   "cell_type": "markdown",
   "metadata": {},
   "source": [
    "# Model - 'Target type'"
   ]
  },
  {
   "cell_type": "code",
   "execution_count": 307,
   "metadata": {},
   "outputs": [
    {
     "data": {
      "text/plain": [
       "10    2294\n",
       "7     1339\n",
       "11    1237\n",
       "5      801\n",
       "1      185\n",
       "2      108\n",
       "16      91\n",
       "12      79\n",
       "14      70\n",
       "8       58\n",
       "4       45\n",
       "13      27\n",
       "0       25\n",
       "18      22\n",
       "6       20\n",
       "17      10\n",
       "3        8\n",
       "9        6\n",
       "19       5\n",
       "15       3\n",
       "Name: targtype1_txt, dtype: int64"
      ]
     },
     "execution_count": 307,
     "metadata": {},
     "output_type": "execute_result"
    }
   ],
   "source": [
    "taliban['targtype1_txt'].value_counts()"
   ]
  },
  {
   "cell_type": "code",
   "execution_count": 308,
   "metadata": {},
   "outputs": [],
   "source": [
    "shape = X_train.shape\n",
    "model = keras.models.Sequential()\n",
    "model.add(keras.layers.Dense(300, activation = \"relu\"))\n",
    "model.add(keras.layers.Dense(100, activation = \"relu\"))\n",
    "model.add(keras.layers.Dense(20, activation = \"softmax\"))"
   ]
  },
  {
   "cell_type": "code",
   "execution_count": 309,
   "metadata": {},
   "outputs": [],
   "source": [
    "X_train_target, X_test_target, y_train_target, y_test_target = train_test_split(X_target, y_target, test_size=0.2, random_state=42)\n",
    "X_train_target = scaler.fit_transform(X_train_target)\n",
    "X_train_target.shape\n",
    "model.compile(loss = \"sparse_categorical_crossentropy\", optimizer=\"sgd\", metrics=[\"accuracy\"])"
   ]
  },
  {
   "cell_type": "code",
   "execution_count": 310,
   "metadata": {},
   "outputs": [
    {
     "name": "stdout",
     "output_type": "stream",
     "text": [
      "Epoch 1/30\n",
      "161/161 [==============================] - 2s 7ms/step - loss: 2.7330 - accuracy: 0.2638 - val_loss: 477.1788 - val_accuracy: 0.3388\n",
      "Epoch 2/30\n",
      "161/161 [==============================] - 1s 4ms/step - loss: 1.9193 - accuracy: 0.3999 - val_loss: 555.2888 - val_accuracy: 0.3388\n",
      "Epoch 3/30\n",
      "161/161 [==============================] - 1s 4ms/step - loss: 1.7275 - accuracy: 0.4382 - val_loss: 530.6830 - val_accuracy: 0.3388\n",
      "Epoch 4/30\n",
      "161/161 [==============================] - 1s 5ms/step - loss: 1.6845 - accuracy: 0.4405 - val_loss: 517.9877 - val_accuracy: 0.4071\n",
      "Epoch 5/30\n",
      "161/161 [==============================] - 1s 3ms/step - loss: 1.6596 - accuracy: 0.4350 - val_loss: 485.7796 - val_accuracy: 0.4079\n",
      "Epoch 6/30\n",
      "161/161 [==============================] - 1s 5ms/step - loss: 1.6797 - accuracy: 0.4478 - val_loss: 504.6544 - val_accuracy: 0.2176\n",
      "Epoch 7/30\n",
      "161/161 [==============================] - 1s 4ms/step - loss: 1.6102 - accuracy: 0.4528 - val_loss: 488.3482 - val_accuracy: 0.2176\n",
      "Epoch 8/30\n",
      "161/161 [==============================] - 0s 3ms/step - loss: 1.5919 - accuracy: 0.4514 - val_loss: 507.9666 - val_accuracy: 0.2176\n",
      "Epoch 9/30\n",
      "161/161 [==============================] - 1s 5ms/step - loss: 1.5978 - accuracy: 0.4549 - val_loss: 525.9489 - val_accuracy: 0.2176\n",
      "Epoch 10/30\n",
      "161/161 [==============================] - 1s 4ms/step - loss: 1.5917 - accuracy: 0.4594 - val_loss: 575.0597 - val_accuracy: 0.2176\n",
      "Epoch 11/30\n",
      "161/161 [==============================] - 1s 4ms/step - loss: 1.5844 - accuracy: 0.4552 - val_loss: 558.1349 - val_accuracy: 0.2176\n",
      "Epoch 12/30\n",
      "161/161 [==============================] - 1s 4ms/step - loss: 1.5563 - accuracy: 0.4606 - val_loss: 521.0729 - val_accuracy: 0.2176\n",
      "Epoch 13/30\n",
      "161/161 [==============================] - 1s 5ms/step - loss: 1.5595 - accuracy: 0.4587 - val_loss: 564.1176 - val_accuracy: 0.2176\n",
      "Epoch 14/30\n",
      "161/161 [==============================] - 0s 3ms/step - loss: 1.5712 - accuracy: 0.4557 - val_loss: 548.4630 - val_accuracy: 0.2176\n",
      "Epoch 15/30\n",
      "161/161 [==============================] - 1s 4ms/step - loss: 1.5681 - accuracy: 0.4543 - val_loss: 570.7346 - val_accuracy: 0.2176\n",
      "Epoch 16/30\n",
      "161/161 [==============================] - 1s 4ms/step - loss: 1.5342 - accuracy: 0.4719 - val_loss: 579.1848 - val_accuracy: 0.2176\n",
      "Epoch 17/30\n",
      "161/161 [==============================] - 1s 3ms/step - loss: 1.5363 - accuracy: 0.4691 - val_loss: 516.3563 - val_accuracy: 0.2176\n",
      "Epoch 18/30\n",
      "161/161 [==============================] - 1s 5ms/step - loss: 1.5521 - accuracy: 0.4616 - val_loss: 542.3156 - val_accuracy: 0.2176\n",
      "Epoch 19/30\n",
      "161/161 [==============================] - 1s 4ms/step - loss: 1.5308 - accuracy: 0.4715 - val_loss: 472.2176 - val_accuracy: 0.2176\n",
      "Epoch 20/30\n",
      "161/161 [==============================] - 0s 3ms/step - loss: 1.5487 - accuracy: 0.4610 - val_loss: 511.0923 - val_accuracy: 0.2176\n",
      "Epoch 21/30\n",
      "161/161 [==============================] - 0s 3ms/step - loss: 1.5567 - accuracy: 0.4718 - val_loss: 508.8404 - val_accuracy: 0.2176\n",
      "Epoch 22/30\n",
      "161/161 [==============================] - 1s 5ms/step - loss: 1.5307 - accuracy: 0.4670 - val_loss: 521.3720 - val_accuracy: 0.2176\n",
      "Epoch 23/30\n",
      "161/161 [==============================] - 1s 3ms/step - loss: 1.5289 - accuracy: 0.4688 - val_loss: 544.9497 - val_accuracy: 0.2176\n",
      "Epoch 24/30\n",
      "161/161 [==============================] - 1s 6ms/step - loss: 1.5448 - accuracy: 0.4727 - val_loss: 492.0372 - val_accuracy: 0.2176\n",
      "Epoch 25/30\n",
      "161/161 [==============================] - 1s 5ms/step - loss: 1.4869 - accuracy: 0.4765 - val_loss: 466.0665 - val_accuracy: 0.2176\n",
      "Epoch 26/30\n",
      "161/161 [==============================] - 1s 4ms/step - loss: 1.5282 - accuracy: 0.4662 - val_loss: 485.5305 - val_accuracy: 0.2176\n",
      "Epoch 27/30\n",
      "161/161 [==============================] - 1s 3ms/step - loss: 1.5168 - accuracy: 0.4711 - val_loss: 441.0631 - val_accuracy: 0.2176\n",
      "Epoch 28/30\n",
      "161/161 [==============================] - 1s 4ms/step - loss: 1.5125 - accuracy: 0.4718 - val_loss: 447.2278 - val_accuracy: 0.2176\n",
      "Epoch 29/30\n",
      "161/161 [==============================] - 1s 7ms/step - loss: 1.5228 - accuracy: 0.4676 - val_loss: 401.7149 - val_accuracy: 0.2611\n",
      "Epoch 30/30\n",
      "161/161 [==============================] - 1s 4ms/step - loss: 1.5157 - accuracy: 0.4771 - val_loss: 435.2373 - val_accuracy: 0.2176\n"
     ]
    }
   ],
   "source": [
    "history_target = model.fit(X_train_target, y_train_target, epochs=30, validation_data=(X_test_target, y_test_target))"
   ]
  },
  {
   "cell_type": "code",
   "execution_count": 311,
   "metadata": {},
   "outputs": [
    {
     "data": {
      "text/plain": [
       "<matplotlib.axes._subplots.AxesSubplot at 0x1f977d4faf0>"
      ]
     },
     "execution_count": 311,
     "metadata": {},
     "output_type": "execute_result"
    },
    {
     "data": {
      "image/png": "[encoded data removed]",
      "text/plain": [
       "<Figure size 432x288 with 1 Axes>"
      ]
     },
     "metadata": {
      "needs_background": "light"
     },
     "output_type": "display_data"
    }
   ],
   "source": [
    "history_target = pd.DataFrame(model.history.history)\n",
    "history_target.loss.plot()"
   ]
  },
  {
   "cell_type": "code",
   "execution_count": 312,
   "metadata": {},
   "outputs": [
    {
     "data": {
      "text/plain": [
       "<matplotlib.axes._subplots.AxesSubplot at 0x1f96412f130>"
      ]
     },
     "execution_count": 312,
     "metadata": {},
     "output_type": "execute_result"
    },
    {
     "data": {
      "image/png": "[encoded data removed]",
      "text/plain": [
       "<Figure size 432x288 with 1 Axes>"
      ]
     },
     "metadata": {
      "needs_background": "light"
     },
     "output_type": "display_data"
    }
   ],
   "source": [
    "history_target.val_loss.plot()"
   ]
  },
  {
   "cell_type": "code",
   "execution_count": 313,
   "metadata": {},
   "outputs": [
    {
     "data": {
      "text/plain": [
       "<matplotlib.axes._subplots.AxesSubplot at 0x1f9681371f0>"
      ]
     },
     "execution_count": 313,
     "metadata": {},
     "output_type": "execute_result"
    },
    {
     "data": {
      "image/png": "[encoded data removed]",
      "text/plain": [
       "<Figure size 432x288 with 1 Axes>"
      ]
     },
     "metadata": {
      "needs_background": "light"
     },
     "output_type": "display_data"
    }
   ],
   "source": [
    "history_target.accuracy.plot()"
   ]
  },
  {
   "cell_type": "code",
   "execution_count": 314,
   "metadata": {},
   "outputs": [
    {
     "data": {
      "text/plain": [
       "<matplotlib.axes._subplots.AxesSubplot at 0x1f97f208f70>"
      ]
     },
     "execution_count": 314,
     "metadata": {},
     "output_type": "execute_result"
    },
    {
     "data": {
      "image/png": "[encoded data removed]",
      "text/plain": [
       "<Figure size 432x288 with 1 Axes>"
      ]
     },
     "metadata": {
      "needs_background": "light"
     },
     "output_type": "display_data"
    }
   ],
   "source": [
    "history_target.val_accuracy.plot()"
   ]
  },
  {
   "cell_type": "code",
   "execution_count": 315,
   "metadata": {},
   "outputs": [
    {
     "name": "stdout",
     "output_type": "stream",
     "text": [
      "41/41 [==============================] - 0s 1ms/step - loss: 435.2373 - accuracy: 0.2176\n"
     ]
    },
    {
     "data": {
      "text/plain": [
       "[435.2373352050781, 0.21756021678447723]"
      ]
     },
     "execution_count": 315,
     "metadata": {},
     "output_type": "execute_result"
    }
   ],
   "source": [
    "model.evaluate(X_test_target, y_test_target)"
   ]
  }
 ],
 "metadata": {
  "kernelspec": {
   "display_name": "Python 3",
   "language": "python",
   "name": "python3"
  },
  "language_info": {
   "codemirror_mode": {
    "name": "ipython",
    "version": 3
   },
   "file_extension": ".py",
   "mimetype": "text/x-python",
   "name": "python",
   "nbconvert_exporter": "python",
   "pygments_lexer": "ipython3",
   "version": "3.8.2"
  }
 },
 "nbformat": 4,
 "nbformat_minor": 4
}
